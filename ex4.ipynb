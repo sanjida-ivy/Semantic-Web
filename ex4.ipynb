{
 "cells": [
  {
   "cell_type": "markdown",
   "metadata": {},
   "source": [
    "<center>\n",
    "    <h1> Semantic Web</h1>\n",
    "    <h1> Exercise 4</h1>\n",
    "</center>"
   ]
  },
  {
   "cell_type": "code",
   "execution_count": 3,
   "metadata": {},
   "outputs": [],
   "source": [
    "%%capture\n",
    "\n",
    "import sys\n",
    "!{sys.executable} -m pip install jupyter-rdfify -U\n",
    "\n",
    "!conda install --override-channels --yes --prefix {sys.prefix} -c conda-forge python-graphviz"
   ]
  },
  {
   "cell_type": "code",
   "execution_count": 5,
   "metadata": {},
   "outputs": [
    {
     "name": "stderr",
     "output_type": "stream",
     "text": [
      "C:\\Users\\Sanjida Ivy\\AppData\\Roaming\\Python\\Python312\\site-packages\\rdflib_jsonld\\__init__.py:9: DeprecationWarning: The rdflib-jsonld package has been integrated into rdflib as of rdflib==6.0.0.  Please remove rdflib-jsonld from your project's dependencies.\n",
      "  warnings.warn(\n"
     ]
    },
    {
     "data": {
      "application/javascript": [
       "\n",
       "    if (typeof IPython !== \"undefined\") {\n",
       "        IPython.CodeCell.options_default.highlight_modes['application/sparql-query'] = {'reg':[/^%%rdf sparql/]};\n",
       "        IPython.CodeCell.options_default.highlight_modes['text/turtle'] = {'reg':[/^%%rdf turtle/, /^%%rdf shex/]};\n",
       "        IPython.CodeCell.options_default.highlight_modes['application/ld+json'] = {'reg':[/^%%rdf json-ld/]};\n",
       "        IPython.notebook.get_cells().map(function(cell){ if (cell.cell_type == 'code'){ cell.auto_highlight(); } });\n",
       "    }\n",
       "    "
      ]
     },
     "metadata": {},
     "output_type": "display_data"
    }
   ],
   "source": [
    "%reload_ext jupyter-rdfify"
   ]
  },
  {
   "cell_type": "code",
   "execution_count": 7,
   "metadata": {},
   "outputs": [],
   "source": [
    "# This cell defines some helpers, imports and strings for tests. Run it!\n",
    "from rdflib import URIRef, BNode, Literal, XSD, RDF, RDFS\n",
    "ex = \"http://example.org/#\"\n",
    "triple = \"({}, {}, {})\"\n",
    "eNotContain = \"Your graph does not contain the triple:\\n{}.\"\n",
    "eBNode = \"The subject of the triple {} should be a blank node but it is {}\"\n",
    "eMultiple = \"Your graph contains multiple triples of the form {}.\"\n",
    "def uri(prefix, name):\n",
    "    return URIRef(ex+name)\n",
    "def st(node):\n",
    "    if isinstance(node, BNode):\n",
    "        return \"blank node\"\n",
    "    else:\n",
    "        return node.n3()\n",
    "def containCheck(g, s, p, o):\n",
    "    assert (s,p,o) in g, eNotContain.format(triple.format(st(s), st(p), st(o)))"
   ]
  },
  {
   "cell_type": "code",
   "execution_count": 9,
   "metadata": {},
   "outputs": [
    {
     "name": "stdout",
     "output_type": "stream",
     "text": [
      "Turtle: Stored prefix.\n"
     ]
    }
   ],
   "source": [
    "%%rdf turtle -p\n",
    "PREFIX rdf: <http://www.w3.org/1999/02/22-rdf-syntax-ns#>\n",
    "PREFIX rdfs: <http://www.w3.org/2000/01/rdf-schema#>\n",
    "PREFIX xsd: <http://www.w3.org/2001/XMLSchema#>\n",
    "PREFIX ex: <http://example.org/#>"
   ]
  },
  {
   "cell_type": "markdown",
   "metadata": {},
   "source": [
    "# Vocabularies/Ontologies and Data Modelling\n",
    "\n",
    "\n",
    "Up to now, all our graphs had very little meaning and could only be understood by humans. This is because we introduced new URIs for concepts and relationships (e.g. ex:capital or ex:Germany) but didn't formally describe them. This makes inferencing and finding similar or associated information difficult. To formally conceptualize our information, we need specialized vocabularies. \n",
    "\n",
    "These vocabularies, called ontologies, provide terms with an agreed upon meaning together with rules and restrictions. Except some meta-ontologies, most ontologies model a specific topic and should only be used in that domain.  \n",
    "Some problems that can be solved using such vocabularies are for example different URIs describing the same resource or a property implying another property.\n",
    "\n",
    "In this exercise, we will take a look at some core ontologies and learn to write our own ontologies."
   ]
  },
  {
   "cell_type": "markdown",
   "metadata": {},
   "source": [
    "# Task 1 - RDF Vocabulary [4 points]\n",
    "\n",
    "RDF is not only a data model but it also defines some URIs for basic data modelling. We already learned of **rdf:type**, which is a very important property expressing the membership of an object to a specified class. But it also introduces some other properties and classes important for data modelling."
   ]
  },
  {
   "cell_type": "markdown",
   "metadata": {},
   "source": [
    "## Reification\n",
    "\n",
    "Adding facts to a graph is very simple but what if we want to add a statement which may not be true? For this we need to treat a triple as an object itself. For example if the butler accuses the gardener of being the murderer, we can't just add the fact:"
   ]
  },
  {
   "cell_type": "code",
   "execution_count": null,
   "metadata": {},
   "outputs": [],
   "source": [
    "%%rdf turtle\n",
    "ex:Gardener a ex:Murderer ."
   ]
  },
  {
   "cell_type": "markdown",
   "metadata": {},
   "source": [
    "as we do not know if the butler tells the truth. But we can reify this triple to make it a statement said by the butler using the properties **rdf:subject, rdf:predicate, rdf:object** and the class **rdf:Statement** which are all terms defined by RDF\n",
    "\n",
    "**Note: The rdf:type abbreviation \"a\" can only be used at predicate position. At other positions use rdf:type.**"
   ]
  },
  {
   "cell_type": "code",
   "execution_count": null,
   "metadata": {},
   "outputs": [],
   "source": [
    "%%rdf turtle\n",
    "\n",
    "ex:Butler ex:said [  \n",
    "rdf:subject ex:Gardener ;  \n",
    "rdf:predicate rdf:type ;  \n",
    "rdf:object ex:Murderer ;  \n",
    "a rdf:Statement\n",
    "] ."
   ]
  },
  {
   "cell_type": "markdown",
   "metadata": {},
   "source": [
    "## a)  Use nested reification to create a graph of Bob's statement. [2 Points]\n",
    "A group of friends gossiped: *ObiWan said something interesting: He said that Leia heard that DarthVader is the father of Luke.*\n",
    "\n",
    "Use the following URIs:  \n",
    "ObiWan: **http://example.org/#ObiWan**  \n",
    "Leia: **http://example.org/#Leia**  \n",
    "DarthVader: **http://example.org/#DarthVader**  \n",
    "Luke: **http://example.org/#Luke**  \n",
    "said: **http://example.org/#said**  \n",
    "heard: **http://example.org/#heard**  \n",
    "fatherOf: **http://example.org/#fatherOf**  \n",
    "\n",
    "You may also use all terms from the RDF vocabulary. Please use the CURIEs, which we defined at the very beginning of this notebook."
   ]
  },
  {
   "cell_type": "code",
   "execution_count": null,
   "metadata": {
    "deletable": false,
    "nbgrader": {
     "cell_type": "code",
     "checksum": "cd7306002be97fcffff57c20c7d92923",
     "grade": false,
     "grade_id": "cell-a4a98390b45b9a02",
     "locked": false,
     "schema_version": 3,
     "solution": true,
     "task": false
    }
   },
   "outputs": [],
   "source": [
    "%%rdf turtle -l starwars\n",
    "# YOUR CODE HERE\n",
    "raise NotImplementedError()"
   ]
  },
  {
   "cell_type": "code",
   "execution_count": null,
   "metadata": {
    "deletable": false,
    "editable": false,
    "nbgrader": {
     "cell_type": "code",
     "checksum": "469811b4502263f18046e1a9a11ac0b5",
     "grade": true,
     "grade_id": "cell-808bc3737360f815",
     "locked": true,
     "points": 0.5,
     "schema_version": 3,
     "solution": false,
     "task": false
    }
   },
   "outputs": [],
   "source": [
    "# This test will check whether your graph contains a statement by Bob. [0.5 points]"
   ]
  },
  {
   "cell_type": "code",
   "execution_count": null,
   "metadata": {
    "deletable": false,
    "editable": false,
    "nbgrader": {
     "cell_type": "code",
     "checksum": "3e9bdcb544fcc85b935e27fd3f695035",
     "grade": true,
     "grade_id": "cell-290e27d1211cf415",
     "locked": true,
     "points": 0.5,
     "schema_version": 3,
     "solution": false,
     "task": false
    }
   },
   "outputs": [],
   "source": [
    "# This test will check whether a statement in your graph is about what Eve heard. [0.5 points]"
   ]
  },
  {
   "cell_type": "code",
   "execution_count": null,
   "metadata": {},
   "outputs": [],
   "source": []
  },
  {
   "cell_type": "code",
   "execution_count": null,
   "metadata": {
    "deletable": false,
    "editable": false,
    "nbgrader": {
     "cell_type": "code",
     "checksum": "bb891e05aee9cf93c114306c3325861e",
     "grade": true,
     "grade_id": "cell-8ec7233018d90d86",
     "locked": true,
     "points": 1,
     "schema_version": 3,
     "solution": false,
     "task": false
    }
   },
   "outputs": [],
   "source": [
    "# This test will check whether the statement of what Eve heard is correct. [1 point]"
   ]
  },
  {
   "cell_type": "markdown",
   "metadata": {},
   "source": [
    "## Primary values\n",
    "\n",
    "When using n-ary relations, it sometimes makes sense to have a **primary value**. The address example from the second exercise sheet was an n-ary relation but none of its values (street, house number, zip code, city) could be considered primary. But when talking about the price of somethinge in a specific currency, the price could be considered primary while the currency is a complementing value. To declare a primary value in an n-ary relation, one uses the **rdf:value** property defined in the RDF vocabulary. \n",
    "\n",
    "### For example if a cheeseburger costs 1 Euro, you would write:"
   ]
  },
  {
   "cell_type": "code",
   "execution_count": null,
   "metadata": {},
   "outputs": [],
   "source": [
    "%%rdf turtle\n",
    "\n",
    "ex:Cheeseburger ex:price [  \n",
    "rdf:value \"1\" ;  \n",
    "ex:currency ex:Euro ;  \n",
    "] ."
   ]
  },
  {
   "cell_type": "markdown",
   "metadata": {},
   "source": [
    "## b) Use an n-ary relation with primary value to model the following information. [2 Points]"
   ]
  },
  {
   "cell_type": "markdown",
   "metadata": {},
   "source": [
    "A brewery tries to brew a very special beer with the following details: The level of alcohol is **4.43 %** (use '%' as unit) with a **variation of 0.06** per batch. Because the taste of the beer depends on the temperature , we also need to know the consumption temperature which between **minTemp 6.0** and **maxTemp 8.0**."
   ]
  },
  {
   "cell_type": "markdown",
   "metadata": {},
   "source": [
    "Use the following URIs:  \n",
    "Beer: **http://example.org/#Beer**  \n",
    "Details: **http://example.org/#details**  \n",
    "Unit: **http://example.org/#unit**  \n",
    "Variation: **http://example.org/#variation**  \n",
    "MinTemp: **http://example.org/#minTemp**  \n",
    "MaxTemp: **http://example.org/#maxTemp**  \n",
    "\n",
    "**Note: Use xsd:decimal as datatype for numerical values and omit the datatype for string values. You may also use all terms from the RDF vocabulary.**"
   ]
  },
  {
   "cell_type": "code",
   "execution_count": null,
   "metadata": {
    "deletable": false,
    "nbgrader": {
     "cell_type": "code",
     "checksum": "73f559d5bd3af552902dec55a7c50c2e",
     "grade": false,
     "grade_id": "cell-9587393e0df82b23",
     "locked": false,
     "schema_version": 3,
     "solution": true,
     "task": false
    }
   },
   "outputs": [],
   "source": [
    "%%rdf turtle -l beer\n",
    "# YOUR CODE HERE\n",
    "raise NotImplementedError()"
   ]
  },
  {
   "cell_type": "code",
   "execution_count": null,
   "metadata": {
    "deletable": false,
    "editable": false,
    "nbgrader": {
     "cell_type": "code",
     "checksum": "b718e6901c966c9a609819b22c157c03",
     "grade": true,
     "grade_id": "cell-0eeb15dfd8dbef0a",
     "locked": true,
     "points": 1,
     "schema_version": 3,
     "solution": false,
     "task": false
    }
   },
   "outputs": [],
   "source": [
    "# This test will check whether your graph contains the result of the experiment\n",
    "# and whether the primary value was chosen correctly. [1 point]\n",
    "store = %rdf -r\n",
    "g = store['rdfgraphs']['beer']\n",
    "res = None\n",
    "res = list(g.objects(subject=uri(ex, \"Beer\"), predicate=uri(ex, \"details\")))\n",
    "x = triple.format(ex+\"Beer\", ex+\"details\", \"Blank node\")\n",
    "assert len(res) > 0, notContain.format(x)\n",
    "assert len(res) <= 1, eMultiple.format(x)\n",
    "assert isinstance(res[0], BNode), eBNode.format(x,res[0].n3())"
   ]
  },
  {
   "cell_type": "code",
   "execution_count": null,
   "metadata": {
    "deletable": false,
    "editable": false,
    "nbgrader": {
     "cell_type": "code",
     "checksum": "1d11e5d660ccc165d7ed6f564425dc49",
     "grade": true,
     "grade_id": "cell-ca0e4d302153aa4d",
     "locked": true,
     "points": 1,
     "schema_version": 3,
     "solution": false,
     "task": false
    }
   },
   "outputs": [],
   "source": [
    " # This test will check whether your graph contains all complementing values. [1 point]\n",
    "# Only gives points if the last test does not fail."
   ]
  },
  {
   "cell_type": "markdown",
   "metadata": {},
   "source": [
    "# Task 2 - RDF Schema [6 Points]"
   ]
  },
  {
   "cell_type": "markdown",
   "metadata": {},
   "source": [
    "RDF Schema (RDFS) is another [W3C recommended](https://www.w3.org/TR/rdf-schema/) vocabulary. RDFS provides means to specify characteristics of classes and properties independent of their domain. It can be seen as a weak ontology language for defining vocabularies. RDFS splits resources into three types: individuals, classes and properties. Individuals are instances of things, like a specific person or object. Classes are sets of individuals with similar properties like all persons or all cars. Properties describe individuals.\n",
    "\n",
    "### Classes\n",
    "Classes are sets of individuals with similar properties. To define our own class, we just have to declare the type of the class resource as **rdfs:Class**:\n",
    "\n",
    "    ex:Car a rdfs:Class .\n",
    "\n",
    "To declare that an individual is part of a class, we also use rdf:type:\n",
    "\n",
    "    ex:BMW a ex:Car .\n",
    "\n",
    "So rdfs:Class is the class containing all classes.\n",
    "\n",
    "### Properties\n",
    "As with classes, we can define our own properties to describe resources. For this, we use the class rdf:Property (Note that it is **rdf:Property** NOT rdfs:Property as it is defined in the RDF vocabulary). To define our own property, we just have to declare the type of the resource as **rdf:Property**:\n",
    "\n",
    "    ex:drives a rdf:Property .\n",
    "\n",
    "Then we can use the property:\n",
    "\n",
    "    ex:Max ex:drives ex:BMW .\n",
    "\n",
    "As rdf:Property is the class of all properties, it is also an rdfs:Class.\n",
    "\n",
    "### Subclasses and Subproperties\n",
    "While classes and properties are a nice way to organize resources, by themselves they do not provide means of infering new information. For this RDFS defines the two properties **rdfs:subClassOf** and **rdfs:subPropertyOf**. Any individual of a subclass also belongs to the superclass and any triple with the subproperty also holds for the superproperty. For example from the following graph:\n",
    "\n",
    "#### Defining classes and properties\n",
    "\n",
    "    ex:Car a rdfs:Class .  \n",
    "    ex:Vehicle a rdfs:Class .  \n",
    "    ex:drives a rdf:Property .  \n",
    "    ex:operates a rdf:Property . \n",
    "\n",
    "#### Defining subclass- and subproperty-relations  \n",
    "    \n",
    "    ex:Car rdfs:subClassOf ex:Vehicle .  \n",
    "    ex:drives rdfs:subPropertyOf ex:operates .  \n",
    "\n",
    "#### Facts  \n",
    "    \n",
    "    ex:BMW a ex:Car .  \n",
    "    ex:Max ex:drives ex:BMW .\n",
    "\n",
    "Then, following triples can be inferred:\n",
    "\n",
    "    ex:BMW a ex:Vehicle .  \n",
    "    ex:Max ex:operates ex:BMW .\n",
    "\n",
    "Both rdfs:subClassOf and rdfs:subPropertyOf are reflexive and transitive. So all \\[classes/properties\\] are \\[subclasses/subproperties\\] of themselves and when x is a \\[subclass/subproperty\\] of y and y is a \\[subclass/subproperty\\] of z then x is also a \\[subclass/subproperty\\] of z.\n",
    "\n",
    "To define that two classes or properties are equal, you just add a subclass/subproperty relation in both directions:\n",
    "\n",
    "    ex:Car rdfs:subClassOf ex:Automobile .  \n",
    "    ex:Automobile rdfs:subClassOf ex:Car .  \n",
    "    ex:drives rdfs:subPropertyOf ex:Steers .  \n",
    "    ex:Steers rdfs:subPropertyOf ex:drives .\n",
    "\n",
    "RDFS defines a class rdfs:Resource, which is the superclass of all classes.\n",
    "\n",
    "### Domains and Ranges\n",
    "Another way to infer new information is by using property domains and ranges. The domain of a property defines the class of the subject in a triple and the range the class of the object. For this we use the properties **rdfs:domain** and **rdfs:range**. For example, given the graph:\n",
    "\n",
    "    ex:Car a rdfs:Class .  \n",
    "    ex:Person a rdfs:Class .  \n",
    "    ex:drives a rdf:Property .  \n",
    "    ex:drives rdfs:domain ex:Person .  \n",
    "    ex:drives rdfs:range ex:Car .  \n",
    "    ex:Max ex:drives ex:BMW .\n",
    "\n",
    "we can infer the triples:\n",
    "\n",
    "    ex:Max a ex:Person .  \n",
    "    ex:BMW a ex:Car .\n",
    "\n",
    "Because ex:drives has the domain ex:Person and range ex:Car, ex:Max, who appears as subject of ex:drives, has to be a ex:Person, and ex:BMW, which appears as object of ex:drives, has to be a ex:Car.\n",
    "\n",
    "Many RDFS properties have predefined domains and ranges. For example rdfs:domain and rdfs:range themselves have rdf:Property as a domain and rdfs:Class as range. This means that we can omit the first three triples in the example above as they can be inferred by the fourth and fifth triple.\n",
    "\n",
    "Be careful when using multiple domains and ranges as they apply conjunctively and not disjunctively. For example:\n",
    "\n",
    "    ex:drives rdfs:range ex:Car .  \n",
    "    ex:drives rdfs:range ex:Ship .\n",
    "\n",
    "One would think that this means that the object of ex:drives is either a car or a ship but it means that its object is a car and a ship at the same time which is probably unintended. A better way to model this would be the following:\n",
    "\n",
    "    ex:Car rdfs:subClassOf ex:Vehicle .  \n",
    "    ex:Ship rdfs:subClassOf ex:Vehicle .  \n",
    "    ex:drives rdfs:range ex:Vehicle .\n",
    "\n",
    "### Comparison to Object-Oriented Programming\n",
    "One may compare the class and property system of RDFS to object-oriented programming but this can be misleading. In oop, one defines classes in terms of what properties they have, while in RDFS one defines properties in terms of which classes of instances they apply to. So instead of saying: \"x belongs to class y so it has to have property z\", we say \"Property z is used with x, so x has to belong to class y\".\n",
    "\n",
    "### Other Useful Properties\n",
    "RDFS also defines the following useful properties:\n",
    "\n",
    "rdfs:label: Specifies a human-readable label for a resource. We already used this in prior exercises to give resources literal names.\n",
    "\n",
    "rdfs:comment: Specifies a human-readable description for a resource.\n",
    "\n",
    "rdfs:seeAlso: Specifies a generic link. Useful for linking resources to similar resources or resources that provide additional information.\n",
    "\n",
    "rdfs:isDefinedBy: Relate a resource to its definition. Can be used to indicate a vocabulary in which the resource is defined.\n",
    "\n",
    "### Entailment\n",
    "Using the RDFS vocabulary and its rules, we can now rdfs-entail a graph. If graph **A** rdfs-entails graph **B**, every rdfs-interpretation that satisfies graph A also satisfies graph B. With this, we can implicitly deduct semantics for our graphs instead of explicitly specifying the meaning of information. For example, we can describe 'what a car is' without using attributes describing it. We implicitly specify it by stating that a car is a vehicle and that vehicles can be driven. Using this, we can give a machine interpretable meaning to resources and provide a more general description. RDFS-Entailment is only one of many possible entailment regimes. For more information on RDFS-Entailment, other entailment regimes and rdf semantics in general please consult this [W3C recommendation](https://www.w3.org/TR/rdf11-mt/)."
   ]
  },
  {
   "cell_type": "markdown",
   "metadata": {},
   "source": [
    "## Modelling information about deep learning sources [6 points]\n",
    "\n",
    "You can learn deep learning from books, research artciles, video lectures, github repos, and self-practices, but let's assume, for the simplicity, books and artciles are two main **sources**. The **creator** of a such a knowledge source is a **person** and only source have a creator. Both books and artcles have an author (well, practically a book or artcile may have more than one authors, but assume just one, for this task) and the author of a book (or an article) is also a creator. Further, only sources have publisher, title, ISBN (or DOI), and a publication date. Now based on these information, create an RDF graph by including following facts: \n",
    "\n",
    "   - **Aurelien Geron** is the author of book titled \"Hands-On Machine Learning with Scikit-Learn, Keras, and TensorFlow\", published by \"O'Reilly Media, Inc.\" on \"2019-09-01\" and has ISBN \"9781492032649\". The book has a tagline \"Concepts, Tools, and Techniques to Build Intelligent Systems\" (i.e., use rdfs:label) and has the description \"Source codes and updates can be found on GitHub at https://github.com/ageron/handson-ml2\" (i.e., use rdfs:comment)\n",
    "   - **Rezaul Karim** is the author of book titled \"Deep Learning with TensorFlow\", published by \"Packt Publishing (UK) Ltd.\" on \"2018-03-15\" and has ISBN \"9781788831109\". The book has a tagline \"Explore neural networks and build intelligent systems with Python\" (i.e., use rdfs:label) and and has the description \"Source codes and updates (TensorFlow 2.5.0 compatible) is available on GitHub at https://github.com/PacktPublishing/Deep-Learning-with-TensorFlow-Second-Edition\" (i.e., use rdfs:comment) \n",
    "   - **Eli Stevens** is the author of book titled \"Deep Learning with PyTorch\", published by \"Manning Publications\" on \"2020-07-01\" and has ISBN \"9781617295263\"\n",
    "   - **Sascha Welten** is the author of article titled \"DAMS: A Distributed Analytics Metadata Schema\", published by \"Data Intelligence Journal\" on \"2021-25-11\" and has DOI \"10.1162/dint_a_00100\". This work is \"Supported by German Ministry for Research and Education (BMBF) and was conducted jointly by RWTH Aachen University and Fraunhofer FIT\" (i.e., use rdfs:comment)\n",
    "   - **Wil van der Aalst** is the author of article titled \"Data Science in Action\", published by \"Springer Nature\" on \"2016-04-16\" and has DOI \"10.1007/978-3-662-49851-4_1\"\n",
    "   - **Michael Cochez** is the author of article titled \"DeepCOVIDExplainer: Explainable COVID-19 Diagnosis from Chest X-ray Images\", published by \"IEEE International Conference on Bioinformatics and Biomedicine (BIBM'2020)\" on \"2020-12-16\" and has DOI \"10.1109/BIBM49941.2020.9313304\". This is \"One of the earliest works on COVID-19 diagnosis based on biomedical images and already received 75 citations on Google Scholar\" (i.e., use rdfs:comment). \n",
    "\n",
    "Use the following URIs to model your RDF graph:  \n",
    "\n",
    "- Source: **http://example.org/#Source**  \n",
    "- Books: **http://example.org/#Book**  \n",
    "- Article: **http://example.org/#Article** \n",
    "\n",
    "- Person: **http://example.org/#Person**  \n",
    "- creator: **http://example.org/#createdBy**  \n",
    "- author: **http://example.org/#authoredBy**  \n",
    "\n",
    "- title: **http://example.org/#hasTitle**  \n",
    "- publication date: **http://example.org/#publishedOn**  \n",
    "- publisher: **http://example.org/#publishedBy**  \n",
    "- isbn: **http://example.org/#hasISBN**  \n",
    "- doi: **http://example.org/#hasDOI**  \n",
    "\n",
    "- Aurelien Geron: **http://example.org/#AurelienGeron**\n",
    "- Eli Stevens: **http://example.org/#EliStevens**\n",
    "- Wil van der Aalst: **http://example.org/#WilAalst**\n",
    "- Rezaul Karim: **http://example.org/#RezaulKarim**  \n",
    "- Sascha Welten: **http://example.org/#SaschaWelten** \n",
    "- Michael Cochez: **http://example.org/#MichaelCochez** \n",
    "\n",
    "- Hands-On Machine Learning with Scikit-Learn, Keras, and TensorFlow: **http://example.org/#MLTensorFlow**\n",
    "- Deep Learning with PyTorch: **http://example.org/#DLPyTorch**\n",
    "- Deep Learning with TensorFlow: **http://example.org/#DLTensorFlow**\n",
    "- DAMS: A Distributed Analytics Metadata Schema: **http://example.org/#DAMS**\n",
    "- Data Science in Action: **http://example.org/#DSAction**\n",
    "- DeepCOVIDExplainer: Explainable COVID-19 Diagnosis from Chest X-ray Images: **http://example.org/#DeepCOVIDExplainer**\n",
    "\n",
    "You may use all terms from the RDFS vocabulary, but don't specify datatypes of literals. Besides, you may want to abbreviate <http://example.org/#> as ex: "
   ]
  },
  {
   "cell_type": "code",
   "execution_count": null,
   "metadata": {
    "deletable": false,
    "nbgrader": {
     "cell_type": "code",
     "checksum": "26798e7d6a89c75a8abfe04f02fe19d5",
     "grade": false,
     "grade_id": "cell-f37e669917c5eb1e",
     "locked": false,
     "schema_version": 3,
     "solution": true,
     "task": false
    }
   },
   "outputs": [],
   "source": [
    "%%rdf turtle -l deep_learning\n",
    "\n",
    "# These are just some axiomatic triples. Do not remove them.\n",
    "rdfs:subClassOf rdfs:domain rdfs:Class .\n",
    "rdfs:subClassOf rdfs:range rdfs:Class .\n",
    "rdfs:range rdfs:range rdfs:Class .\n",
    "rdfs:range rdfs:domain rdf:Property .\n",
    "rdfs:domain rdfs:range rdfs:Class .\n",
    "rdfs:domain rdfs:domain rdf:Property .\n",
    "\n",
    "# YOUR CODE HERE\n",
    "raise NotImplementedError()"
   ]
  },
  {
   "cell_type": "code",
   "execution_count": null,
   "metadata": {},
   "outputs": [],
   "source": [
    "# This cell will compute the closure of the rdfs-entailment of your graph and draw it.\n",
    "%rdf graph entail-rdfs -l deep_learning\n",
    "%rdf graph draw -l deep_learning"
   ]
  },
  {
   "cell_type": "code",
   "execution_count": null,
   "metadata": {
    "deletable": false,
    "editable": false,
    "nbgrader": {
     "cell_type": "code",
     "checksum": "1a846b6aa79b22178c6e7a039f5db5c1",
     "grade": true,
     "grade_id": "cell-8d13e25442d34f03",
     "locked": true,
     "points": 1,
     "schema_version": 3,
     "solution": false,
     "task": false
    }
   },
   "outputs": [],
   "source": [
    "# This test will check whether the entailment closure of your graph contains all necessary class and property definitions. [1 point]"
   ]
  },
  {
   "cell_type": "code",
   "execution_count": null,
   "metadata": {
    "deletable": false,
    "editable": false,
    "nbgrader": {
     "cell_type": "code",
     "checksum": "ad493f69506fd50df31c08cab9ebb8cd",
     "grade": true,
     "grade_id": "cell-c665d3fa1e6b9f1e",
     "locked": true,
     "points": 1,
     "schema_version": 3,
     "solution": false,
     "task": false
    }
   },
   "outputs": [],
   "source": [
    "# This test will check whether the entailment closure of your graph contains all necessary subclass and subproperty definitions. [1 point]"
   ]
  },
  {
   "cell_type": "code",
   "execution_count": null,
   "metadata": {
    "deletable": false,
    "editable": false,
    "nbgrader": {
     "cell_type": "code",
     "checksum": "904071b3f731569a0e83ada6b91bbff7",
     "grade": true,
     "grade_id": "cell-d1290c101183550b",
     "locked": true,
     "points": 1,
     "schema_version": 3,
     "solution": false,
     "task": false
    }
   },
   "outputs": [],
   "source": [
    "# This test will check whether the entailment closure of your graph contains all necessary range and domain definitions. [1 point]"
   ]
  },
  {
   "cell_type": "code",
   "execution_count": null,
   "metadata": {
    "deletable": false,
    "editable": false,
    "nbgrader": {
     "cell_type": "code",
     "checksum": "5e7b6b5ded6746202c8e377387430877",
     "grade": true,
     "grade_id": "cell-e5ff9d4be9f8b08c",
     "locked": true,
     "points": 2,
     "schema_version": 3,
     "solution": false,
     "task": false
    }
   },
   "outputs": [],
   "source": [
    "# This test will check whether the entailment closure of your graph contains all specified facts. [2 point]"
   ]
  },
  {
   "cell_type": "code",
   "execution_count": null,
   "metadata": {
    "deletable": false,
    "editable": false,
    "nbgrader": {
     "cell_type": "code",
     "checksum": "dfcefde041e47e73d440d7a9a4c1a186",
     "grade": true,
     "grade_id": "cell-09a45e387d840a66",
     "locked": true,
     "points": 1,
     "schema_version": 3,
     "solution": false,
     "task": false
    }
   },
   "outputs": [],
   "source": [
    "# This test will check whether the entailment closure of your graph contains provided supplementary facts, e.g., tagline, description, etc. [1 point]"
   ]
  },
  {
   "cell_type": "code",
   "execution_count": null,
   "metadata": {},
   "outputs": [],
   "source": []
  }
 ],
 "metadata": {
  "kernelspec": {
   "display_name": "Python 3 (ipykernel)",
   "language": "python",
   "name": "python3"
  },
  "language_info": {
   "codemirror_mode": {
    "name": "ipython",
    "version": 3
   },
   "file_extension": ".py",
   "mimetype": "text/x-python",
   "name": "python",
   "nbconvert_exporter": "python",
   "pygments_lexer": "ipython3",
   "version": "3.12.7"
  }
 },
 "nbformat": 4,
 "nbformat_minor": 4
}
