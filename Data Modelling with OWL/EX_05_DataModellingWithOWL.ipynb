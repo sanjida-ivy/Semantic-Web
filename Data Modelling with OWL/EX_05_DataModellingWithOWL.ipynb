{
 "cells": [
  {
   "cell_type": "code",
   "execution_count": 1,
   "metadata": {
    "deletable": false,
    "editable": false,
    "nbgrader": {
     "cell_type": "code",
     "checksum": "d18d949302e113f6487899b050208eca",
     "grade": false,
     "grade_id": "cell-f8d2b904ec78ebda",
     "locked": true,
     "schema_version": 3,
     "solution": false,
     "task": false
    }
   },
   "outputs": [],
   "source": [
    "%%capture\n",
    "\n",
    "# The line above suppresses output. If there are errors, remove it.\n",
    "# Execute this cell once to install and update all needed packages. Could take a while, please wait until this process is finished before continuing.\n",
    "# When the cell is finished, the [*] to the left of the cell turns into a number, e.g. [1].\n",
    "import sys\n",
    "!{sys.executable} -m pip install jupyter-rdfify\n",
    "# The line below installs the python graphviz interface together with the grahpviz binaries.\n",
    "# If you do not use anaconda, you need to install graphviz by hand and add it to your path as well as install the graphviz\n",
    "# interface with pip (pip install graphviz)\n",
    "!conda install --override-channels --yes --prefix {sys.prefix} -c conda-forge python-graphviz"
   ]
  },
  {
   "cell_type": "code",
   "execution_count": null,
   "metadata": {
    "deletable": false,
    "editable": false,
    "nbgrader": {
     "cell_type": "code",
     "checksum": "057195d8e231b6a0ffe61c112c830f42",
     "grade": false,
     "grade_id": "cell-a034add113a667df",
     "locked": true,
     "schema_version": 3,
     "solution": false,
     "task": false
    }
   },
   "outputs": [],
   "source": [
    "%reload_ext jupyter-rdfify"
   ]
  },
  {
   "cell_type": "code",
   "execution_count": null,
   "metadata": {
    "deletable": false,
    "editable": false,
    "nbgrader": {
     "cell_type": "code",
     "checksum": "52a96778e75a0eb6fad71238d2db078f",
     "grade": true,
     "grade_id": "cell-78b15983a699239d",
     "locked": true,
     "points": 0,
     "schema_version": 3,
     "solution": false,
     "task": false
    }
   },
   "outputs": [],
   "source": [
    "# This test cell will initialize the tests. All tests are hidden in this exercise."
   ]
  },
  {
   "cell_type": "markdown",
   "metadata": {
    "deletable": false,
    "editable": false,
    "nbgrader": {
     "cell_type": "markdown",
     "checksum": "8655ff631c011cf3ee4b5520a13a2502",
     "grade": false,
     "grade_id": "cell-97b7fd33d2fb1796",
     "locked": true,
     "schema_version": 3,
     "solution": false,
     "task": false
    }
   },
   "source": [
    "### Attention! \n",
    "The cell below defines some prefixes which you may have to use throughout the tasks. You don't have to define them yourself. Execute it, otherwise subsequent cells won't work!"
   ]
  },
  {
   "cell_type": "code",
   "execution_count": null,
   "metadata": {
    "deletable": false,
    "editable": false,
    "nbgrader": {
     "cell_type": "code",
     "checksum": "4207a9e343d504f95e650c0ff14d0000",
     "grade": false,
     "grade_id": "cell-83be83d377f16920",
     "locked": true,
     "schema_version": 3,
     "solution": false,
     "task": false
    }
   },
   "outputs": [],
   "source": [
    "%%rdf turtle --prefix\n",
    "PREFIX rdf: <http://www.w3.org/1999/02/22-rdf-syntax-ns#>\n",
    "PREFIX rdfs: <http://www.w3.org/2000/01/rdf-schema#>\n",
    "PREFIX owl: <http://www.w3.org/2002/07/owl#>\n",
    "PREFIX xsd: <http://www.w3.org/2001/XMLSchema#>\n",
    "PREFIX ex: <http://example.org/#>"
   ]
  },
  {
   "cell_type": "markdown",
   "metadata": {
    "deletable": false,
    "editable": false,
    "nbgrader": {
     "cell_type": "markdown",
     "checksum": "94235efccba03091a6fde96fab4cf5f5",
     "grade": false,
     "grade_id": "cell-dbe565e16a201b7e",
     "locked": true,
     "schema_version": 3,
     "solution": false,
     "task": false
    }
   },
   "source": [
    "# RDF Vocabulary: Collections\n",
    "Another component of RDF vocabulary we haven't touched on yet are collections. A collection is a **closed list** of elements. Once a collection is defined, additional elements can't be added. Terms **rdf:first**, **rdf:rest** and **rdf:nil** are used. For example, to define a collection of last members of band The Beatles:\n",
    "\n",
    "**ex:Beatles ex:lastMembers _:bn1 .  \n",
    "_:bn1 rdf:first ex:JohnLennon .  \n",
    "_:bn1 rdf:rest _:bn2 .  \n",
    "_:bn2 rdf:first ex:PaulMcCartney .  \n",
    "_:bn2 rdf:rest _:bn3 .  \n",
    "_:bn3 rdf:first ex:GeorgeHarrison .  \n",
    "_:bn3 rdf:rest _:bn4 .  \n",
    "_:bn4 rdf:first ex:RingoStarr .  \n",
    "_:bn4 rdf:rest rdf:nil .**\n",
    "\n",
    "So every element of the collection is a blank node with an rdf:first property to the \"value\" of the element and an rdf:rest property to the next element. To close the collection, the rdf:rest property of the last element point to rdf:nil. Because this notation is very unreadable (even when using square brackets for blank nodes), there is syntactic sugar for defining collections. To define a collection we just write all its elements between parenthesis. \n",
    "\n",
    "For example, we define the above collection as follows:\n",
    "\n",
    "**ex:Beatles ex:lastMembers ( ex:JohnLennon ex:PaulMcCartney ex:GeorgeHarrison ex:RingoStarr ) .**\n",
    "\n",
    "This is much more readable and easier to write and follow. Use it whenever possible!"
   ]
  },
  {
   "cell_type": "markdown",
   "metadata": {
    "deletable": false,
    "editable": false,
    "nbgrader": {
     "cell_type": "markdown",
     "checksum": "a00c54c157ed2d1e7f3d2e74114e6c75",
     "grade": false,
     "grade_id": "cell-ceec350a550daef2",
     "locked": true,
     "schema_version": 3,
     "solution": false,
     "task": false
    }
   },
   "source": [
    "# Task 1: Fictional Characters [2 point]\n",
    "\n",
    "Create a collection/list of following characters: \n",
    "\n",
    "- Fictional characters: http://example.org/#FictionalCharacters\n",
    "- (contains) Characters: http://example.org/#characters\n",
    "- Harry Potter: http://example.org/#HarryPotter\n",
    "- Frodo Baggins: http://example.org/#FrodoBaggins\n",
    "- Sherlock Holmes: http://example.org/#SherlockHolmes\n",
    "- Princess Leia: http://example.org/#PrincessLeia\n",
    "- James Bond: http://example.org/#JamesBond\n",
    "- Wonder Woman: http://example.org/#WonderWoman\n",
    "- Hannibal Lecter: http://example.org/#HannibalLecter\n",
    "- Gandalf: http://example.org/#Gandalf\n",
    "\n",
    "### Notes\n",
    "- Even though lists have a fixed order, you can use any order you want as the tests will treat them as sets. \n",
    "- You can either define your own base prefix or simply execute the **%%rdf turtle --prefix** cell and it will store <http://example.org/#> as prefix \"ex:\".  "
   ]
  },
  {
   "cell_type": "code",
   "execution_count": null,
   "metadata": {
    "deletable": false,
    "nbgrader": {
     "cell_type": "code",
     "checksum": "2f9b34103c5d4d9a23a2121efea6e3d8",
     "grade": false,
     "grade_id": "cell-b0943a9caf5cacb7",
     "locked": false,
     "schema_version": 3,
     "solution": true,
     "task": false
    }
   },
   "outputs": [],
   "source": [
    "%%rdf turtle -l characters\n",
    "\n",
    "# YOUR CODE HERE\n",
    "raise NotImplementedError()"
   ]
  },
  {
   "cell_type": "code",
   "execution_count": null,
   "metadata": {
    "deletable": false,
    "editable": false,
    "nbgrader": {
     "cell_type": "code",
     "checksum": "6b09b1cc673c1a610db6ef7d8aba8d42",
     "grade": true,
     "grade_id": "cell-fe75297892e612a9",
     "locked": true,
     "points": 2,
     "schema_version": 3,
     "solution": false,
     "task": false
    }
   },
   "outputs": [],
   "source": [
    "# This test will check whether your graph contains the list and it contains the correct resources. [2 point]"
   ]
  },
  {
   "cell_type": "markdown",
   "metadata": {
    "deletable": false,
    "editable": false,
    "nbgrader": {
     "cell_type": "markdown",
     "checksum": "4a1025435c13a09add823c1499231212",
     "grade": false,
     "grade_id": "cell-87d26fa1b29fa15f",
     "locked": true,
     "schema_version": 3,
     "solution": false,
     "task": false
    }
   },
   "source": [
    "# Graph Modeling with OWL 2\n",
    "\n",
    "Before, we used RDF Schema to write simple ontologies. These ontologies have the advantage that there are only a few rules, which makes an automated inference relatively efficient. But RDF Schema has very limited expressivity. For example we can't express that a class can only have a certain cardinality of a specific property or that a class is the intersection of two other classes.\n",
    "\n",
    "The **Web Ontology Language (OWL)** is an ontology language like RDFS but can be used to model more complex concepts. OWL allows us to formulate expressions from **description logic** directly in RDF. As in RDFS, OWL defines three components: Individuals/Objects (concrete elements), Classes/Concepts (sets of objects) and Roles/Properties (which associate two individuals).\n",
    "\n",
    "Most properties defined in the RDFS vocabulary can also be used when writing an ontology using OWL. For example **rdfs:subClassOf**, **rdfs:subPropertyOf**, **rdfs:range** and **rdfs:domain** can all be used together with OWL and have the same semantics.\n",
    "\n",
    "For more information on certain topics please consult the [OWL 2 Primer](https://www.w3.org/TR/owl2-primer/). In [Section 1.2](https://www.w3.org/TR/2012/REC-owl2-primer-20121211/#OWL_Syntaxes) you can change the syntax of the examples to turtle.\n",
    "\n",
    "### Classes\n",
    "\n",
    "While **rdf:type** is used RDFS to declare that a resource belongs to a class, **owl:Class** is used in OWL2, which is the class of all classes. For example, to declare that a resource is a class, one can use the following triple:\n",
    "\n",
    "**ex:Professor a owl:Class .**\n",
    "\n",
    "**owl:Thing** is the class of everything (similar to rdfs:Resource) and **owl:Nothing** is the empty class. Both are predefined.\n",
    "\n",
    "### Properties\n",
    "\n",
    "OWL distinguishes between abstract roles, which are properties with resources as range, and concrete roles, which have a data type as range. The class of all abstract roles is **owl:ObjectProperty** and the class of all concrete roles is **owl:DatatypeProperty**. An example for both types of roles:\n",
    "\n",
    "**ex:belongsTo a owl:ObjectProperty ;  \n",
    "&nbsp;&nbsp;&nbsp;&nbsp;rdfs:range ex:Organisation .  \n",
    "ex:firstName a owl:DatatypeProperty ;  \n",
    "&nbsp;&nbsp;&nbsp;&nbsp;rdfs:range xsd:String .  \n",
    "ex:ProfDecker ex:belongsTo ex:I5 .  \n",
    "ex:ProfDecker ex:firstName \"Stefan\" .**\n",
    "\n",
    "ex:belongsTo is an abstract role because it has the class ex:Organisation as range. ex:firstName is a concrete role as it has datatype xsd:String as range.\n",
    "\n",
    "### Class Expressions\n",
    "\n",
    "As in RDFS, we can use **rdfs:subClassOf** to define class hierarchies. To specify that two classes are equivalent (contain the same individuals), OWL defines the property **owl:equivalentClass**. To define that the classes ex:Dog and ex:Dogs are equivalent, one would add the following triple:\n",
    "\n",
    "**ex:Dog owl:equivalentClass ex:Dogs .**\n",
    "\n",
    "To specify that two classes are disjoint (an individual from one class cannot belong to the other class), OWL defines the property **owl:disjointWith**. To define that the classes ex:Dog and ex:Cat are disjoint, one would add the following triple:\n",
    "\n",
    "**ex:Dog owl:disjointWith ex:Cat .**\n",
    "\n",
    "There is another notation to easily specify pairwise disjointness of more than two classes. For this one uses the class **owl:AllDisjointClasses**, the property **owl:members** and a collection of classes in a blank node. To specify that ex:Dog, ex:Cat and ex:Horse are pairwise disjoint, one would add the following:\n",
    "\n",
    "**\\[ rdf:type owl:AllDisjointClasses;  \n",
    "owl:members ( ex:Dog ex:Cat ex:Horse ) \\] .**\n",
    "\n",
    "### Property Expressions\n",
    "\n",
    "Analogous to classes, we can define property hierarchies with **rdfs:subPropertyOf**, equivalent properties with **owl:equivalentProperty** and disjoint properties with **owl:propertyDisjointWith** (or **owl:AllDisjointProperties** and **owl:member**).\n",
    "\n",
    "You can also specify that a property is the inverse of another property with **owl:inverseOf**. To define that ex:owns is the inverse of ex:ownedBy, one would add the following triple:\n",
    "\n",
    "**ex:own owl:inverseOf ex:ownedBy .**\n",
    "\n",
    "### Property Classes\n",
    "\n",
    "In OWL there are also many classes to assign certain characteristics to properties. For example, to define that the property ex:knows is reflexive (everybody knows himself), one would use the class **owl:ReflexiveProperty**:\n",
    "\n",
    "**ex:knows a owl:ReflexiveProperty .**\n",
    "\n",
    "Here is a list of all property classes in OWL2:\n",
    "\n",
    "[Reflexive](http://www.w3.org/TR/2012/REC-owl2-primer-20121211/#a_ReflexiveObjectProperty): **owl:ReflexiveProperty**  \n",
    "[Irreflexive](http://www.w3.org/TR/2012/REC-owl2-primer-20121211/#a_IrreflexiveObjectProperty): **owl:IrreflexiveProperty**  \n",
    "[Symmetric](http://www.w3.org/TR/2012/REC-owl2-primer-20121211/#a_SymmetricObjectProperty): **owl:SymmetricProperty**  \n",
    "[Asymmetric](http://www.w3.org/TR/2012/REC-owl2-primer-20121211/#a_AsymmetricObjectProperty): **owl:AsymmetricProperty**  \n",
    "[Transitive](http://www.w3.org/TR/2012/REC-owl2-primer-20121211/#a_TransitiveObjectProperty): **owl:TransitiveProperty**  \n",
    "[Functional](http://www.w3.org/TR/2012/REC-owl2-primer-20121211/#a_FunctionalObjectProperty): **owl:FunctionalProperty**  \n",
    "[Inverse Functional](http://www.w3.org/TR/2012/REC-owl2-primer-20121211/#a_InverseFunctionalObjectProperty): **owl:InverseFunctionalProperty**\n",
    "\n",
    "Note: Concrete roles (owl:DatatypeProperty) can at most be functional.\n",
    "\n",
    "### Assertions\n",
    "\n",
    "OWL does not make the assumption that different URIs are automatically different individuals. For example, let's say we have the functional property ex:father (everyone can have at most one father -> functional) but we have the two triples:\n",
    "\n",
    "**ex:Bart ex:father ex:Homer .  \n",
    "ex:Bart ex:father ex:HomerSimpson .**\n",
    "\n",
    "A reasoner that makes the unique-names assumption, would declare this graph as inconsistent because the ex:father property was earlier defined as functional (owl:FunctionalProperty). But an OWL reasoner does not make this assumption and instead infers that ex:Homer and ex:HomerSimpson are two names for the same individual. For this, OWL has two assertion properties, **owl:sameAs** and **owl:differentFrom**. To assert that ex:Homer and ex:HomerSimpson are the same person, one would add the following triple:\n",
    "\n",
    "**ex:Homer owl:sameAs ex:HomerSimpson .**\n",
    "\n",
    "In contrast, one would add the following triple to assert that ex:Homer (greek author) and ex:HomerSimpson (cartoon character) are not the same person:\n",
    "\n",
    "**ex:Homer owl:differentFrom ex:HomerSimpson .**\n",
    "\n",
    "As with owl:AllDisjointClasses and owl:AllDisjointProperties, you can easily declare that multiple resources are pairwise different with **owl:AllDifferent** and **owl:member**.\n",
    "\n",
    "Note: owl:sameAs can be used on individuals and classes and means that two URIs are names for the same resource. owl:equivalentClass can only be used on classes and means that two classes contain the same individuals.\n",
    "\n",
    "### Negative Property Assertions\n",
    "\n",
    "Another type of assertion in OWL are negative property assertions. These types of assertions can be used to assert that a triple does not hold. The syntax for this assertion is similar to the syntax of RDF reification and uses the class **owl:NegativePropertyAssertion** as well as the three properties **owl:sourceIndividual**, **owl:assertionProperty** and **owl:targetIndividual** in a blank node. For example, to assert that ex:Homer (greek author) is **not** the father of ex:Bart, one would add the following triples:\n",
    "\n",
    "**\\[ a owl:NegativePropertyAssertion;  \n",
    "owl:sourceIndividual ex:Bart;  \n",
    "owl:assertionProperty ex:father;  \n",
    "owl:targetIndividual ex:Homer \\].**\n",
    "\n",
    "Note that positive property assertions are just facts (simple triples)."
   ]
  },
  {
   "cell_type": "markdown",
   "metadata": {
    "deletable": false,
    "editable": false,
    "nbgrader": {
     "cell_type": "markdown",
     "checksum": "1b91695b67bd502ebe4ec7ce71df0104",
     "grade": false,
     "grade_id": "cell-88cfe36b3df39897",
     "locked": true,
     "schema_version": 3,
     "solution": false,
     "task": false
    }
   },
   "source": [
    "# Task 2: Music, melody, and rhythm [5 points]\n",
    "### Create an ontology about three main players in music world: lyricists, singers, and music directors using **OWL2** based on  following information:\n",
    "\n",
    "- There are three classes: lyricists, singers, and music directors. \n",
    "- All music directors are singers (i.e., owl:equivalentClass) and vice versa. \n",
    "- A lyricist cannot be a singer or a music director and vice versa (i.e., owl:disjointWith). \n",
    "- To be directed by and being a creator (i.e., lyricist) are abstract roles (i.e., owl:ObjectProperty) and inverse of each other (i.e., owl:inverseOf). \n",
    "- A singer can only be directed by a music director (i.e., rdfs:domain).\n",
    "- Only a lyricist can be a creator of a song (i.e., rdfs:domain). \n",
    "\n",
    "### Use the following URIs to model the ontology:  \n",
    "- Music director: **http://example.org/#MusicDirector**  \n",
    "- Singer: **http://example.org/#Singer**  \n",
    "- Lyricist: **http://example.org/#Lyricist**  \n",
    "- Creator of: **http://example.org/#creatorOf**  \n",
    "- Directed by: **http://example.org/#directedBy**  \n",
    "\n",
    "The test is carried out on the non-entailed graph. So, don't forget to explicitly assign/ classes (e.g., owl:Class) and define properties (e.g., owl:ObjectProperty). \n",
    "\n",
    "### Notes\n",
    "- You can either define your own base prefix or simply execute the **%%rdf turtle --prefix** cell and it will store <http://example.org/#> as prefix **ex:**.  \n",
    "- Even though some terms such as rdfs:domain and rdfs:range originate from RDFS vocabulary, they're still part of OWL2.\n",
    "- You are allowed to use both OWL2 and RDFS terms/vocabularies. "
   ]
  },
  {
   "cell_type": "code",
   "execution_count": null,
   "metadata": {
    "deletable": false,
    "nbgrader": {
     "cell_type": "code",
     "checksum": "3c9aa73e39037fbeef24be9d11f08808",
     "grade": false,
     "grade_id": "cell-4c0e550327d55e8a",
     "locked": false,
     "schema_version": 3,
     "solution": true,
     "task": false
    }
   },
   "outputs": [],
   "source": [
    "%%rdf turtle -l music\n",
    "# YOUR CODE HERE\n",
    "raise NotImplementedError()"
   ]
  },
  {
   "cell_type": "code",
   "execution_count": null,
   "metadata": {
    "deletable": false,
    "editable": false,
    "nbgrader": {
     "cell_type": "code",
     "checksum": "c7568e6138d5284c3dec9d526aa833b1",
     "grade": true,
     "grade_id": "cell-fbadccf52c12149a",
     "locked": true,
     "points": 2,
     "schema_version": 3,
     "solution": false,
     "task": false
    }
   },
   "outputs": [],
   "source": [
    "# This test will check whether you defined all classes and properties correctly. [2 point]"
   ]
  },
  {
   "cell_type": "code",
   "execution_count": null,
   "metadata": {
    "deletable": false,
    "editable": false,
    "nbgrader": {
     "cell_type": "code",
     "checksum": "ccd49fe9feb87101f0c5fb25a93eeb54",
     "grade": true,
     "grade_id": "cell-7f37c91ef5082ff9",
     "locked": true,
     "points": 1,
     "schema_version": 3,
     "solution": false,
     "task": false
    }
   },
   "outputs": [],
   "source": [
    "# This test will check whether you defined all domains correctly. [1 point]"
   ]
  },
  {
   "cell_type": "code",
   "execution_count": null,
   "metadata": {
    "deletable": false,
    "editable": false,
    "nbgrader": {
     "cell_type": "code",
     "checksum": "8f4c45e4dc9cfe97bf6006629a8c9bb5",
     "grade": true,
     "grade_id": "cell-75367913698dcf97",
     "locked": true,
     "points": 2,
     "schema_version": 3,
     "solution": false,
     "task": false
    }
   },
   "outputs": [],
   "source": [
    "# This test will check whether you defined class equivalence, disjoint, and inverse relations correctly. [2 point]"
   ]
  },
  {
   "cell_type": "markdown",
   "metadata": {
    "deletable": false,
    "editable": false,
    "nbgrader": {
     "cell_type": "markdown",
     "checksum": "bc61ac2d2cdd9984357348df4caf8a25",
     "grade": false,
     "grade_id": "cell-a2b33551f5c46358",
     "locked": true,
     "schema_version": 3,
     "solution": false,
     "task": false
    }
   },
   "source": [
    "# Task 3: Biggest competitions in universities [8 points]\n",
    "\n",
    "## (3a) Ontology of university competitions [6 points]\n",
    "Academic institutions play a crucial role in the education and research landscape, often forming alliances and rivalries. This task focuses on creating an ontology that models and represents these relationships among academic institutions using OWL2.\n",
    "Consider the following information to model the ontology:  \n",
    "\n",
    "- Every individual within the ontology represents an academic institution. We are asking for two triples: Use **owl:Thing**, **owl:equivalentClass**, and **owl:Class**.\n",
    "\n",
    "- The concept of having a strategic academic partner is represented by the property **http://example.org/#partnersWith**. This property is an ObjectProperty and reflexive.\n",
    "\n",
    "- The concept of having a competetition is represented by the property **http://example.org/#competesWith**. This property is an ObjectProperty and reflexive.\n",
    "\n",
    "- Academic institutions regularly collaborate with each other in various ways (ObjectProperty, Transistive, Symmetric), and this relationship is represented by the property **http://example.org/#collaboratesWith**. This property is a sub-property of the partnership property. This property is disjoint with the 'compete with' property.\n",
    "\n",
    "- The concept of having an academic competitor is represented by the property **http://example.org/#hasAcademicCompetition**. This property is an ObjectProperty and a FunctionalProperty. This property is a sub-property of the competition property.\n",
    "\n",
    "- The concept of having a best academic partner is represented by the property **http://example.org/#hasBestAcademicPartner**. This property is an ObjectProperty and a FunctionalProperty. This property is a sub-property of the collaboration property.\n",
    "\n",
    "\n",
    "### Use the following URIs and OWL to model the ontology:  \n",
    "\n",
    "- Academic Institution: **http://example.org/#AcademicInstitution**  \n",
    "- Having a partnership: **http://example.org/#partnersWith**  \n",
    "- Having a collaboration: **http://example.org/#collaboratesWith**  \n",
    "- Having a competition: **http://example.org/#competesWith**  \n",
    "- Having the best academic partner: **http://example.org/#hasBestAcademicPartner**  \n",
    "- Having an academic competition: **http://example.org/#hasAcademicCompetition**  \n",
    "\n",
    "\n",
    "\n",
    "### Notes\n",
    "- You can either define your own base prefix or simply execute the **%%rdf turtle --prefix** cell and it will store <http://example.org/#> as prefix **ex:**.  \n",
    "- The test is carried out on the non-entailed graph. So, don't forget to explicitly assign/ classes (e.g., owl:Class) and define properties (e.g., owl:ObjectProperty). \n",
    "- Even though some terms such as rdfs:domain and rdfs:range originate from RDFS vocabulary, they're still part of OWL2.\n",
    "- You are allowed to use both OWL2 and RDFS terms/vocabularies, but do not use cardinality constraints!"
   ]
  },
  {
   "cell_type": "code",
   "execution_count": null,
   "metadata": {
    "deletable": false,
    "nbgrader": {
     "cell_type": "code",
     "checksum": "17bc60dfae4c05597e7d905970e89f07",
     "grade": false,
     "grade_id": "cell-d09e69255a9ee9ca",
     "locked": false,
     "schema_version": 3,
     "solution": true,
     "task": false
    }
   },
   "outputs": [],
   "source": [
    "%%rdf turtle -l university\n",
    "# YOUR CODE HERE\n",
    "raise NotImplementedError()"
   ]
  },
  {
   "cell_type": "code",
   "execution_count": null,
   "metadata": {
    "deletable": false,
    "editable": false,
    "nbgrader": {
     "cell_type": "code",
     "checksum": "e41c5f1d70b08a92771125509b887c27",
     "grade": true,
     "grade_id": "cell-6d9f7a59e2469e42",
     "locked": true,
     "points": 2,
     "schema_version": 3,
     "solution": false,
     "task": false
    }
   },
   "outputs": [],
   "source": [
    "# This test will check whether you defined all classes and properties correctly. [2 point]"
   ]
  },
  {
   "cell_type": "code",
   "execution_count": null,
   "metadata": {
    "deletable": false,
    "editable": false,
    "nbgrader": {
     "cell_type": "code",
     "checksum": "b68b86dd3118715ff7bea95ec37e6c6b",
     "grade": true,
     "grade_id": "cell-441d1e31b686df76",
     "locked": true,
     "points": 2,
     "schema_version": 3,
     "solution": false,
     "task": false
    }
   },
   "outputs": [],
   "source": [
    "# This test will check whether you defined all class and property relationships correctly. [2 point]"
   ]
  },
  {
   "cell_type": "code",
   "execution_count": null,
   "metadata": {
    "deletable": false,
    "editable": false,
    "nbgrader": {
     "cell_type": "code",
     "checksum": "3aaebaaaf1900bc79db12c8c9239d0d7",
     "grade": true,
     "grade_id": "cell-3fe6102b3ac1ec6a",
     "locked": true,
     "points": 2,
     "schema_version": 3,
     "solution": false,
     "task": false
    }
   },
   "outputs": [],
   "source": [
    "# This test will check whether you defined all property classes (Symmetry, Transitivity, etc.) correctly. [2 points]"
   ]
  },
  {
   "cell_type": "markdown",
   "metadata": {
    "deletable": false,
    "editable": false,
    "nbgrader": {
     "cell_type": "markdown",
     "checksum": "3535bcc516081789b96e2311e9995be6",
     "grade": false,
     "grade_id": "cell-bca0e05d6364f48b",
     "locked": true,
     "schema_version": 3,
     "solution": false,
     "task": false
    }
   },
   "source": [
    "## (3b) Simply competition or rivalry? [2 points]\n",
    "\n",
    "\n",
    "### Using the ontology from 3a, assert the following facts in OWL2:\n",
    "\n",
    "- Harvard, MIT, Stanford, UCBerkeley are Academic Institutions\n",
    "- Harvard has Academic Competition with MIT \n",
    "- Stanford has Academic Competition with UCBerkeley\n",
    "- Havard is the same as Havard University\n",
    "- UCBerkeley is different from UCDavis\n",
    "- Harvard has **no** AcademicCompetition with Yale. **Hint:** Have a look into NegativePropertyAssertion.\n",
    "\n",
    "### Use the following URIs:  \n",
    "\n",
    "- Harvard: **ex:Harvard**\n",
    "- MIT: **ex:MIT**\n",
    "- Stanford: **ex:Stanford**\n",
    "- UC Berkeley: **ex:UCBerkeley**\n",
    "- Academic Competition: **ex:hasAcademicCompetition**\n",
    "- Harvard University: **ex:HarvardUniversity**\n",
    "- UC Davis: **ex:UCDavis**\n",
    "- Yale: **ex:Yale**\n",
    "\n",
    "### Important notes: \n",
    "\n",
    "- You don't necessarily have to solve 3a in order to get points for 3b) and you may simply use the vocabulary in 3a. \n",
    "- You can either define your own base prefix or simply execute the **%%rdf turtle --prefix** cell and it will store <http://example.org/#> as prefix **ex:**.  \n",
    "- You are allowed to use both OWL2 and RDFS terms/vocabularies."
   ]
  },
  {
   "cell_type": "code",
   "execution_count": null,
   "metadata": {
    "deletable": false,
    "nbgrader": {
     "cell_type": "code",
     "checksum": "8623f4522465255dc9a14c275706efcf",
     "grade": false,
     "grade_id": "cell-632296252cf75bd5",
     "locked": false,
     "schema_version": 3,
     "solution": true,
     "task": false
    }
   },
   "outputs": [],
   "source": [
    "%%rdf turtle -l university_assert\n",
    "# YOUR CODE HERE\n",
    "raise NotImplementedError()"
   ]
  },
  {
   "cell_type": "code",
   "execution_count": null,
   "metadata": {
    "deletable": false,
    "editable": false,
    "nbgrader": {
     "cell_type": "code",
     "checksum": "4c720c699578e3664f83db802195eadf",
     "grade": true,
     "grade_id": "cell-ba5583dca3da0251",
     "locked": true,
     "points": 1,
     "schema_version": 3,
     "solution": false,
     "task": false
    }
   },
   "outputs": [],
   "source": [
    "# This test will check whether the first four assertions are correct. [1 point]"
   ]
  },
  {
   "cell_type": "code",
   "execution_count": null,
   "metadata": {
    "deletable": false,
    "editable": false,
    "nbgrader": {
     "cell_type": "code",
     "checksum": "945fef9e6eaf53f1e3d329f23ab9d734",
     "grade": true,
     "grade_id": "cell-e18e70524870689e",
     "locked": true,
     "points": 1,
     "schema_version": 3,
     "solution": false,
     "task": false
    }
   },
   "outputs": [],
   "source": [
    "# This test will check whether the fourth assertion is correct. [1 point]"
   ]
  },
  {
   "cell_type": "markdown",
   "metadata": {
    "deletable": false,
    "editable": false,
    "nbgrader": {
     "cell_type": "markdown",
     "checksum": "e012fb2f3cb44adfd62041acc0f3a6f0",
     "grade": false,
     "grade_id": "cell-6878ffea21534b1d",
     "locked": true,
     "schema_version": 3,
     "solution": false,
     "task": false
    }
   },
   "source": [
    "# Task 4 - OWL Complex Classes I [3 Points]"
   ]
  },
  {
   "cell_type": "markdown",
   "metadata": {
    "deletable": false,
    "editable": false,
    "nbgrader": {
     "cell_type": "markdown",
     "checksum": "53b079b1cdf5217d82681b856005b571",
     "grade": false,
     "grade_id": "cell-0f0cab5aeffb3b30",
     "locked": true,
     "schema_version": 3,
     "solution": false,
     "task": false
    }
   },
   "source": [
    "## Use OWL complex classes to define the following three classes in the context of a library system:\n",
    "\n",
    "\n",
    "### The class of BorrowableItems is the same as all Books, Journals, or DVDs:\n",
    "\n",
    "* BorrowableItems $\\equiv$ (Books $\\cup$ Journals $\\cup$ DVDs)\n",
    "\n",
    "### The class of ReferenceMaterial is the same as everything that is both a Book and not for lending:\n",
    "\n",
    "* ReferenceMaterial $\\equiv$ (Books $\\cap$ LendingItems$^{C}$)\n",
    "\n",
    "### The class of Multimedia contains at most the DVDs and AudioBooks:\n",
    "\n",
    "* Multimedia $\\subseteq$ (DVDs $\\cup$ AudioBooks)\n",
    "\n",
    "### Use the following URIs:\n",
    "\n",
    "- BorrowableItems: http://example.org/#BorrowableItems\n",
    "- ReferenceMaterial: http://example.org/#ReferenceMaterial\n",
    "- Multimedia: http://example.org/#Multimedia\n",
    "- Books: http://example.org/#Books\n",
    "- Journals: http://example.org/#Journals\n",
    "- DVDs: http://example.org/#DVDs\n",
    "- AudioBooks: http://example.org/#AudioBooks\n",
    "- LendingItems: http://example.org/#LendingItems\n",
    "\n",
    "\n",
    "### For OWL, use the following vocabulary:\n",
    "- Equivalent Class: owl:equivalentClass\n",
    "- Class: owl:Class\n",
    "- UnionOf: owl:unionOf\n",
    "- IntersectionOf: owl:intersectionOf\n",
    "- ComplementOf: owl:complementOf\n",
    "- SubsetOf: rdfs:subClassOf\n",
    "\n",
    "Only the above URIs (+Vocabulary) are necessary! You may also use all rdfs terms."
   ]
  },
  {
   "cell_type": "code",
   "execution_count": null,
   "metadata": {
    "deletable": false,
    "nbgrader": {
     "cell_type": "code",
     "checksum": "cc06a322790cc254940dd8e60ba0504a",
     "grade": false,
     "grade_id": "cell-a9fe4414203ff7b7",
     "locked": false,
     "schema_version": 3,
     "solution": true,
     "task": false
    }
   },
   "outputs": [],
   "source": [
    "%%rdf turtle -l media\n",
    "\n",
    "# YOUR CODE HERE\n",
    "raise NotImplementedError()"
   ]
  },
  {
   "cell_type": "code",
   "execution_count": null,
   "metadata": {
    "deletable": false,
    "editable": false,
    "nbgrader": {
     "cell_type": "code",
     "checksum": "15d7bde468cf14bff510659f523b6a36",
     "grade": true,
     "grade_id": "cell-6867bdfd760d5f19",
     "locked": true,
     "points": 1,
     "schema_version": 3,
     "solution": false,
     "task": false
    }
   },
   "outputs": [],
   "source": [
    "# This test will check whether your BorrowableItems class is correct. [1 point]"
   ]
  },
  {
   "cell_type": "code",
   "execution_count": null,
   "metadata": {
    "deletable": false,
    "editable": false,
    "nbgrader": {
     "cell_type": "code",
     "checksum": "578f1ebd1962a9713904115a8cd3f0a9",
     "grade": true,
     "grade_id": "cell-fd6ca29bda8cf86f",
     "locked": true,
     "points": 1,
     "schema_version": 3,
     "solution": false,
     "task": false
    }
   },
   "outputs": [],
   "source": [
    "# This test will check whether your forward class is correct. [1 point]"
   ]
  },
  {
   "cell_type": "code",
   "execution_count": null,
   "metadata": {
    "deletable": false,
    "editable": false,
    "nbgrader": {
     "cell_type": "code",
     "checksum": "e47502ca3af81e296c338744d7ba9510",
     "grade": true,
     "grade_id": "cell-c4bb05ae6db92ff5",
     "locked": true,
     "points": 1,
     "schema_version": 3,
     "solution": false,
     "task": false
    }
   },
   "outputs": [],
   "source": [
    "# This test will check whether your fieldplayer class is modelled correctly. [1 point]"
   ]
  },
  {
   "cell_type": "markdown",
   "metadata": {
    "deletable": false,
    "editable": false,
    "nbgrader": {
     "cell_type": "markdown",
     "checksum": "27691212af78437d41698dd7abdac67a",
     "grade": false,
     "grade_id": "cell-b345a77b405d602f",
     "locked": true,
     "schema_version": 3,
     "solution": false,
     "task": false
    }
   },
   "source": [
    "# Task 5 - OWL Complex Classes II [4 Points]"
   ]
  },
  {
   "cell_type": "markdown",
   "metadata": {
    "deletable": false,
    "editable": false,
    "nbgrader": {
     "cell_type": "markdown",
     "checksum": "47283cbc9be8c259cca7c338215d42f6",
     "grade": false,
     "grade_id": "cell-bed22c9f99c62c9d",
     "locked": true,
     "schema_version": 3,
     "solution": false,
     "task": false
    }
   },
   "source": [
    "### Use OWL complex classes and property restrictions to define the following two classes:\n",
    "\n",
    "1. A car dealership is something which offers at least one vehicle. (Do not use cardinality restrictions for this)\n",
    "\n",
    "2. Model the following two restrictions for individuals of type CarRental using cardinality restrictions.\n",
    "\n",
    "The restrictions should both apply at the same time.\n",
    "\n",
    "- A CarRental may at most offer 3 SUVs (Type: Non-negative).\n",
    "- A CarRental may at most offer 10 Vans (Type: Non-negative).\n",
    "\n",
    "### Use the following URIs:  \n",
    "* Car Dealership: **http://example.org/#CarDealership**  \n",
    "* Vehicle: **http://example.org/#Vehicle**  \n",
    "* CarRental: **http://example.org/#CarRental**  \n",
    "* SUV: **http://example.org/#SUV**  \n",
    "* Van: **http://example.org/#Van**  \n",
    "* offer: **http://example.org/#offer**\n",
    "* non-negative: **xsd:nonNegativeInteger**\n",
    "\n",
    "### For OWL, use the following vocabulary:\n",
    "* owl:equivalentClass\n",
    "* owl:Restriction\n",
    "* owl:onProperty\n",
    "* owl:someValuesFrom\n",
    "* owl:Class\n",
    "* owl:intersectionOf\n",
    "* owl:onClass\n",
    "* owl:maxQualifiedCardinality\n",
    "\n",
    "Only the above URIs (+Vocabulary) are necessary! You may also use all rdfs terms."
   ]
  },
  {
   "cell_type": "code",
   "execution_count": null,
   "metadata": {
    "deletable": false,
    "nbgrader": {
     "cell_type": "code",
     "checksum": "f3c15fb3f43c2bd670cf57ccc4a47942",
     "grade": false,
     "grade_id": "cell-0837434a3dcbb59e",
     "locked": false,
     "schema_version": 3,
     "solution": true,
     "task": false
    }
   },
   "outputs": [],
   "source": [
    "%%rdf turtle -l cars\n",
    "# YOUR CODE HERE\n",
    "raise NotImplementedError()"
   ]
  },
  {
   "cell_type": "code",
   "execution_count": null,
   "metadata": {
    "deletable": false,
    "editable": false,
    "nbgrader": {
     "cell_type": "code",
     "checksum": "bcd73fd717ced30fe48dd7183560e202",
     "grade": true,
     "grade_id": "cell-a52c1bdacd1faa54",
     "locked": true,
     "points": 1.5,
     "schema_version": 3,
     "solution": false,
     "task": false
    }
   },
   "outputs": [],
   "source": [
    "# This test will check whether your CarDealership class is correct. [1.5 points]"
   ]
  },
  {
   "cell_type": "code",
   "execution_count": null,
   "metadata": {
    "deletable": false,
    "editable": false,
    "nbgrader": {
     "cell_type": "code",
     "checksum": "e5f41aacc0650ffafe641f9bdf7a9b48",
     "grade": true,
     "grade_id": "cell-b43c337f832206cc",
     "locked": true,
     "points": 2.5,
     "schema_version": 3,
     "solution": false,
     "task": false
    }
   },
   "outputs": [],
   "source": [
    "# This test will check whether your CarRental class is correct. [2.5 points]"
   ]
  }
 ],
 "metadata": {
  "kernelspec": {
   "display_name": "Python 3 (ipykernel)",
   "language": "python",
   "name": "python3"
  },
  "language_info": {
   "codemirror_mode": {
    "name": "ipython",
    "version": 3
   },
   "file_extension": ".py",
   "mimetype": "text/x-python",
   "name": "python",
   "nbconvert_exporter": "python",
   "pygments_lexer": "ipython3",
   "version": "3.12.7"
  },
  "latex_envs": {
   "LaTeX_envs_menu_present": true,
   "autoclose": false,
   "autocomplete": true,
   "bibliofile": "biblio.bib",
   "cite_by": "apalike",
   "current_citInitial": 1,
   "eqLabelWithNumbers": true,
   "eqNumInitial": 1,
   "hotkeys": {
    "equation": "Ctrl-E",
    "itemize": "Ctrl-I"
   },
   "labels_anchors": false,
   "latex_user_defs": false,
   "report_style_numbering": false,
   "user_envs_cfg": false
  },
  "varInspector": {
   "cols": {
    "lenName": 16,
    "lenType": 16,
    "lenVar": 40
   },
   "kernels_config": {
    "python": {
     "delete_cmd_postfix": "",
     "delete_cmd_prefix": "del ",
     "library": "var_list.py",
     "varRefreshCmd": "print(var_dic_list())"
    },
    "r": {
     "delete_cmd_postfix": ") ",
     "delete_cmd_prefix": "rm(",
     "library": "var_list.r",
     "varRefreshCmd": "cat(var_dic_list()) "
    }
   },
   "types_to_exclude": [
    "module",
    "function",
    "builtin_function_or_method",
    "instance",
    "_Feature"
   ],
   "window_display": false
  }
 },
 "nbformat": 4,
 "nbformat_minor": 4
}
