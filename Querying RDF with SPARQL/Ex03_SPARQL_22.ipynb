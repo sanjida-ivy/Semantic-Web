{
 "cells": [
  {
   "cell_type": "code",
   "execution_count": 2,
   "metadata": {
    "deletable": false,
    "editable": false,
    "nbgrader": {
     "cell_type": "code",
     "checksum": "439c1f328cb12e9a07e1a0fff2ebef12",
     "grade": false,
     "grade_id": "cell-da81e829fa4f0add",
     "locked": true,
     "schema_version": 3,
     "solution": false,
     "task": false
    }
   },
   "outputs": [
    {
     "name": "stderr",
     "output_type": "stream",
     "text": [
      "C:\\Users\\Sanjida Ivy\\AppData\\Roaming\\Python\\Python312\\site-packages\\rdflib_jsonld\\__init__.py:9: DeprecationWarning: The rdflib-jsonld package has been integrated into rdflib as of rdflib==6.0.0.  Please remove rdflib-jsonld from your project's dependencies.\n",
      "  warnings.warn(\n"
     ]
    },
    {
     "data": {
      "application/javascript": "\n    if (typeof IPython !== \"undefined\") {\n        IPython.CodeCell.options_default.highlight_modes['application/sparql-query'] = {'reg':[/^%%rdf sparql/]};\n        IPython.CodeCell.options_default.highlight_modes['text/turtle'] = {'reg':[/^%%rdf turtle/, /^%%rdf shex/]};\n        IPython.CodeCell.options_default.highlight_modes['application/ld+json'] = {'reg':[/^%%rdf json-ld/]};\n        IPython.notebook.get_cells().map(function(cell){ if (cell.cell_type == 'code'){ cell.auto_highlight(); } });\n    }\n    "
     },
     "metadata": {},
     "output_type": "display_data"
    }
   ],
   "source": [
    "%reload_ext jupyter-rdfify"
   ]
  },
  {
   "cell_type": "code",
   "execution_count": 3,
   "metadata": {
    "deletable": false,
    "editable": false,
    "nbgrader": {
     "cell_type": "code",
     "checksum": "880dcd4bd891b551cf4d2daa56f33b60",
     "grade": false,
     "grade_id": "cell-1a741bc0fa2e5a84",
     "locked": true,
     "schema_version": 3,
     "solution": false,
     "task": false
    }
   },
   "outputs": [],
   "source": [
    "# This cell defines some helpers, imports and strings for tests. Run it!\n",
    "from rdflib import Variable, URIRef, Literal, XSD\n",
    "s = \"http://example.org/subjects#{}\"\n",
    "p = \"http://example.org/properties#{}\"\n",
    "c = \"http://example.org/classes#{}\"\n",
    "lab = \"http://www.w3.org/2000/01/rdf-schema#label\"\n",
    "err = \"Your query gave no result.\"\n",
    "ex = \"http://example.org/{}\"\n",
    "\n",
    "def project(bindings, variables):\n",
    "    result = list()\n",
    "    for binding in bindings:\n",
    "        result.append(binding.project(variables))\n",
    "    return result\n",
    "\n",
    "def bindingToString(binding):\n",
    "    res = \"\"\n",
    "    for var in binding:\n",
    "        res += f\"{var.n3()} -> {binding[var].n3()}\\n\"\n",
    "    return res\n",
    "\n",
    "def lenCheck(bindings, length, msg=None):\n",
    "    assert len(bindings) == length, \\\n",
    "        f\"Your query returned the wrong number of results. It returned {len(bindings)} but should have returned {length}.\\n\" \\\n",
    "        + (msg if msg is not None else \"\")\n",
    "    \n",
    "def exCheck(bindings, binding):\n",
    "    assert binding in bindings, \\\n",
    "        f\"Your result is missing the following binding:\\n{bindingToString(binding)}\"\n",
    "    \n",
    "def bindCheck(bindings, pos, binding):\n",
    "    assert(bindings[pos] == binding), \\\n",
    "        f\"\"\"The result of your query has the wrong binding in position {pos}.\n",
    "            Expected binding:\\n{bindingToString(binding)}\n",
    "            Your binding:\\n{bindingToString(bindings[pos])}\"\"\"\n",
    "    \n",
    "def uri(prefix, name):\n",
    "    return URIRef(prefix.format(name))"
   ]
  },
  {
   "cell_type": "markdown",
   "metadata": {
    "deletable": false,
    "editable": false,
    "nbgrader": {
     "cell_type": "markdown",
     "checksum": "0d9d8d55aa9dba5107515f6a79addb2f",
     "grade": false,
     "grade_id": "cell-2504817e24b211b9",
     "locked": true,
     "schema_version": 3,
     "solution": false,
     "task": false
    }
   },
   "source": [
    "# SPARQL\n",
    "SPARQL stands for **S**PARQL **P**rotocol **A**nd **R**DF **Q**uery **L**anguage and is a [W3C recommended](https://www.w3.org/TR/sparql11-overview/) language for querying and manipulating RDF graph content. As its syntax is similar Turtle, we will first look at an example:\n",
    "\n",
    "**PREFIX ex: http://example.org/#<br>   \n",
    "SELECT ?countryName ?capitalName  \n",
    "WHERE {  \n",
    "&nbsp;&nbsp;&nbsp;&nbsp;ex:Germany ex:name ?countryName .  \n",
    "&nbsp;&nbsp;&nbsp;&nbsp;ex:Germany ex:capital ?capital .  \n",
    "&nbsp;&nbsp;&nbsp;&nbsp;?capital ex:name ?capitalName  \n",
    "}**\n",
    "\n",
    "The following information was extracted from the [W3C SPARQL Query Language Specification](https://www.w3.org/TR/2013/REC-sparql11-query-20130321/). If you have any questions regarding SPARQL please first consult this document.\n",
    "\n",
    "## Prefixes\n",
    "As in Turtle, we can define *prefixes* to make our query more human-readable. In SPARQL, prefix declarations start with the keyword **PREFIX** and are then followed by the desired abbreviation and then the IRI to abbreviate. This syntax also works in turtle but note that there is *no period* at the end of the line (in contrary to the *@prefix* syntax which only works in Turtle). In the example above, we abbreviate the URI http://example.org/# to *ex:*.\n",
    "\n",
    "\n",
    "## Queries\n",
    "After all our prefix declarations, the query starts. First we need to specify a *query type*. SPARQL defines four query types which all match a given graph pattern against an RDF graph but differ in what they return:\n",
    "- **SELECT:** Queries return the variable bindings of user-specified variables which satisfy the given graph pattern.\n",
    "- **ASK:** Queries return a boolean result based on whether the given graph pattern could be matched against the RDF graph or not.\n",
    "- **CONSTRUCT:** Queries return a new graph which is constructed from a template and the variable bindings which satisfy the given graph pattern.\n",
    "- **DESCRIBE:** Queries return an RDF graph which describes the resource based on what the query service deems important (different query services can yield different results for the same graph).\n",
    "\n",
    "In our example above, we use a SELECT query. The graph pattern follows after the keyword **WHERE** and is surrounded by braces ({}).\n",
    "## Basic Graph Patterns\n",
    "We use so-called **Graph Patterns** to query an RDF graph. *Basic Graph Patterns* look very similar to Turtle as they use the same triple syntax. The only difference is that in Graph Patterns, we can also use variables at every position where an IRI can be used. Variables always start with a question mark and need an identifier. The graph pattern in our example (after the WHERE keyword) features three variables - namely ?countryName, ?capital and ?capitalName - in three triples. When matching a Graph Pattern against an RDF graph, the query service searches for variables bindings such that the Graph Pattern matches a part of the queried graph. When a variable occurs more than once in a pattern, both occurrences have to be bound to the same value in a match. Also note that the period at the end of a line represents a conjunction (AND), which is why we the last period of a Graph Pattern is optional. There are also more complex Graph Patterns called Group Graph Patterns, which we will cover later on.\n",
    "\n",
    "## Parameters\n",
    "The four query types take different parameters:  \n",
    "- **SELECT:** A set of variables delimited by spaces, on which the variable bindings should be projected. In our example we use the three variables ?capital, ?capitalName and ?countryName but we only want the last two to appear in our results, thus we specify ?capitalName and ?countryName after the SELECT keyword. If you want to project all variables, you can use an asterisk (\\*) at this position.\n",
    "- **ASK:** No parameters except for the graph pattern to match the RDF graph against.\n",
    "- **CONSTRUCT:** A Basic Graph Pattern as a template and a Graph Pattern for matching. The variable bindings resulting from matching the Graph Pattern against the RDF graph are then used to construct a new graph based on the template. When no template is given, the Graph Pattern used for matching is also used as the template but then only Basic Graph Patterns are allowed.\n",
    "- **DESCRIBE:** A set of variables and IRIs delimited by space which should be described by the resulting graph. One can also provide a Graph Pattern to identify resources or give constraints.\n",
    "\n",
    "## FROM Statement\n",
    "One can also use a FROM or a FROM NAMED statement to specify a dataset which should be queried. With this multiple graphs can be queried and/or merged. This won't be needed in this exercise but if you're interested you can [read about it](https://www.w3.org/TR/sparql11-query/#specifyingDataset).\n",
    "\n",
    "## Syntactic Sugar\n",
    "All the syntactic sugar from Turtle can also be used in SPARQL Graph Patterns!\n",
    "\n",
    "\n",
    "## Solution Modifiers\n",
    "SPARQL provides many ways to modify the result of a query. These are all applied after pattern matching and in the sequence that they are introduced here.\n",
    "\n",
    "### ORDER BY\n",
    "\n",
    "**SELECT ?employee WHERE {  \n",
    "&nbsp;&nbsp;&nbsp;&nbsp;?employee a c:Employee .  \n",
    "&nbsp;&nbsp;&nbsp;&nbsp;?employee p:income ?income  \n",
    "}<br>\n",
    "ORDER BY DESC(?income)**\n",
    "\n",
    "The **ORDER BY** modifier can be used to sort the bindings by a specific variable. The example above sorts all employees descending by income. To sort ascending instead, either use **ASC** instead of **DESC** or just omit DESC as ASC is the default. When using no ORDER BY, the results are in no specific sequence and may vary from service to service.\n",
    "\n",
    "### DISTINCT\n",
    "\n",
    "**SELECT DISTINCT ?parent WHERE {  \n",
    "&nbsp;&nbsp;&nbsp;&nbsp;?parent p:child ?child .  \n",
    "}**\n",
    "\n",
    "The **DISTINCT** modifier can be used to eliminate duplicate bindings. The example above shows all parents with at least one child but it shows all parents only once, even if they have multiple children. This could have been used in 2c). Note that DISTINCT only looks at projected variables.\n",
    "\n",
    "### OFFSET\n",
    "\n",
    "**SELECT ?employee WHERE {\n",
    "&nbsp;&nbsp;&nbsp;&nbsp;?employee a c:Employee .  \n",
    "}<br>\n",
    "OFFSET 3**\n",
    "\n",
    "The **OFFSET** modifier skips the first n>=0 results. The example above shows all employees but skips the first 3. OFFSET does nothing for n=0. OFFSET is often combined with ORDER BY and LIMIT to give predictable results (e.g. skip the 3 employees with the highest income).\n",
    "\n",
    "### LIMIT\n",
    "\n",
    "**SELECT ?employee WHERE {  \n",
    "&nbsp;&nbsp;&nbsp;&nbsp;?employee a c:Employee .  \n",
    "}<br>\n",
    "LIMIT 3**\n",
    "\n",
    "The **LIMIT** modifier specifies an upper bound n>=0 to the number of solutions returned. The example above shows only the first three employees. For n=0 no results will be returned. LIMIT is often combined with ORDER BY and LIMIT to give predictable results (e.g. only show the 3 employees with the highest income).\n",
    "\n"
   ]
  },
  {
   "cell_type": "markdown",
   "metadata": {
    "deletable": false,
    "editable": false,
    "nbgrader": {
     "cell_type": "markdown",
     "checksum": "48708b336edda7fc91c97beb62fc11e7",
     "grade": false,
     "grade_id": "cell-1bc52a7e242b3470",
     "locked": true,
     "schema_version": 3,
     "solution": false,
     "task": false
    }
   },
   "source": [
    "# Simpsons\n",
    "\n",
    "The RDF graph below contains some information about a family called Simpsons.\n",
    "You must run the following cell or the graph won't be in scope for following tasks."
   ]
  },
  {
   "cell_type": "code",
   "execution_count": 4,
   "metadata": {
    "deletable": false,
    "editable": false,
    "nbgrader": {
     "cell_type": "code",
     "checksum": "0abb363fc882de3986141c338faac4eb",
     "grade": false,
     "grade_id": "cell-4038d2f88652feb7",
     "locked": true,
     "schema_version": 3,
     "solution": false,
     "task": false
    }
   },
   "outputs": [
    {
     "data": {
      "image/svg+xml": [
       "<?xml version=\"1.0\" encoding=\"UTF-8\" standalone=\"no\"?>\n",
       "<!DOCTYPE svg PUBLIC \"-//W3C//DTD SVG 1.1//EN\"\n",
       " \"http://www.w3.org/Graphics/SVG/1.1/DTD/svg11.dtd\">\n",
       "<!-- Generated by graphviz version 8.1.0 (0)\n",
       " -->\n",
       "<!-- Pages: 1 -->\n",
       "<svg width=\"1263pt\" height=\"575pt\"\n",
       " viewBox=\"0.00 0.00 1263.15 575.00\" xmlns=\"http://www.w3.org/2000/svg\" xmlns:xlink=\"http://www.w3.org/1999/xlink\">\n",
       "<g id=\"graph0\" class=\"graph\" transform=\"scale(1 1) rotate(0) translate(4 571)\">\n",
       "<polygon fill=\"white\" stroke=\"none\" points=\"-4,4 -4,-571 1259.15,-571 1259.15,4 -4,4\"/>\n",
       "<!-- 0 -->\n",
       "<g id=\"node1\" class=\"node\">\n",
       "<title>0</title>\n",
       "<ellipse fill=\"none\" stroke=\"black\" cx=\"42.65\" cy=\"-18\" rx=\"42.65\" ry=\"18\"/>\n",
       "<text text-anchor=\"middle\" x=\"42.65\" y=\"-12.95\" font-family=\"Times New Roman,serif\" font-size=\"14.00\">c:Person</text>\n",
       "</g>\n",
       "<!-- 1 -->\n",
       "<g id=\"node2\" class=\"node\">\n",
       "<title>1</title>\n",
       "<polygon fill=\"none\" stroke=\"black\" points=\"760.03,-124.5 629.28,-124.5 629.28,-88.5 760.03,-88.5 760.03,-124.5\"/>\n",
       "<text text-anchor=\"middle\" x=\"694.65\" y=\"-101.45\" font-family=\"Times New Roman,serif\" font-size=\"14.00\">&quot;Homer J. Simpson&quot;</text>\n",
       "</g>\n",
       "<!-- 2 -->\n",
       "<g id=\"node3\" class=\"node\">\n",
       "<title>2</title>\n",
       "<ellipse fill=\"none\" stroke=\"black\" cx=\"572.65\" cy=\"-106.5\" rx=\"39.07\" ry=\"18\"/>\n",
       "<text text-anchor=\"middle\" x=\"572.65\" y=\"-101.45\" font-family=\"Times New Roman,serif\" font-size=\"14.00\">s:Mona</text>\n",
       "</g>\n",
       "<!-- 3 -->\n",
       "<g id=\"node4\" class=\"node\">\n",
       "<title>3</title>\n",
       "<ellipse fill=\"none\" stroke=\"black\" cx=\"446.65\" cy=\"-18\" rx=\"45.21\" ry=\"18\"/>\n",
       "<text text-anchor=\"middle\" x=\"446.65\" y=\"-12.95\" font-family=\"Times New Roman,serif\" font-size=\"14.00\">c:Female</text>\n",
       "</g>\n",
       "<!-- 2&#45;&gt;3 -->\n",
       "<g id=\"edge10\" class=\"edge\">\n",
       "<title>2&#45;&gt;3</title>\n",
       "<path fill=\"none\" stroke=\"black\" d=\"M564.99,-88.65C559.17,-77.49 550.19,-63.24 538.65,-54 526.08,-43.93 510.3,-36.53 495.37,-31.2\"/>\n",
       "<polygon fill=\"black\" stroke=\"black\" points=\"496.81,-27.66 486.22,-27.83 494.61,-34.3 496.81,-27.66\"/>\n",
       "<text text-anchor=\"middle\" x=\"575.03\" y=\"-57.2\" font-family=\"Times New Roman,serif\" font-size=\"14.00\">rdf:type</text>\n",
       "</g>\n",
       "<!-- 17 -->\n",
       "<g id=\"node18\" class=\"node\">\n",
       "<title>17</title>\n",
       "<polygon fill=\"none\" stroke=\"black\" points=\"671.65,-36 559.65,-36 559.65,0 671.65,0 671.65,-36\"/>\n",
       "<text text-anchor=\"middle\" x=\"615.65\" y=\"-12.95\" font-family=\"Times New Roman,serif\" font-size=\"14.00\">&quot;Mona Simpson&quot;</text>\n",
       "</g>\n",
       "<!-- 2&#45;&gt;17 -->\n",
       "<g id=\"edge3\" class=\"edge\">\n",
       "<title>2&#45;&gt;17</title>\n",
       "<path fill=\"none\" stroke=\"black\" d=\"M589.95,-90.16C595.4,-84.48 600.96,-77.67 604.65,-70.5 608.35,-63.32 610.8,-54.96 612.44,-47.09\"/>\n",
       "<polygon fill=\"black\" stroke=\"black\" points=\"616.02,-47.91 614.23,-37.47 609.11,-46.74 616.02,-47.91\"/>\n",
       "<text text-anchor=\"middle\" x=\"637.15\" y=\"-57.2\" font-family=\"Times New Roman,serif\" font-size=\"14.00\">rdfs:label</text>\n",
       "</g>\n",
       "<!-- 19 -->\n",
       "<g id=\"node20\" class=\"node\">\n",
       "<title>19</title>\n",
       "<ellipse fill=\"none\" stroke=\"black\" cx=\"988.65\" cy=\"-18\" rx=\"86.15\" ry=\"18\"/>\n",
       "<text text-anchor=\"middle\" x=\"988.65\" y=\"-12.95\" font-family=\"Times New Roman,serif\" font-size=\"14.00\">c:FictionalCharacter</text>\n",
       "</g>\n",
       "<!-- 2&#45;&gt;19 -->\n",
       "<g id=\"edge1\" class=\"edge\">\n",
       "<title>2&#45;&gt;19</title>\n",
       "<path fill=\"none\" stroke=\"black\" d=\"M601.52,-94.03C607.75,-91.91 614.36,-89.92 620.65,-88.5 696.49,-71.4 722.5,-99.46 794.65,-70.5 805.75,-66.05 805.03,-58.99 815.9,-54 842.54,-41.78 873.42,-33.81 901.64,-28.61\"/>\n",
       "<polygon fill=\"black\" stroke=\"black\" points=\"902.07,-31.92 911.32,-26.75 900.86,-25.02 902.07,-31.92\"/>\n",
       "<text text-anchor=\"middle\" x=\"838.03\" y=\"-57.2\" font-family=\"Times New Roman,serif\" font-size=\"14.00\">rdf:type</text>\n",
       "</g>\n",
       "<!-- 4 -->\n",
       "<g id=\"node5\" class=\"node\">\n",
       "<title>4</title>\n",
       "<polygon fill=\"none\" stroke=\"black\" points=\"940.53,-213 824.78,-213 824.78,-177 940.53,-177 940.53,-213\"/>\n",
       "<text text-anchor=\"middle\" x=\"882.65\" y=\"-189.95\" font-family=\"Times New Roman,serif\" font-size=\"14.00\">&quot;Marge Simpson&quot;</text>\n",
       "</g>\n",
       "<!-- 5 -->\n",
       "<g id=\"node6\" class=\"node\">\n",
       "<title>5</title>\n",
       "<polygon fill=\"none\" stroke=\"black\" points=\"1255.15,-478.5 1152.15,-478.5 1152.15,-442.5 1255.15,-442.5 1255.15,-478.5\"/>\n",
       "<text text-anchor=\"middle\" x=\"1203.65\" y=\"-455.45\" font-family=\"Times New Roman,serif\" font-size=\"14.00\">&quot;Bart Simpson&quot;</text>\n",
       "</g>\n",
       "<!-- 6 -->\n",
       "<g id=\"node7\" class=\"node\">\n",
       "<title>6</title>\n",
       "<ellipse fill=\"none\" stroke=\"black\" cx=\"756.65\" cy=\"-460.5\" rx=\"32.93\" ry=\"18\"/>\n",
       "<text text-anchor=\"middle\" x=\"756.65\" y=\"-455.45\" font-family=\"Times New Roman,serif\" font-size=\"14.00\">s:Lisa</text>\n",
       "</g>\n",
       "<!-- 6&#45;&gt;3 -->\n",
       "<g id=\"edge6\" class=\"edge\">\n",
       "<title>6&#45;&gt;3</title>\n",
       "<path fill=\"none\" stroke=\"black\" d=\"M732.9,-447.71C728.26,-445.74 723.36,-443.89 718.65,-442.5 668.19,-427.62 650.57,-443.87 601.65,-424.5 477.84,-375.48 416.36,-368.1 359.9,-247.5 322.39,-167.37 353.59,-124.8 406.65,-54 409.96,-49.59 413.89,-45.33 417.99,-41.4\"/>\n",
       "<polygon fill=\"black\" stroke=\"black\" points=\"419.83,-44.55 424.95,-35.27 415.16,-39.34 419.83,-44.55\"/>\n",
       "<text text-anchor=\"middle\" x=\"382.03\" y=\"-234.2\" font-family=\"Times New Roman,serif\" font-size=\"14.00\">rdf:type</text>\n",
       "</g>\n",
       "<!-- 8 -->\n",
       "<g id=\"node9\" class=\"node\">\n",
       "<title>8</title>\n",
       "<ellipse fill=\"none\" stroke=\"black\" cx=\"816.65\" cy=\"-283.5\" rx=\"41.63\" ry=\"18\"/>\n",
       "<text text-anchor=\"middle\" x=\"816.65\" y=\"-278.45\" font-family=\"Times New Roman,serif\" font-size=\"14.00\">s:Marge</text>\n",
       "</g>\n",
       "<!-- 6&#45;&gt;8 -->\n",
       "<g id=\"edge21\" class=\"edge\">\n",
       "<title>6&#45;&gt;8</title>\n",
       "<path fill=\"none\" stroke=\"black\" d=\"M758.59,-442.25C761.35,-421 767.34,-384 778.4,-354 783.98,-338.86 792.46,-323.03 800.02,-310.3\"/>\n",
       "<polygon fill=\"black\" stroke=\"black\" points=\"803.33,-312.6 805.56,-302.24 797.36,-308.95 803.33,-312.6\"/>\n",
       "<text text-anchor=\"middle\" x=\"800.78\" y=\"-366.95\" font-family=\"Times New Roman,serif\" font-size=\"14.00\">p:parent</text>\n",
       "</g>\n",
       "<!-- 10 -->\n",
       "<g id=\"node11\" class=\"node\">\n",
       "<title>10</title>\n",
       "<ellipse fill=\"none\" stroke=\"black\" cx=\"826.65\" cy=\"-549\" rx=\"32.93\" ry=\"18\"/>\n",
       "<text text-anchor=\"middle\" x=\"826.65\" y=\"-543.95\" font-family=\"Times New Roman,serif\" font-size=\"14.00\">s:Bart</text>\n",
       "</g>\n",
       "<!-- 6&#45;&gt;10 -->\n",
       "<g id=\"edge36\" class=\"edge\">\n",
       "<title>6&#45;&gt;10</title>\n",
       "<path fill=\"none\" stroke=\"black\" d=\"M778.79,-474.01C787.73,-479.91 797.59,-487.62 804.65,-496.5 810.36,-503.67 814.84,-512.53 818.23,-520.88\"/>\n",
       "<polygon fill=\"black\" stroke=\"black\" points=\"815.22,-521.82 821.95,-530 821.79,-519.41 815.22,-521.82\"/>\n",
       "<text text-anchor=\"middle\" x=\"838.28\" y=\"-499.7\" font-family=\"Times New Roman,serif\" font-size=\"14.00\">p:sibling</text>\n",
       "</g>\n",
       "<!-- 11 -->\n",
       "<g id=\"node12\" class=\"node\">\n",
       "<title>11</title>\n",
       "<ellipse fill=\"none\" stroke=\"black\" cx=\"733.65\" cy=\"-195\" rx=\"43.16\" ry=\"18\"/>\n",
       "<text text-anchor=\"middle\" x=\"733.65\" y=\"-189.95\" font-family=\"Times New Roman,serif\" font-size=\"14.00\">s:Homer</text>\n",
       "</g>\n",
       "<!-- 6&#45;&gt;11 -->\n",
       "<g id=\"edge27\" class=\"edge\">\n",
       "<title>6&#45;&gt;11</title>\n",
       "<path fill=\"none\" stroke=\"black\" d=\"M753.5,-442.39C749.26,-418.62 741.86,-374.21 738.4,-336 734.89,-297.26 733.91,-252.27 733.67,-223.97\"/>\n",
       "<polygon fill=\"black\" stroke=\"black\" points=\"737.17,-224.26 733.61,-214.28 730.17,-224.3 737.17,-224.26\"/>\n",
       "<text text-anchor=\"middle\" x=\"760.78\" y=\"-322.7\" font-family=\"Times New Roman,serif\" font-size=\"14.00\">p:parent</text>\n",
       "</g>\n",
       "<!-- 14 -->\n",
       "<g id=\"node15\" class=\"node\">\n",
       "<title>14</title>\n",
       "<polygon fill=\"none\" stroke=\"black\" points=\"935.15,-390 832.15,-390 832.15,-354 935.15,-354 935.15,-390\"/>\n",
       "<text text-anchor=\"middle\" x=\"883.65\" y=\"-366.95\" font-family=\"Times New Roman,serif\" font-size=\"14.00\">&quot;Lisa Simpson&quot;</text>\n",
       "</g>\n",
       "<!-- 6&#45;&gt;14 -->\n",
       "<g id=\"edge28\" class=\"edge\">\n",
       "<title>6&#45;&gt;14</title>\n",
       "<path fill=\"none\" stroke=\"black\" d=\"M776.77,-445.79C796.29,-432.5 826.26,-412.09 849.51,-396.25\"/>\n",
       "<polygon fill=\"black\" stroke=\"black\" points=\"851.08,-398.74 857.37,-390.22 847.14,-392.95 851.08,-398.74\"/>\n",
       "<text text-anchor=\"middle\" x=\"857.15\" y=\"-411.2\" font-family=\"Times New Roman,serif\" font-size=\"14.00\">rdfs:label</text>\n",
       "</g>\n",
       "<!-- 16 -->\n",
       "<g id=\"node17\" class=\"node\">\n",
       "<title>16</title>\n",
       "<ellipse fill=\"none\" stroke=\"black\" cx=\"612.65\" cy=\"-372\" rx=\"45.72\" ry=\"18\"/>\n",
       "<text text-anchor=\"middle\" x=\"612.65\" y=\"-366.95\" font-family=\"Times New Roman,serif\" font-size=\"14.00\">s:Maggie</text>\n",
       "</g>\n",
       "<!-- 6&#45;&gt;16 -->\n",
       "<g id=\"edge15\" class=\"edge\">\n",
       "<title>6&#45;&gt;16</title>\n",
       "<path fill=\"none\" stroke=\"black\" d=\"M731.31,-448.78C716.92,-442.35 698.78,-433.66 683.4,-424.5 682.83,-424.16 661.51,-408.63 642.42,-394.72\"/>\n",
       "<polygon fill=\"black\" stroke=\"black\" points=\"644.76,-391.36 634.61,-388.29 640.63,-397.01 644.76,-391.36\"/>\n",
       "<text text-anchor=\"middle\" x=\"707.28\" y=\"-411.2\" font-family=\"Times New Roman,serif\" font-size=\"14.00\">p:sibling</text>\n",
       "</g>\n",
       "<!-- 6&#45;&gt;19 -->\n",
       "<g id=\"edge33\" class=\"edge\">\n",
       "<title>6&#45;&gt;19</title>\n",
       "<path fill=\"none\" stroke=\"black\" d=\"M787.67,-453.72C814.54,-448.11 854.09,-438.41 886.65,-424.5 913.88,-412.87 922.59,-410.82 943.65,-390 1009.53,-324.89 1028.23,-302.06 1053.65,-213 1068.42,-161.25 1024.76,-61.49 1020.65,-54 1018.81,-50.65 1016.59,-47.36 1014.18,-44.23\"/>\n",
       "<polygon fill=\"black\" stroke=\"black\" points=\"1016.22,-42.22 1007.07,-36.87 1010.89,-46.75 1016.22,-42.22\"/>\n",
       "<text text-anchor=\"middle\" x=\"1070.03\" y=\"-234.2\" font-family=\"Times New Roman,serif\" font-size=\"14.00\">rdf:type</text>\n",
       "</g>\n",
       "<!-- 7 -->\n",
       "<g id=\"node8\" class=\"node\">\n",
       "<title>7</title>\n",
       "<polygon fill=\"none\" stroke=\"black\" points=\"820.03,-36 689.28,-36 689.28,0 820.03,0 820.03,-36\"/>\n",
       "<text text-anchor=\"middle\" x=\"754.65\" y=\"-12.95\" font-family=\"Times New Roman,serif\" font-size=\"14.00\">&quot;Abraham Simpson&quot;</text>\n",
       "</g>\n",
       "<!-- 8&#45;&gt;3 -->\n",
       "<g id=\"edge7\" class=\"edge\">\n",
       "<title>8&#45;&gt;3</title>\n",
       "<path fill=\"none\" stroke=\"black\" d=\"M786.74,-270.66C731.34,-247.83 610.56,-193.8 524.65,-124.5 499.43,-104.15 494.61,-96.78 475.65,-70.5 470.02,-62.69 464.62,-53.69 460.04,-45.41\"/>\n",
       "<polygon fill=\"black\" stroke=\"black\" points=\"462.7,-43.97 454.89,-36.81 456.53,-47.28 462.7,-43.97\"/>\n",
       "<text text-anchor=\"middle\" x=\"591.03\" y=\"-145.7\" font-family=\"Times New Roman,serif\" font-size=\"14.00\">rdf:type</text>\n",
       "</g>\n",
       "<!-- 8&#45;&gt;4 -->\n",
       "<g id=\"edge26\" class=\"edge\">\n",
       "<title>8&#45;&gt;4</title>\n",
       "<path fill=\"none\" stroke=\"black\" d=\"M843.11,-269.21C852.01,-263.59 861.29,-256.29 867.65,-247.5 872.68,-240.55 876.03,-231.93 878.26,-223.75\"/>\n",
       "<polygon fill=\"black\" stroke=\"black\" points=\"881.89,-224.58 880.66,-214.05 875.06,-223.04 881.89,-224.58\"/>\n",
       "<text text-anchor=\"middle\" x=\"901.15\" y=\"-234.2\" font-family=\"Times New Roman,serif\" font-size=\"14.00\">rdfs:label</text>\n",
       "</g>\n",
       "<!-- 8&#45;&gt;11 -->\n",
       "<g id=\"edge38\" class=\"edge\">\n",
       "<title>8&#45;&gt;11</title>\n",
       "<path fill=\"none\" stroke=\"black\" d=\"M813.5,-265.15C810.81,-254.33 805.99,-240.67 797.65,-231 791.34,-223.69 783.11,-217.62 774.66,-212.71\"/>\n",
       "<polygon fill=\"black\" stroke=\"black\" points=\"776.59,-209.25 766.12,-207.66 773.31,-215.43 776.59,-209.25\"/>\n",
       "<text text-anchor=\"middle\" x=\"831.28\" y=\"-234.2\" font-family=\"Times New Roman,serif\" font-size=\"14.00\">p:spouse</text>\n",
       "</g>\n",
       "<!-- 8&#45;&gt;19 -->\n",
       "<g id=\"edge34\" class=\"edge\">\n",
       "<title>8&#45;&gt;19</title>\n",
       "<path fill=\"none\" stroke=\"black\" d=\"M856.6,-277.85C880.25,-273.37 909.61,-264.61 930.65,-247.5 944.23,-236.46 943.01,-229.19 949.65,-213 951.59,-208.27 973.62,-129.5 974.65,-124.5 980.01,-98.55 983.76,-68.55 986.02,-47.2\"/>\n",
       "<polygon fill=\"black\" stroke=\"black\" points=\"989.6,-47.61 987.12,-37.3 982.63,-46.9 989.6,-47.61\"/>\n",
       "<text text-anchor=\"middle\" x=\"991.03\" y=\"-145.7\" font-family=\"Times New Roman,serif\" font-size=\"14.00\">rdf:type</text>\n",
       "</g>\n",
       "<!-- 9 -->\n",
       "<g id=\"node10\" class=\"node\">\n",
       "<title>9</title>\n",
       "<polygon fill=\"none\" stroke=\"black\" points=\"212.15,-36 103.15,-36 103.15,0 212.15,0 212.15,-36\"/>\n",
       "<text text-anchor=\"middle\" x=\"157.65\" y=\"-12.95\" font-family=\"Times New Roman,serif\" font-size=\"14.00\">&quot;Matt Groening&quot;</text>\n",
       "</g>\n",
       "<!-- 10&#45;&gt;5 -->\n",
       "<g id=\"edge13\" class=\"edge\">\n",
       "<title>10&#45;&gt;5</title>\n",
       "<path fill=\"none\" stroke=\"black\" d=\"M859.64,-546.55C929.04,-543.14 1087.85,-533.32 1137.65,-513 1152.81,-506.82 1167.41,-496.1 1179.01,-486.04\"/>\n",
       "<polygon fill=\"black\" stroke=\"black\" points=\"1180.82,-489.21 1185.88,-479.91 1176.12,-484.02 1180.82,-489.21\"/>\n",
       "<text text-anchor=\"middle\" x=\"1190.15\" y=\"-499.7\" font-family=\"Times New Roman,serif\" font-size=\"14.00\">rdfs:label</text>\n",
       "</g>\n",
       "<!-- 10&#45;&gt;6 -->\n",
       "<g id=\"edge20\" class=\"edge\">\n",
       "<title>10&#45;&gt;6</title>\n",
       "<path fill=\"none\" stroke=\"black\" d=\"M797.11,-540.85C782.51,-535.68 766.18,-527.05 757.4,-513 753.08,-506.09 751.74,-497.58 751.81,-489.48\"/>\n",
       "<polygon fill=\"black\" stroke=\"black\" points=\"755.38,-489.76 752.67,-479.52 748.4,-489.21 755.38,-489.76\"/>\n",
       "<text text-anchor=\"middle\" x=\"781.28\" y=\"-499.7\" font-family=\"Times New Roman,serif\" font-size=\"14.00\">p:sibling</text>\n",
       "</g>\n",
       "<!-- 10&#45;&gt;8 -->\n",
       "<g id=\"edge12\" class=\"edge\">\n",
       "<title>10&#45;&gt;8</title>\n",
       "<path fill=\"none\" stroke=\"black\" d=\"M846.43,-534.16C889.32,-502.42 983.86,-421.84 943.65,-354 926.19,-324.54 891.33,-306.75 862.55,-296.55\"/>\n",
       "<polygon fill=\"black\" stroke=\"black\" points=\"863.86,-292.97 853.26,-293.13 861.65,-299.61 863.86,-292.97\"/>\n",
       "<text text-anchor=\"middle\" x=\"973.78\" y=\"-411.2\" font-family=\"Times New Roman,serif\" font-size=\"14.00\">p:parent</text>\n",
       "</g>\n",
       "<!-- 10&#45;&gt;11 -->\n",
       "<g id=\"edge16\" class=\"edge\">\n",
       "<title>10&#45;&gt;11</title>\n",
       "<path fill=\"none\" stroke=\"black\" d=\"M855.43,-540.05C908.1,-523.64 1013.43,-481.29 999.65,-408 984.05,-325.02 996.45,-283.91 930.65,-231 890.33,-198.58 866.55,-222.25 815.65,-213 804.59,-210.99 792.74,-208.64 781.57,-206.35\"/>\n",
       "<polygon fill=\"black\" stroke=\"black\" points=\"782.63,-202.79 772.13,-204.17 781.21,-209.64 782.63,-202.79\"/>\n",
       "<text text-anchor=\"middle\" x=\"1018.78\" y=\"-366.95\" font-family=\"Times New Roman,serif\" font-size=\"14.00\">p:parent</text>\n",
       "</g>\n",
       "<!-- 12 -->\n",
       "<g id=\"node13\" class=\"node\">\n",
       "<title>12</title>\n",
       "<ellipse fill=\"none\" stroke=\"black\" cx=\"304.65\" cy=\"-18\" rx=\"37.02\" ry=\"18\"/>\n",
       "<text text-anchor=\"middle\" x=\"304.65\" y=\"-12.95\" font-family=\"Times New Roman,serif\" font-size=\"14.00\">c:Male</text>\n",
       "</g>\n",
       "<!-- 10&#45;&gt;12 -->\n",
       "<g id=\"edge40\" class=\"edge\">\n",
       "<title>10&#45;&gt;12</title>\n",
       "<path fill=\"none\" stroke=\"black\" d=\"M793.87,-546.2C677.28,-539.38 289.65,-512.85 289.65,-461.5 289.65,-461.5 289.65,-461.5 289.65,-105.5 289.65,-85.5 293.59,-63.27 297.44,-46.35\"/>\n",
       "<polygon fill=\"black\" stroke=\"black\" points=\"300.97,-47.62 299.9,-37.08 294.16,-45.99 300.97,-47.62\"/>\n",
       "<text text-anchor=\"middle\" x=\"311.03\" y=\"-278.45\" font-family=\"Times New Roman,serif\" font-size=\"14.00\">rdf:type</text>\n",
       "</g>\n",
       "<!-- 10&#45;&gt;16 -->\n",
       "<g id=\"edge5\" class=\"edge\">\n",
       "<title>10&#45;&gt;16</title>\n",
       "<path fill=\"none\" stroke=\"black\" d=\"M799.04,-538.6C766.35,-526.89 710.87,-505.13 667.4,-478.5 635.15,-458.75 617.81,-458.69 601.65,-424.5 598.1,-417 598.46,-408.34 600.38,-400.3\"/>\n",
       "<polygon fill=\"black\" stroke=\"black\" points=\"604.01,-401.46 603.78,-390.86 597.36,-399.29 604.01,-401.46\"/>\n",
       "<text text-anchor=\"middle\" x=\"691.28\" y=\"-455.45\" font-family=\"Times New Roman,serif\" font-size=\"14.00\">p:sibling</text>\n",
       "</g>\n",
       "<!-- 10&#45;&gt;19 -->\n",
       "<g id=\"edge22\" class=\"edge\">\n",
       "<title>10&#45;&gt;19</title>\n",
       "<path fill=\"none\" stroke=\"black\" d=\"M859.28,-545.45C936.44,-538.52 1123.65,-516.08 1123.65,-461.5 1123.65,-461.5 1123.65,-461.5 1123.65,-105.5 1123.65,-69.65 1089.48,-47.98 1055.53,-35.29\"/>\n",
       "<polygon fill=\"black\" stroke=\"black\" points=\"1057.11,-31.79 1046.51,-31.79 1054.8,-38.4 1057.11,-31.79\"/>\n",
       "<text text-anchor=\"middle\" x=\"1145.03\" y=\"-278.45\" font-family=\"Times New Roman,serif\" font-size=\"14.00\">rdf:type</text>\n",
       "</g>\n",
       "<!-- 11&#45;&gt;1 -->\n",
       "<g id=\"edge30\" class=\"edge\">\n",
       "<title>11&#45;&gt;1</title>\n",
       "<path fill=\"none\" stroke=\"black\" d=\"M725.95,-176.91C720.53,-164.9 713.18,-148.59 706.96,-134.8\"/>\n",
       "<polygon fill=\"black\" stroke=\"black\" points=\"709.77,-133.53 702.47,-125.85 703.39,-136.41 709.77,-133.53\"/>\n",
       "<text text-anchor=\"middle\" x=\"743.15\" y=\"-145.7\" font-family=\"Times New Roman,serif\" font-size=\"14.00\">rdfs:label</text>\n",
       "</g>\n",
       "<!-- 11&#45;&gt;2 -->\n",
       "<g id=\"edge37\" class=\"edge\">\n",
       "<title>11&#45;&gt;2</title>\n",
       "<path fill=\"none\" stroke=\"black\" d=\"M706.12,-180.71C693.08,-174.31 677.35,-166.43 663.4,-159 643.84,-148.59 622.25,-136.36 605.03,-126.44\"/>\n",
       "<polygon fill=\"black\" stroke=\"black\" points=\"607.37,-123.17 596.96,-121.19 603.86,-129.23 607.37,-123.17\"/>\n",
       "<text text-anchor=\"middle\" x=\"685.78\" y=\"-145.7\" font-family=\"Times New Roman,serif\" font-size=\"14.00\">p:parent</text>\n",
       "</g>\n",
       "<!-- 11&#45;&gt;8 -->\n",
       "<g id=\"edge17\" class=\"edge\">\n",
       "<title>11&#45;&gt;8</title>\n",
       "<path fill=\"none\" stroke=\"black\" d=\"M735.91,-213.37C738.08,-224.2 742.29,-237.86 750.4,-247.5 756.98,-255.32 765.77,-261.64 774.78,-266.64\"/>\n",
       "<polygon fill=\"black\" stroke=\"black\" points=\"773.05,-270.19 783.56,-271.55 776.19,-263.93 773.05,-270.19\"/>\n",
       "<text text-anchor=\"middle\" x=\"774.28\" y=\"-234.2\" font-family=\"Times New Roman,serif\" font-size=\"14.00\">p:spouse</text>\n",
       "</g>\n",
       "<!-- 11&#45;&gt;12 -->\n",
       "<g id=\"edge35\" class=\"edge\">\n",
       "<title>11&#45;&gt;12</title>\n",
       "<path fill=\"none\" stroke=\"black\" d=\"M690.28,-194.65C638.94,-193.92 551.83,-187.94 483.65,-159 419.04,-131.57 357.77,-74.65 326.41,-42.47\"/>\n",
       "<polygon fill=\"black\" stroke=\"black\" points=\"329.55,-40.65 320.1,-35.86 324.51,-45.49 329.55,-40.65\"/>\n",
       "<text text-anchor=\"middle\" x=\"443.03\" y=\"-101.45\" font-family=\"Times New Roman,serif\" font-size=\"14.00\">rdf:type</text>\n",
       "</g>\n",
       "<!-- 13 -->\n",
       "<g id=\"node14\" class=\"node\">\n",
       "<title>13</title>\n",
       "<ellipse fill=\"none\" stroke=\"black\" cx=\"829.65\" cy=\"-106.5\" rx=\"51.86\" ry=\"18\"/>\n",
       "<text text-anchor=\"middle\" x=\"829.65\" y=\"-101.45\" font-family=\"Times New Roman,serif\" font-size=\"14.00\">s:Abraham</text>\n",
       "</g>\n",
       "<!-- 11&#45;&gt;13 -->\n",
       "<g id=\"edge4\" class=\"edge\">\n",
       "<title>11&#45;&gt;13</title>\n",
       "<path fill=\"none\" stroke=\"black\" d=\"M751.13,-178.33C757.86,-172.29 765.62,-165.33 772.65,-159 782.77,-149.89 793.88,-139.85 803.59,-131.08\"/>\n",
       "<polygon fill=\"black\" stroke=\"black\" points=\"805.62,-134.05 810.69,-124.75 800.93,-128.86 805.62,-134.05\"/>\n",
       "<text text-anchor=\"middle\" x=\"812.78\" y=\"-145.7\" font-family=\"Times New Roman,serif\" font-size=\"14.00\">p:parent</text>\n",
       "</g>\n",
       "<!-- 11&#45;&gt;19 -->\n",
       "<g id=\"edge18\" class=\"edge\">\n",
       "<title>11&#45;&gt;19</title>\n",
       "<path fill=\"none\" stroke=\"black\" d=\"M769.57,-184.59C790.29,-178.53 816.54,-169.78 838.65,-159 894.26,-131.88 943.45,-77.12 969.34,-44.71\"/>\n",
       "<polygon fill=\"black\" stroke=\"black\" points=\"972.6,-47.23 976.01,-37.2 967.09,-42.91 972.6,-47.23\"/>\n",
       "<text text-anchor=\"middle\" x=\"951.03\" y=\"-101.45\" font-family=\"Times New Roman,serif\" font-size=\"14.00\">rdf:type</text>\n",
       "</g>\n",
       "<!-- 13&#45;&gt;7 -->\n",
       "<g id=\"edge14\" class=\"edge\">\n",
       "<title>13&#45;&gt;7</title>\n",
       "<path fill=\"none\" stroke=\"black\" d=\"M790.5,-94.26C770.57,-87.67 749.36,-78.99 743.65,-70.5 738.97,-63.54 739.06,-54.95 741.1,-46.79\"/>\n",
       "<polygon fill=\"black\" stroke=\"black\" points=\"744.7,-48.09 744.67,-37.5 738.08,-45.8 744.7,-48.09\"/>\n",
       "<text text-anchor=\"middle\" x=\"769.15\" y=\"-57.2\" font-family=\"Times New Roman,serif\" font-size=\"14.00\">rdfs:label</text>\n",
       "</g>\n",
       "<!-- 13&#45;&gt;12 -->\n",
       "<g id=\"edge32\" class=\"edge\">\n",
       "<title>13&#45;&gt;12</title>\n",
       "<path fill=\"none\" stroke=\"black\" d=\"M792.18,-93.75C784.46,-91.7 776.35,-89.81 768.65,-88.5 647.13,-67.84 613.45,-90.95 491.9,-70.5 440.08,-61.78 381.96,-44.59 344.41,-32.48\"/>\n",
       "<polygon fill=\"black\" stroke=\"black\" points=\"345.98,-28.98 335.39,-29.21 343.81,-35.64 345.98,-28.98\"/>\n",
       "<text text-anchor=\"middle\" x=\"514.03\" y=\"-57.2\" font-family=\"Times New Roman,serif\" font-size=\"14.00\">rdf:type</text>\n",
       "</g>\n",
       "<!-- 13&#45;&gt;19 -->\n",
       "<g id=\"edge19\" class=\"edge\">\n",
       "<title>13&#45;&gt;19</title>\n",
       "<path fill=\"none\" stroke=\"black\" d=\"M843.37,-89.13C853.55,-77.89 868.32,-63.36 883.9,-54 896.08,-46.68 909.99,-40.67 923.6,-35.82\"/>\n",
       "<polygon fill=\"black\" stroke=\"black\" points=\"924.57,-38.85 932.92,-32.33 922.33,-32.22 924.57,-38.85\"/>\n",
       "<text text-anchor=\"middle\" x=\"906.03\" y=\"-57.2\" font-family=\"Times New Roman,serif\" font-size=\"14.00\">rdf:type</text>\n",
       "</g>\n",
       "<!-- 15 -->\n",
       "<g id=\"node16\" class=\"node\">\n",
       "<title>15</title>\n",
       "<ellipse fill=\"none\" stroke=\"black\" cx=\"157.65\" cy=\"-106.5\" rx=\"34.97\" ry=\"18\"/>\n",
       "<text text-anchor=\"middle\" x=\"157.65\" y=\"-101.45\" font-family=\"Times New Roman,serif\" font-size=\"14.00\">s:Matt</text>\n",
       "</g>\n",
       "<!-- 15&#45;&gt;0 -->\n",
       "<g id=\"edge24\" class=\"edge\">\n",
       "<title>15&#45;&gt;0</title>\n",
       "<path fill=\"none\" stroke=\"black\" d=\"M138.53,-91.21C130.06,-84.87 119.98,-77.32 110.9,-70.5 97.82,-60.67 83.35,-49.75 71.11,-40.51\"/>\n",
       "<polygon fill=\"black\" stroke=\"black\" points=\"73.73,-37.35 63.64,-34.12 69.51,-42.94 73.73,-37.35\"/>\n",
       "<text text-anchor=\"middle\" x=\"133.03\" y=\"-57.2\" font-family=\"Times New Roman,serif\" font-size=\"14.00\">rdf:type</text>\n",
       "</g>\n",
       "<!-- 15&#45;&gt;9 -->\n",
       "<g id=\"edge8\" class=\"edge\">\n",
       "<title>15&#45;&gt;9</title>\n",
       "<path fill=\"none\" stroke=\"black\" d=\"M157.65,-88.41C157.65,-76.64 157.65,-60.73 157.65,-47.11\"/>\n",
       "<polygon fill=\"black\" stroke=\"black\" points=\"161.15,-47.35 157.65,-37.35 154.15,-47.35 161.15,-47.35\"/>\n",
       "<text text-anchor=\"middle\" x=\"183.15\" y=\"-57.2\" font-family=\"Times New Roman,serif\" font-size=\"14.00\">rdfs:label</text>\n",
       "</g>\n",
       "<!-- 15&#45;&gt;12 -->\n",
       "<g id=\"edge9\" class=\"edge\">\n",
       "<title>15&#45;&gt;12</title>\n",
       "<path fill=\"none\" stroke=\"black\" d=\"M178.48,-91.65C188.02,-85.27 199.45,-77.55 209.65,-70.5 220.07,-63.3 222,-60.47 232.9,-54 244.06,-47.38 256.64,-40.92 268.13,-35.4\"/>\n",
       "<polygon fill=\"black\" stroke=\"black\" points=\"269.32,-38.23 276.87,-30.79 266.33,-31.9 269.32,-38.23\"/>\n",
       "<text text-anchor=\"middle\" x=\"255.03\" y=\"-57.2\" font-family=\"Times New Roman,serif\" font-size=\"14.00\">rdf:type</text>\n",
       "</g>\n",
       "<!-- 16&#45;&gt;3 -->\n",
       "<g id=\"edge11\" class=\"edge\">\n",
       "<title>16&#45;&gt;3</title>\n",
       "<path fill=\"none\" stroke=\"black\" d=\"M572.49,-362.99C537.2,-353.91 486.89,-335.71 456.65,-301.5 391.97,-228.33 375.46,-182.3 402.65,-88.5 407.32,-72.39 416.97,-56.42 426.05,-43.87\"/>\n",
       "<polygon fill=\"black\" stroke=\"black\" points=\"429.23,-46.46 432.48,-36.38 423.65,-42.24 429.23,-46.46\"/>\n",
       "<text text-anchor=\"middle\" x=\"420.03\" y=\"-189.95\" font-family=\"Times New Roman,serif\" font-size=\"14.00\">rdf:type</text>\n",
       "</g>\n",
       "<!-- 16&#45;&gt;6 -->\n",
       "<g id=\"edge23\" class=\"edge\">\n",
       "<title>16&#45;&gt;6</title>\n",
       "<path fill=\"none\" stroke=\"black\" d=\"M607.12,-390.04C604.7,-401.01 603.87,-414.94 611.4,-424.5 623.93,-440.4 675.18,-449.93 713.27,-454.94\"/>\n",
       "<polygon fill=\"black\" stroke=\"black\" points=\"712.76,-458.52 723.12,-456.29 713.63,-451.58 712.76,-458.52\"/>\n",
       "<text text-anchor=\"middle\" x=\"635.28\" y=\"-411.2\" font-family=\"Times New Roman,serif\" font-size=\"14.00\">p:sibling</text>\n",
       "</g>\n",
       "<!-- 16&#45;&gt;8 -->\n",
       "<g id=\"edge25\" class=\"edge\">\n",
       "<title>16&#45;&gt;8</title>\n",
       "<path fill=\"none\" stroke=\"black\" d=\"M623.11,-354.08C631.1,-342.58 643.14,-327.97 657.4,-319.5 689.87,-300.22 731.75,-291.53 764.41,-287.63\"/>\n",
       "<polygon fill=\"black\" stroke=\"black\" points=\"764.54,-291.02 774.11,-286.48 763.79,-284.06 764.54,-291.02\"/>\n",
       "<text text-anchor=\"middle\" x=\"679.78\" y=\"-322.7\" font-family=\"Times New Roman,serif\" font-size=\"14.00\">p:parent</text>\n",
       "</g>\n",
       "<!-- 16&#45;&gt;10 -->\n",
       "<g id=\"edge29\" class=\"edge\">\n",
       "<title>16&#45;&gt;10</title>\n",
       "<path fill=\"none\" stroke=\"black\" d=\"M594.98,-388.82C572.89,-410.51 540.48,-450.06 562.4,-478.5 589.29,-513.37 716.17,-534.22 783.86,-543.04\"/>\n",
       "<polygon fill=\"black\" stroke=\"black\" points=\"783.22,-546.62 793.59,-544.4 784.11,-539.67 783.22,-546.62\"/>\n",
       "<text text-anchor=\"middle\" x=\"586.28\" y=\"-455.45\" font-family=\"Times New Roman,serif\" font-size=\"14.00\">p:sibling</text>\n",
       "</g>\n",
       "<!-- 16&#45;&gt;11 -->\n",
       "<g id=\"edge31\" class=\"edge\">\n",
       "<title>16&#45;&gt;11</title>\n",
       "<path fill=\"none\" stroke=\"black\" d=\"M618.54,-353.92C626.5,-332.18 642.07,-294.03 662.4,-265.5 674.81,-248.09 691.87,-231.28 706.18,-218.55\"/>\n",
       "<polygon fill=\"black\" stroke=\"black\" points=\"707.98,-220.75 713.23,-211.55 703.39,-215.47 707.98,-220.75\"/>\n",
       "<text text-anchor=\"middle\" x=\"684.78\" y=\"-278.45\" font-family=\"Times New Roman,serif\" font-size=\"14.00\">p:parent</text>\n",
       "</g>\n",
       "<!-- 18 -->\n",
       "<g id=\"node19\" class=\"node\">\n",
       "<title>18</title>\n",
       "<polygon fill=\"none\" stroke=\"black\" points=\"587.53,-301.5 465.78,-301.5 465.78,-265.5 587.53,-265.5 587.53,-301.5\"/>\n",
       "<text text-anchor=\"middle\" x=\"526.65\" y=\"-278.45\" font-family=\"Times New Roman,serif\" font-size=\"14.00\">&quot;Maggie Simpson&quot;</text>\n",
       "</g>\n",
       "<!-- 16&#45;&gt;18 -->\n",
       "<g id=\"edge39\" class=\"edge\">\n",
       "<title>16&#45;&gt;18</title>\n",
       "<path fill=\"none\" stroke=\"black\" d=\"M586.2,-357.07C576.82,-351.34 566.63,-344.13 558.65,-336 551.55,-328.76 545.26,-319.68 540.18,-311.17\"/>\n",
       "<polygon fill=\"black\" stroke=\"black\" points=\"542.75,-309.58 534.8,-302.58 536.64,-313.01 542.75,-309.58\"/>\n",
       "<text text-anchor=\"middle\" x=\"584.15\" y=\"-322.7\" font-family=\"Times New Roman,serif\" font-size=\"14.00\">rdfs:label</text>\n",
       "</g>\n",
       "<!-- 16&#45;&gt;19 -->\n",
       "<g id=\"edge2\" class=\"edge\">\n",
       "<title>16&#45;&gt;19</title>\n",
       "<path fill=\"none\" stroke=\"black\" d=\"M656.63,-366.45C727.68,-356.86 868.18,-328.33 951.65,-247.5 985.97,-214.27 998.45,-204.61 1012.65,-159 1024.54,-120.79 1011.72,-74.77 1000.73,-46.19\"/>\n",
       "<polygon fill=\"black\" stroke=\"black\" points=\"1003.66,-45.11 996.66,-37.15 997.17,-47.73 1003.66,-45.11\"/>\n",
       "<text text-anchor=\"middle\" x=\"1028.03\" y=\"-189.95\" font-family=\"Times New Roman,serif\" font-size=\"14.00\">rdf:type</text>\n",
       "</g>\n",
       "</g>\n",
       "</svg>\n"
      ],
      "text/plain": [
       "<graphviz.graphs.Digraph at 0x2401528c680>"
      ]
     },
     "metadata": {},
     "output_type": "display_data"
    }
   ],
   "source": [
    "%%rdf turtle -l simpsons\n",
    "PREFIX rdfs: <http://www.w3.org/2000/01/rdf-schema#>\n",
    "PREFIX s: <http://example.org/subjects#>\n",
    "PREFIX p: <http://example.org/properties#>\n",
    "PREFIX c: <http://example.org/classes#>\n",
    "\n",
    "s:Homer a c:FictionalCharacter, c:Male ;\n",
    "    p:spouse s:Marge ;\n",
    "    p:parent s:Abraham ;\n",
    "    p:parent s:Mona ;\n",
    "    rdfs:label \"Homer J. Simpson\" .\n",
    "s:Marge a c:FictionalCharacter, c:Female ;\n",
    "    p:spouse s:Homer ;\n",
    "    rdfs:label \"Marge Simpson\" .\n",
    "s:Bart a c:FictionalCharacter, c:Male ;\n",
    "    p:parent s:Homer ;\n",
    "    p:parent s:Marge ;\n",
    "    p:sibling s:Lisa ;\n",
    "    p:sibling s:Maggie ;\n",
    "    rdfs:label \"Bart Simpson\" .\n",
    "s:Lisa a c:FictionalCharacter, c:Female ;\n",
    "    p:parent s:Homer ;\n",
    "    p:parent s:Marge ;\n",
    "    p:sibling s:Bart ;\n",
    "    p:sibling s:Maggie ;\n",
    "    rdfs:label \"Lisa Simpson\" .\n",
    "s:Maggie a c:FictionalCharacter, c:Female ;\n",
    "    p:parent s:Homer ;\n",
    "    p:parent s:Marge ;\n",
    "    p:sibling s:Bart ;\n",
    "    p:sibling s:Lisa ;\n",
    "    rdfs:label \"Maggie Simpson\" .\n",
    "s:Mona a c:FictionalCharacter, c:Female ;\n",
    "    rdfs:label \"Mona Simpson\" .\n",
    "s:Abraham a c:FictionalCharacter, c:Male ;\n",
    "    rdfs:label \"Abraham Simpson\" .\n",
    "s:Matt a c:Person, c:Male ;\n",
    "    rdfs:label \"Matt Groening\" ."
   ]
  },
  {
   "cell_type": "markdown",
   "metadata": {
    "deletable": false,
    "editable": false,
    "nbgrader": {
     "cell_type": "markdown",
     "checksum": "b354e8c89ba2a5e83f5a4ae716510f9a",
     "grade": false,
     "grade_id": "cell-0292854a13724aee",
     "locked": true,
     "schema_version": 3,
     "solution": false,
     "task": false
    }
   },
   "source": [
    "<div class=\"alert alert-warning\">\n",
    "    <h3> Important: </h3> <br>\n",
    "     The cell below will define some prefixes which can be used throughout the whole exercise notebook. You do not need to define them yourself and can just use them. You need to run the cell or you won't be able to use them.\n",
    "    </div>"
   ]
  },
  {
   "cell_type": "code",
   "execution_count": 4,
   "metadata": {
    "deletable": false,
    "editable": false,
    "nbgrader": {
     "cell_type": "code",
     "checksum": "e29a1d770f05f53a9a3e16b0cc394e13",
     "grade": false,
     "grade_id": "cell-427424a02451874b",
     "locked": true,
     "schema_version": 3,
     "solution": false,
     "task": false
    }
   },
   "outputs": [
    {
     "name": "stdout",
     "output_type": "stream",
     "text": [
      "SPARQL: Stored prefix.\n"
     ]
    }
   ],
   "source": [
    "%%rdf sparql --prefix\n",
    "PREFIX rdfs: <http://www.w3.org/2000/01/rdf-schema#>\n",
    "PREFIX xsd: <http://www.w3.org/2001/XMLSchema#>\n",
    "PREFIX s: <http://example.org/subjects#>\n",
    "PREFIX p: <http://example.org/properties#>\n",
    "PREFIX c: <http://example.org/classes#>\n",
    "PREFIX ex: <http://example.org/> "
   ]
  },
  {
   "cell_type": "markdown",
   "metadata": {
    "deletable": false,
    "editable": false,
    "nbgrader": {
     "cell_type": "markdown",
     "checksum": "26bf9423dd9085875b7f9486be9f9369",
     "grade": false,
     "grade_id": "cell-46db8475a92bead0",
     "locked": true,
     "schema_version": 3,
     "solution": false,
     "task": false
    }
   },
   "source": [
    "# Task 1 - Basic Queries [1.5 Points]"
   ]
  },
  {
   "cell_type": "markdown",
   "metadata": {
    "deletable": false,
    "editable": false,
    "nbgrader": {
     "cell_type": "markdown",
     "checksum": "73c16633506db7174b5c96978b695278",
     "grade": false,
     "grade_id": "cell-6024e4a47535f0c3",
     "locked": true,
     "schema_version": 3,
     "solution": false,
     "task": false
    }
   },
   "source": [
    "Formulate the following questions as SPARQL queries using simple SELECT queries, variables and Basic Graph Patterns. You can use as many variables as you need but <b>the answer to the question must be bound to the variable ?result.</b>"
   ]
  },
  {
   "cell_type": "markdown",
   "metadata": {
    "deletable": false,
    "editable": false,
    "nbgrader": {
     "cell_type": "markdown",
     "checksum": "b7043cd4a995686b7da26293f6c61248",
     "grade": false,
     "grade_id": "cell-d5b85f5f97dad9cb",
     "locked": true,
     "schema_version": 3,
     "solution": false,
     "task": false
    }
   },
   "source": [
    "<div class=\"alert alert-warning\">\n",
    "    \n",
    "\n",
    "For example, if the question is \"What is the name of Germany?\", the solution would be:\n",
    "    \n",
    "\n",
    "    SELECT ?result WHERE {\n",
    "    ex:Germany rdfs:label ?result\n",
    "    }\n",
    " \n",
    "    \n",
    "Please note the difference between a resource (an IRI) and the name of a resource (a human readable literal often assigned with the predicate rdfs:label). Read the question carefully and try to recognize whether we are asking for an entity (e.g. Who is xy?) or for the name of an entity (e.g. What is xy's name?).This task refers to this graph about a family called Simpsons. Assume a closed world (information that isn't explicitly stated is false).    </div>"
   ]
  },
  {
   "cell_type": "markdown",
   "metadata": {
    "deletable": false,
    "editable": false,
    "nbgrader": {
     "cell_type": "markdown",
     "checksum": "90f983d7b0572272c568694cb30d0646",
     "grade": false,
     "grade_id": "cell-7154983bc5fbba1b",
     "locked": true,
     "schema_version": 3,
     "solution": false,
     "task": false
    }
   },
   "source": [
    "## Example Query (Try it!)"
   ]
  },
  {
   "cell_type": "markdown",
   "metadata": {
    "deletable": false,
    "editable": false,
    "nbgrader": {
     "cell_type": "markdown",
     "checksum": "1be036350ad0d2ff742953bfb1664acc",
     "grade": false,
     "grade_id": "cell-f7e0e38a5d6080f1",
     "locked": true,
     "schema_version": 3,
     "solution": false,
     "task": false
    }
   },
   "source": [
    "### Who are Homer Simpson's parents?"
   ]
  },
  {
   "cell_type": "code",
   "execution_count": 5,
   "metadata": {
    "deletable": false,
    "editable": false,
    "nbgrader": {
     "cell_type": "code",
     "checksum": "9eeecb4cc2f2aa3290c0d123137e1eb9",
     "grade": false,
     "grade_id": "cell-7d2d75bdb4ba0411",
     "locked": true,
     "schema_version": 3,
     "solution": false,
     "task": false
    }
   },
   "outputs": [
    {
     "data": {
      "text/html": [
       "<table><tr><th>?result</th></tr><tr><td>http://example.org/subjects#Abraham</td></tr><tr><td>http://example.org/subjects#Mona</td></tr></table>"
      ],
      "text/plain": [
       "<IPython.core.display.HTML object>"
      ]
     },
     "metadata": {},
     "output_type": "display_data"
    }
   ],
   "source": [
    "%%rdf sparql -l simpsons -s example\n",
    "\n",
    "SELECT ?result\n",
    "WHERE {\n",
    "    s:Homer p:parent ?result\n",
    "}"
   ]
  },
  {
   "cell_type": "markdown",
   "metadata": {
    "deletable": false,
    "editable": false,
    "nbgrader": {
     "cell_type": "markdown",
     "checksum": "793d2487c39f5cfaabf335f27fe4965c",
     "grade": false,
     "grade_id": "cell-dce39a76c905b99b",
     "locked": true,
     "schema_version": 3,
     "solution": false,
     "task": false
    }
   },
   "source": [
    "# a) Who are Marge Simpson's children? [0.5 Points]"
   ]
  },
  {
   "cell_type": "code",
   "execution_count": null,
   "metadata": {
    "deletable": false,
    "nbgrader": {
     "cell_type": "code",
     "checksum": "0092e5312f7b173ecf4a77ecf4c7e685",
     "grade": false,
     "grade_id": "cell-6e4602d6d5e6d695",
     "locked": false,
     "schema_version": 3,
     "solution": true,
     "task": false
    }
   },
   "outputs": [],
   "source": [
    "%%rdf sparql -l simpsons -s 1a\n",
    "# YOUR CODE HERE\n",
    "raise NotImplementedError()"
   ]
  },
  {
   "cell_type": "code",
   "execution_count": null,
   "metadata": {
    "deletable": false,
    "editable": false,
    "nbgrader": {
     "cell_type": "code",
     "checksum": "a7dfceabeb8e13fac381feb436d38ce8",
     "grade": true,
     "grade_id": "cell-0d67d44e74c459fb",
     "locked": true,
     "points": 0.5,
     "schema_version": 3,
     "solution": false,
     "task": false
    }
   },
   "outputs": [],
   "source": [
    "# This test checks whether your query gives the correct result. [0.5 points]"
   ]
  },
  {
   "cell_type": "markdown",
   "metadata": {
    "deletable": false,
    "editable": false,
    "nbgrader": {
     "cell_type": "markdown",
     "checksum": "95c0bd50e750b626c75c86bc3a7df089",
     "grade": false,
     "grade_id": "cell-53e9d357eae7503e",
     "locked": true,
     "schema_version": 3,
     "solution": false,
     "task": false
    }
   },
   "source": [
    "# b) Who are male characters/persons? [0.5 Points]"
   ]
  },
  {
   "cell_type": "code",
   "execution_count": null,
   "metadata": {
    "deletable": false,
    "nbgrader": {
     "cell_type": "code",
     "checksum": "4efe39782d8bb91f64cd2f1251cdcabe",
     "grade": false,
     "grade_id": "cell-45af1db68cdabb1f",
     "locked": false,
     "schema_version": 3,
     "solution": true,
     "task": false
    }
   },
   "outputs": [],
   "source": [
    " %%rdf sparql -l simpsons -s 1b\n",
    "# YOUR CODE HERE\n",
    "raise NotImplementedError()"
   ]
  },
  {
   "cell_type": "code",
   "execution_count": null,
   "metadata": {
    "deletable": false,
    "editable": false,
    "nbgrader": {
     "cell_type": "code",
     "checksum": "3e950c74fdf95b92e61206487b263394",
     "grade": true,
     "grade_id": "cell-86bd551ba524a22a",
     "locked": true,
     "points": 0.5,
     "schema_version": 3,
     "solution": false,
     "task": false
    }
   },
   "outputs": [],
   "source": [
    "# This test will check whether your query returns the right results. [0.5 points]"
   ]
  },
  {
   "cell_type": "markdown",
   "metadata": {
    "deletable": false,
    "editable": false,
    "nbgrader": {
     "cell_type": "markdown",
     "checksum": "08975f63d100c51502c9f5154e526de7",
     "grade": false,
     "grade_id": "cell-05e1ae087c5ac53a",
     "locked": true,
     "schema_version": 3,
     "solution": false,
     "task": false
    }
   },
   "source": [
    "# c) What is the relation between Marge and Homer? [0.5 Points]"
   ]
  },
  {
   "cell_type": "code",
   "execution_count": null,
   "metadata": {
    "deletable": false,
    "nbgrader": {
     "cell_type": "code",
     "checksum": "2e01ca1f26df163c92eacadaf3ebc033",
     "grade": false,
     "grade_id": "cell-5d8d10954a3b47e9",
     "locked": false,
     "schema_version": 3,
     "solution": true,
     "task": false
    }
   },
   "outputs": [],
   "source": [
    " %%rdf sparql -l simpsons -s 1c\n",
    "# YOUR CODE HERE\n",
    "raise NotImplementedError()"
   ]
  },
  {
   "cell_type": "code",
   "execution_count": null,
   "metadata": {
    "deletable": false,
    "editable": false,
    "nbgrader": {
     "cell_type": "code",
     "checksum": "2e963672caa7ac2b61b5f944f8cce780",
     "grade": true,
     "grade_id": "cell-b4909d11b084a25f",
     "locked": true,
     "points": 0.5,
     "schema_version": 3,
     "solution": false,
     "task": false
    }
   },
   "outputs": [],
   "source": [
    "# This test will check whether your query returns the right results. [0.5 points]"
   ]
  },
  {
   "cell_type": "markdown",
   "metadata": {
    "deletable": false,
    "editable": false,
    "nbgrader": {
     "cell_type": "markdown",
     "checksum": "fdb6c24491cdd3f755e2da5e080ae432",
     "grade": false,
     "grade_id": "cell-603ffb2a0f52af58",
     "locked": true,
     "schema_version": 3,
     "solution": false,
     "task": false
    }
   },
   "source": [
    "# Task 2 - Constructing Queries [2 Points]"
   ]
  },
  {
   "cell_type": "markdown",
   "metadata": {
    "deletable": false,
    "editable": false,
    "nbgrader": {
     "cell_type": "markdown",
     "checksum": "edcd7ed2f084d82404b374e9fb259f9c",
     "grade": false,
     "grade_id": "cell-88b8dde474673b11",
     "locked": true,
     "schema_version": 3,
     "solution": false,
     "task": false
    }
   },
   "source": [
    "Formulate the following questions as SPARQL queries using simple SELECT queries, variables and Basic Graph Patterns. You can use as many variables as you need but <b>the answer to the question must be bound to the variable ?result.</b>\n",
    "Again, please note that the URI/IRI of a resource is not the same as the literal name of that resource."
   ]
  },
  {
   "cell_type": "code",
   "execution_count": null,
   "metadata": {
    "deletable": false,
    "editable": false,
    "nbgrader": {
     "cell_type": "code",
     "checksum": "707077a3fba17492d73a3a43c479cff5",
     "grade": false,
     "grade_id": "cell-9bfa89b552d97f20",
     "locked": true,
     "schema_version": 3,
     "solution": false,
     "task": false
    }
   },
   "outputs": [],
   "source": [
    "%%rdf turtle -l royals\n",
    "PREFIX ex: <http://example.org/> \n",
    "PREFIX xsd: <http://www.w3.org/2001/XMLSchema#> \n",
    "\n",
    "ex:Philip ex:Name \"Prince Philip\" .\n",
    "ex:ElizabethII ex:Name \"Queen Elizabeth II\" .\n",
    "ex:Camilla ex:Name \"Camilla Parker\" .\n",
    "ex:CharlesIII ex:Name \"King Charles III\" .\n",
    "ex:Diana ex:Name \"Princess Diana\" .\n",
    "ex:William ex:Name \"Prince William\" .\n",
    "ex:Catherine ex:Name \"Catherine Middleton\" .\n",
    "ex:Harry ex:Name \"Prince Harry\" .\n",
    "ex:Meghan ex:Name \"Meghan Markle\" .\n",
    "\n",
    "ex:Philip ex:Duke ex:Edinburgh .\n",
    "ex:Philip ex:AKA \"Duke of Edinburgh\" . \n",
    "ex:Philip ex:MarriedTo ex:ElizabethII .\n",
    "ex:Philip ex:HasChild ex:CharlesIII . \n",
    "\n",
    "ex:ElizabethII ex:Queen ex:UK .\n",
    "ex:ElizabethII ex:RuledFor \"70\"^^xsd:int .\n",
    "ex:ElizabethII ex:MarriedTo ex:Philip .\n",
    "ex:ElizabethII ex:HasChild ex:CharlesIII .\n",
    "\n",
    "ex:Camilla ex:Duchess ex:Cornwall .\n",
    "ex:Camilla ex:AKA \"Duchess of Cornwall\" . \n",
    "ex:Camilla ex:MarriedTo ex:CharlesIII .\n",
    "\n",
    "ex:CharlesIII ex:King ex:UK .\n",
    "ex:CharlesIII  ex:MarriedTo ex:Camilla  .\n",
    "ex:CharlesIII  ex:DivorcedWith ex:Diana .\n",
    "ex:CharlesIII  ex:ChildOf ex:ElizabethII . \n",
    "ex:CharlesIII  ex:ChildOf ex:Philip . \n",
    "ex:CharlesIII  ex:HasChild  ex:William . \n",
    "ex:CharlesIII  ex:HasChild ex:Harry . \n",
    "\n",
    "ex:Diana ex:Princess ex:Wales .\n",
    "ex:Diana ex:AKA \"Princess of Wales\" . \n",
    "ex:Diana ex:DivorcedWith ex:CharlesIII .\n",
    "ex:Diana ex:HasChild ex:William . \n",
    "ex:Diana ex:HasChild ex:Harry . \n",
    "\n",
    "ex:Catherine ex:Duchess ex:Cambridge .\n",
    "ex:Catherine ex:AKA \"Duchess of Cambridge\" . \n",
    "ex:Catherine ex:MarriedTo ex:William .\n",
    "\n",
    "ex:William ex:Duke ex:Cambridge .\n",
    "ex:William ex:AKA \"Duke of Cambridge\" . \n",
    "ex:William ex:MarriedTo ex:Catherine .\n",
    "ex:William ex:ChildOf ex:Diana . \n",
    "ex:William ex:ChildOf ex:CharlesIII . \n",
    "\n",
    "ex:Meghan ex:Duchess ex:Wales .\n",
    "ex:Meghan ex:AKA \"Duchess of Wales\" . \n",
    "ex:Meghan ex:MarriedTo ex:Harry .\n",
    "\n",
    "ex:Harry ex:Duke ex:Wales .\n",
    "ex:Harry ex:AKA \"Duke of Wales\" . \n",
    "ex:Harry ex:MarriedTo ex:Meghan .\n",
    "ex:Harry ex:ChildOf ex:Diana . \n",
    "ex:Harry ex:ChildOf ex:CharlesIII . "
   ]
  },
  {
   "cell_type": "markdown",
   "metadata": {
    "deletable": false,
    "editable": false,
    "nbgrader": {
     "cell_type": "markdown",
     "checksum": "a332937f53f37557afc33a24c34f1339",
     "grade": false,
     "grade_id": "cell-a150a4a3f6d5d274",
     "locked": true,
     "schema_version": 3,
     "solution": false,
     "task": false
    }
   },
   "source": [
    "### 2a) Who is called \"Camilla Parker\"? Hint: Basic Graph Patterns can also match literals for equality. We are looking for the entity, which has the (string) name \"Camilla Parker\". [0.5 Points]"
   ]
  },
  {
   "cell_type": "code",
   "execution_count": null,
   "metadata": {
    "deletable": false,
    "nbgrader": {
     "cell_type": "code",
     "checksum": "9049ec3663b98c5f943cb5d1bf5dfd14",
     "grade": false,
     "grade_id": "cell-6545d26d7ad27c8f",
     "locked": false,
     "schema_version": 3,
     "solution": true,
     "task": false
    }
   },
   "outputs": [],
   "source": [
    "%%rdf sparql -l royals -s 2a\n",
    "# YOUR CODE HERE\n",
    "raise NotImplementedError()"
   ]
  },
  {
   "cell_type": "code",
   "execution_count": null,
   "metadata": {
    "deletable": false,
    "editable": false,
    "nbgrader": {
     "cell_type": "code",
     "checksum": "2ff51fdd49f307378a727ca5c3644093",
     "grade": true,
     "grade_id": "cell-fdb43253eccabf8d",
     "locked": true,
     "points": 0.5,
     "schema_version": 3,
     "solution": false,
     "task": false
    }
   },
   "outputs": [],
   "source": [
    "# This test will check whether your query returns the right results. [0.5 points]"
   ]
  },
  {
   "cell_type": "markdown",
   "metadata": {
    "deletable": false,
    "editable": false,
    "nbgrader": {
     "cell_type": "markdown",
     "checksum": "e79516300be2365012bf966385b95504",
     "grade": false,
     "grade_id": "cell-785ca6f6539cae50",
     "locked": true,
     "schema_version": 3,
     "solution": false,
     "task": false
    }
   },
   "source": [
    "### 2b) What are the names (the string name!) of all grand-children of Elizabeth II? [0.5 Points]"
   ]
  },
  {
   "cell_type": "code",
   "execution_count": null,
   "metadata": {
    "deletable": false,
    "nbgrader": {
     "cell_type": "code",
     "checksum": "3f33d6654f1cbfe58a8e5ecbde902ab2",
     "grade": false,
     "grade_id": "cell-10f3223853a761d5",
     "locked": false,
     "schema_version": 3,
     "solution": true,
     "task": false
    }
   },
   "outputs": [],
   "source": [
    "%%rdf sparql -l royals -s 2b\n",
    "# YOUR CODE HERE\n",
    "raise NotImplementedError()"
   ]
  },
  {
   "cell_type": "code",
   "execution_count": null,
   "metadata": {
    "deletable": false,
    "editable": false,
    "nbgrader": {
     "cell_type": "code",
     "checksum": "931808238b733186688f6e369570fe9e",
     "grade": true,
     "grade_id": "cell-16f139d5a10809a4",
     "locked": true,
     "points": 0.5,
     "schema_version": 3,
     "solution": false,
     "task": false
    }
   },
   "outputs": [],
   "source": [
    " # This test will check whether your query returns the right results. [0.5 points]"
   ]
  },
  {
   "cell_type": "markdown",
   "metadata": {
    "deletable": false,
    "editable": false,
    "nbgrader": {
     "cell_type": "markdown",
     "checksum": "d72330478a1dd1f12de6838f39385b88",
     "grade": false,
     "grade_id": "cell-85fd08e58d4846d9",
     "locked": true,
     "schema_version": 3,
     "solution": false,
     "task": false
    }
   },
   "source": [
    "### 2c) What are the titles (AKA) of persons, who are married to a person, who has divorced parents? [1 Points]\n",
    "\n",
    "<div class=\"alert alert-warning\">\n",
    "    <h3> Important: </h3> <br>\n",
    "Do not use the DISTINCT keyword.\n",
    "    Note: This query will yield the same binding for ?result multiple times. Think about why that is. If you can't think of a reason try projecting the other variables as well. The query should return 4 results.\n",
    "    </div>"
   ]
  },
  {
   "cell_type": "code",
   "execution_count": null,
   "metadata": {
    "deletable": false,
    "nbgrader": {
     "cell_type": "code",
     "checksum": "d91e54e550b600fa80e029a615b8db7c",
     "grade": false,
     "grade_id": "cell-1794431b727ae4b4",
     "locked": false,
     "schema_version": 3,
     "solution": true,
     "task": false
    }
   },
   "outputs": [],
   "source": [
    "%%rdf sparql -l royals -s 2c\n",
    "# YOUR CODE HERE\n",
    "raise NotImplementedError()"
   ]
  },
  {
   "cell_type": "code",
   "execution_count": null,
   "metadata": {
    "deletable": false,
    "editable": false,
    "nbgrader": {
     "cell_type": "code",
     "checksum": "2956629caf5ff54ac5d1499856445a6e",
     "grade": true,
     "grade_id": "cell-92aba3c983b8ae89",
     "locked": true,
     "points": 1,
     "schema_version": 3,
     "solution": false,
     "task": false
    }
   },
   "outputs": [],
   "source": [
    "# This test will check whether your query returns the right results. [1 point]"
   ]
  },
  {
   "cell_type": "markdown",
   "metadata": {
    "deletable": false,
    "editable": false,
    "nbgrader": {
     "cell_type": "markdown",
     "checksum": "93caff7a11291bec453b685cd4b8f65d",
     "grade": false,
     "grade_id": "cell-ace86776736659a1",
     "locked": true,
     "schema_version": 3,
     "solution": false,
     "task": false
    }
   },
   "source": [
    "# Graph: Scientists\n",
    "The following graph contains information about some well-known scientists. **You must run the following cell, otherwise the graph won't be in scope for the tasks:**"
   ]
  },
  {
   "cell_type": "code",
   "execution_count": null,
   "metadata": {
    "deletable": false,
    "editable": false,
    "nbgrader": {
     "cell_type": "code",
     "checksum": "f287b6ddc2fe0d37d440a96e3aee67c4",
     "grade": false,
     "grade_id": "cell-9ae4115dd46f0813",
     "locked": true,
     "schema_version": 3,
     "solution": false,
     "task": false
    }
   },
   "outputs": [],
   "source": [
    "%%rdf turtle -l scientists\n",
    "PREFIX rdfs: <http://www.w3.org/2000/01/rdf-schema#>\n",
    "PREFIX xsd: <http://www.w3.org/2001/XMLSchema#>\n",
    "PREFIX s: <http://example.org/subjects#>\n",
    "PREFIX p: <http://example.org/properties#>\n",
    "PREFIX c: <http://example.org/classes#>\n",
    "\n",
    "s:Einstein a c:Person, c:Physicist ;\n",
    "    p:born \"1879\"^^xsd:integer ;\n",
    "    p:wonNobelPrize \"1921\"^^xsd:integer ;\n",
    "    rdfs:label \"Albert Einstein\" .\n",
    "s:Nobel a c:Person, c:Chemist ;\n",
    "    p:born \"1833\"^^xsd:integer ;\n",
    "    rdfs:label \"Alfred Nobel\" .\n",
    "s:Curie a c:Person, c:Physicist, c:Chemist ;\n",
    "    p:born \"1867\"^^xsd:integer ;\n",
    "    p:wonNobelPrize \"1903\"^^xsd:integer ;\n",
    "    p:wonNobelPrize \"1911\"^^xsd:integer ;\n",
    "    rdfs:label \"Marie Curie\" .\n",
    "s:Koch a c:Person, c:Physician, c:Microbiologist ;\n",
    "    p:born \"1843\"^^xsd:integer ;\n",
    "    p:wonNobelPrize \"1905\"^^xsd:integer ;\n",
    "    rdfs:label \"Robert Koch\" .\n",
    "s:Röntgen a c:Person, c:Physicist ;\n",
    "    p:born \"1845\"^^xsd:integer ;\n",
    "    p:wonNobelPrize \"1901\"^^xsd:integer ;\n",
    "    rdfs:label \"Wilhelm Conrad Röntgen\" ."
   ]
  },
  {
   "cell_type": "markdown",
   "metadata": {
    "deletable": false,
    "editable": false,
    "nbgrader": {
     "cell_type": "markdown",
     "checksum": "b55b2aef6d2fb65c268f9719ee858c19",
     "grade": false,
     "grade_id": "cell-f5c6f17d35a928d9",
     "locked": true,
     "schema_version": 3,
     "solution": false,
     "task": false
    }
   },
   "source": [
    "# Task 3: Modifying Solutions [2.5 points]"
   ]
  },
  {
   "cell_type": "markdown",
   "metadata": {
    "deletable": false,
    "editable": false,
    "nbgrader": {
     "cell_type": "markdown",
     "checksum": "69e3144d61917c4152ed32518e0d422d",
     "grade": false,
     "grade_id": "cell-0c65a089b228cf82",
     "locked": true,
     "schema_version": 3,
     "solution": false,
     "task": false
    }
   },
   "source": [
    "Formulate the following questions as SPARQL queries using simple SELECT queries, variables and Basic Graph Patterns.</b>\n",
    "Again, please note that the URI/IRI of a resource is not the same as the literal name of that resource."
   ]
  },
  {
   "cell_type": "markdown",
   "metadata": {
    "deletable": false,
    "editable": false,
    "nbgrader": {
     "cell_type": "markdown",
     "checksum": "cd1c4b768e1dcbc36f66d71971a4ee2d",
     "grade": false,
     "grade_id": "cell-2279d91b26e83eeb",
     "locked": true,
     "schema_version": 3,
     "solution": false,
     "task": false
    }
   },
   "source": [
    "### 3a) The birth year of all persons that have won a nobel prize, ordered DESC, and without duplicates. Use variable **?year** for the year. Your query should give 4 entries. [0.5 points]"
   ]
  },
  {
   "cell_type": "code",
   "execution_count": null,
   "metadata": {
    "deletable": false,
    "nbgrader": {
     "cell_type": "code",
     "checksum": "d2447432fa9e6885ea3f95316548f23c",
     "grade": false,
     "grade_id": "cell-8619ded12dda1033",
     "locked": false,
     "schema_version": 3,
     "solution": true,
     "task": false
    }
   },
   "outputs": [],
   "source": [
    "%%rdf sparql -l scientists -s 3a\n",
    "# YOUR CODE HERE\n",
    "raise NotImplementedError()"
   ]
  },
  {
   "cell_type": "code",
   "execution_count": null,
   "metadata": {
    "deletable": false,
    "editable": false,
    "nbgrader": {
     "cell_type": "code",
     "checksum": "a7d811a2e20b9753875045f8945775c5",
     "grade": true,
     "grade_id": "cell-1343e6fceb869028",
     "locked": true,
     "points": 0.5,
     "schema_version": 3,
     "solution": false,
     "task": false
    }
   },
   "outputs": [],
   "source": [
    "# This test will check whether your query returns the right results. [0.5 points]"
   ]
  },
  {
   "cell_type": "markdown",
   "metadata": {
    "deletable": false,
    "editable": false,
    "nbgrader": {
     "cell_type": "markdown",
     "checksum": "e7da1ad561e30b3cddd4168fdb9e8763",
     "grade": false,
     "grade_id": "cell-3ef9cd38b1e68b9f",
     "locked": true,
     "schema_version": 3,
     "solution": false,
     "task": false
    }
   },
   "source": [
    "### 3b) The third, fourth, and fifth nobel prize sorted ascending by year with their respective owner's name. Use variable ?year for the year and ?name for the name. [1 point]"
   ]
  },
  {
   "cell_type": "code",
   "execution_count": null,
   "metadata": {
    "deletable": false,
    "nbgrader": {
     "cell_type": "code",
     "checksum": "16e35d9efc1a1d72588e3801cbe23839",
     "grade": false,
     "grade_id": "cell-a383f4c3e39d6ad9",
     "locked": false,
     "schema_version": 3,
     "solution": true,
     "task": false
    }
   },
   "outputs": [],
   "source": [
    "%%rdf sparql -l scientists -s 3b\n",
    "# YOUR CODE HERE\n",
    "raise NotImplementedError()"
   ]
  },
  {
   "cell_type": "code",
   "execution_count": null,
   "metadata": {
    "deletable": false,
    "editable": false,
    "nbgrader": {
     "cell_type": "code",
     "checksum": "545b9a60361ab1bcb83b0f5358fb47b8",
     "grade": true,
     "grade_id": "cell-7a435ca653d96c86",
     "locked": true,
     "points": 1,
     "schema_version": 3,
     "solution": false,
     "task": false
    }
   },
   "outputs": [],
   "source": [
    "# This test will check whether your query returns the right results. [1 point]"
   ]
  },
  {
   "cell_type": "markdown",
   "metadata": {
    "deletable": false,
    "editable": false,
    "nbgrader": {
     "cell_type": "markdown",
     "checksum": "b622eef11e6a031a409b6bb31c3fc5f0",
     "grade": false,
     "grade_id": "cell-6aca307c2973e7e3",
     "locked": true,
     "schema_version": 3,
     "solution": false,
     "task": false
    }
   },
   "source": [
    "### 3c) The name and birth year of the owner of the last nobel prize, who was a chemist. Use variable ?name for the name and ?year for the birth year. [1 point]"
   ]
  },
  {
   "cell_type": "code",
   "execution_count": null,
   "metadata": {
    "deletable": false,
    "nbgrader": {
     "cell_type": "code",
     "checksum": "f767ff734f202f3ed5c014ffe90b97ba",
     "grade": false,
     "grade_id": "cell-1bfb45be4ba881d6",
     "locked": false,
     "schema_version": 3,
     "solution": true,
     "task": false
    }
   },
   "outputs": [],
   "source": [
    " %%rdf sparql -l scientists -s 3c\n",
    "# YOUR CODE HERE\n",
    "raise NotImplementedError()"
   ]
  },
  {
   "cell_type": "code",
   "execution_count": null,
   "metadata": {
    "deletable": false,
    "editable": false,
    "nbgrader": {
     "cell_type": "code",
     "checksum": "7f5817e545e9e98bd645edf8702c07d8",
     "grade": true,
     "grade_id": "cell-faff85d2b10c9341",
     "locked": true,
     "points": 1,
     "schema_version": 3,
     "solution": false,
     "task": false
    }
   },
   "outputs": [],
   "source": [
    "# This test will check whether your query returns the right results. [1 point]"
   ]
  },
  {
   "cell_type": "markdown",
   "metadata": {
    "deletable": false,
    "editable": false,
    "nbgrader": {
     "cell_type": "markdown",
     "checksum": "01617087f44e6b5402e63a8a1d93fa6a",
     "grade": false,
     "grade_id": "cell-8f0fbe9b9ea37396",
     "locked": true,
     "schema_version": 3,
     "solution": false,
     "task": false
    }
   },
   "source": [
    "# Task 4: Filters, Functions, Modifiers, and Aggregates [10 Points]\n",
    "The following graph contains information about some famous onde day international (ODI) Cricketers of 90s. In the following tasks, we ask you to perform SPARQL query covering filter, modifiers, and aggregation operations. Before we formally define the task, we provide some quick overview of Filters, Functions, Modifiers and Aggregates. \n",
    "\n",
    "### Filters, Modifiers, and Aggregates\n",
    "With Group Graph Patterns and Solution Modifiers we can efficiently query RDF graphs but what if we actually want to do something with the data like calculating an average, filtering specific values or binding our own values? There are many ways to do this and we will introduce the most important ones.\n",
    "\n",
    "#### Filters\n",
    "One can filter values inside a Group Graph Pattern by using the **FILTER** function. Inside the parentheses of the filter function we have to provide a filter expression. A Filter expression uses operators like \\<, =, \\> \\<=, \\>= and != to compare variables and literals with specific data types. We can also use arithmetic operators like +, -, \\* and /. We can also combine multiple filter expressions with AND (&&), OR (||) and NOT (!). Filters are always applied to the whole Group Pattern in which they reside. There are also many functions which can be used in filter expressions like **contains** which checks if a string contains another string or **str** which converts a literal to its literal value (without data type) or **regex** which matches a string with a full regular expression. Example:\n",
    "\n",
    "SELECT \\* WHERE {  \n",
    "&nbsp;&nbsp;&nbsp;&nbsp;?employee a c:Employee ;  \n",
    "&nbsp;&nbsp;&nbsp;&nbsp;?employee rdfs:label ?name ;  \n",
    "&nbsp;&nbsp;&nbsp;&nbsp;&nbsp;&nbsp;&nbsp;&nbsp;p:income ?income .  \n",
    "&nbsp;&nbsp;&nbsp;&nbsp;FILTER (str(?name) != \"Angela\" && contains(?name, \"la\") && ?income > 450)  \n",
    "}\n",
    "\n",
    "Here we show all employees with their name and income who have an income larger than 450, aren't called \"Angela\" and whose name contains \"la\".\n",
    "\n",
    "#### Aggregates\n",
    "To calculate values over multiple results, we need to use aggregate functions. The most important aggregate functions are min, max, avg, sum and count. These can simply be used in the projection. Aggregate functions always work on groups of results and compute separately for each group. By default all results are one big group but you can use the **GROUP BY** modifier to specify a variable to group by. For example if you want to know for all employers what the average income of their employees is, you could do it like this:\n",
    "\n",
    "SELECT ?employer (sum(?income) AS ?incomeSum) WHERE {  \n",
    "&nbsp;&nbsp;&nbsp;&nbsp;?employer a c:Employer .  \n",
    "&nbsp;&nbsp;&nbsp;&nbsp;?employee a c:Employee ;  \n",
    "&nbsp;&nbsp;&nbsp;&nbsp;&nbsp;&nbsp;&nbsp;&nbsp;p:worksFor ?employer ;  \n",
    "&nbsp;&nbsp;&nbsp;&nbsp;&nbsp;&nbsp;&nbsp;&nbsp;p:income ?income .   \n",
    "}\n",
    "GROUP BY ?employer\n",
    "\n",
    "Please note that it is obligatory to bind the result with the **AS** keyword and surround the expression with parentheses. You can also use other functions and arithmetic operators on the left side of the AS, for example to remove a 10% tax you could do **(sum(?income)*0.9 AS ?incomeSum)** instead.\n",
    "\n",
    "#### Manual Binding\n",
    "One can also bind their own values to variables using the BIND keyword. If you want to get the difference in population of Germany and Sweden:\n",
    "\n",
    "SELECT ?diff WHERE {  \n",
    "&nbsp;&nbsp;&nbsp;&nbsp;s:Germany p:population ?x .  \n",
    "&nbsp;&nbsp;&nbsp;&nbsp;s:Sweden p:population ?y .  \n",
    "&nbsp;&nbsp;&nbsp;&nbsp;BIND (abs(?x - ?y) AS ?diff)  \n",
    "}\n",
    "\n",
    "Again, you can use all kinds of expressions on the left side of the AS keyword. "
   ]
  },
  {
   "cell_type": "markdown",
   "metadata": {
    "deletable": false,
    "editable": false,
    "nbgrader": {
     "cell_type": "markdown",
     "checksum": "711f013cab0f170a5298cf71ba53b8f9",
     "grade": false,
     "grade_id": "cell-2d0767426eefa17c",
     "locked": true,
     "schema_version": 3,
     "solution": false,
     "task": false
    }
   },
   "source": [
    "## **Now run the following cell, otherwise the graph won't be in scope for the tasks!**"
   ]
  },
  {
   "cell_type": "code",
   "execution_count": null,
   "metadata": {
    "deletable": false,
    "editable": false,
    "nbgrader": {
     "cell_type": "code",
     "checksum": "ff2cae2a813a4dac8f5837074670ccd7",
     "grade": false,
     "grade_id": "cell-7010153f8093b994",
     "locked": true,
     "schema_version": 3,
     "solution": false,
     "task": false
    }
   },
   "outputs": [],
   "source": [
    "%%rdf turtle -l odi_cricketers_90s\n",
    "PREFIX rdfs: <http://www.w3.org/2000/01/rdf-schema#>\n",
    "PREFIX xsd: <http://www.w3.org/2001/XMLSchema#>\n",
    "PREFIX s: <http://example.org/subjects#>\n",
    "PREFIX p: <http://example.org/properties#>\n",
    "PREFIX c: <http://example.org/classes#>\n",
    "\n",
    "s:Tendulkar a c:Cricketer ;\n",
    "    p:hasName \"Sachin Tendulkar\"^^xsd:string ;\n",
    "    p:hasRuns \"18426\"^^xsd:integer ;\n",
    "    p:hasAverage \"44.83\"^^xsd:float ;\n",
    "    p:hasCentury \"49\"^^xsd:integer ;\n",
    "    p:battingPosition \"Top order\"^^xsd:string ;\n",
    "    p:hasCountry \"India\"^^xsd:string ;\n",
    "    rdfs:label \"Little Master\" .\n",
    "\n",
    "s:Sangakkara a c:Cricketer ;\n",
    "    p:hasName \"Kumar Sangakkara\"^^xsd:string ;\n",
    "    p:hasRuns \"14234\"^^xsd:integer ;\n",
    "    p:hasAverage \"42.03\"^^xsd:float ;\n",
    "    p:hasCentury \"30\"^^xsd:integer ;\n",
    "    p:battingPosition \"Middle order\"^^xsd:string ;\n",
    "    p:hasCountry \"Sri Lanka\"^^xsd:string .\n",
    "\n",
    "s:Ponting a c:Cricketer ;\n",
    "    p:hasName \"Ricky Ponting\"^^xsd:string ;\n",
    "    p:hasRuns \"13704\"^^xsd:integer ;\n",
    "    p:hasAverage \"41.98\"^^xsd:float ;\n",
    "    p:hasCentury \"25\"^^xsd:integer ;\n",
    "    p:battingPosition \"Top order\"^^xsd:string ;\n",
    "    p:hasCountry \"Australia\"^^xsd:string ;\n",
    "    rdfs:label \"Punter\" .\n",
    "\n",
    "s:Jayasuriya a c:Cricketer ;\n",
    "    p:hasName \"Sanath Jayasuriya\"^^xsd:string ;\n",
    "    p:hasRuns \"13430\"^^xsd:integer ;\n",
    "    p:hasAverage \"32.36\"^^xsd:float ;\n",
    "    p:hasCentury \"28\"^^xsd:integer ;\n",
    "    p:battingPosition \"Top order\"^^xsd:string ;\n",
    "    p:hasCountry \"Sri Lanka\"^^xsd:string ;\n",
    "    rdfs:label \"Matara Hurricane\" .\n",
    "\n",
    "s:Inzamam a c:Cricketer ;\n",
    "    p:hasName \"Inzamam-ul-Haq\"^^xsd:string ;\n",
    "    p:hasRuns \"11739\"^^xsd:integer ;\n",
    "    p:hasAverage \"39.52\"^^xsd:float ;\n",
    "    p:hasCentury \"10\"^^xsd:integer ;\n",
    "    p:battingPosition \"Middle order\"^^xsd:string ;\n",
    "    p:hasCountry \"Pakistan\"^^xsd:string ;\n",
    "    rdfs:label \"Inzi\" .\n",
    "\n",
    "s:Anwar a c:Cricketer ;\n",
    "    p:hasName \"Saeed Anwar\"^^xsd:string ;\n",
    "    p:hasRuns \"8824\"^^xsd:integer ;\n",
    "    p:hasAverage \"39.21\"^^xsd:float ;\n",
    "    p:hasCentury \"20\"^^xsd:integer ;\n",
    "    p:battingPosition \"Top order\"^^xsd:string ;            \n",
    "    p:hasCountry \"Pakistan\"^^xsd:string ;\n",
    "    rdfs:label \"Majestic Lefthander\" .\n",
    "\n",
    "s:Gilchrist a c:Cricketer ;\n",
    "    p:hasName \"Adam Gilchrist\"^^xsd:string ;\n",
    "    p:hasRuns \"9619\"^^xsd:integer ;\n",
    "    p:hasAverage \"35.89\"^^xsd:float ;\n",
    "    p:hasCentury \"16\"^^xsd:integer ;\n",
    "    p:battingPosition \"Top order\"^^xsd:string ;\n",
    "    p:hasCountry \"Australia\"^^xsd:string ;\n",
    "    rdfs:label \"Gilly\" .\n",
    "\n",
    "s:Villiers a c:Cricketer ;\n",
    "    p:hasName \"AB de Villiers\"^^xsd:string ;\n",
    "    p:hasRuns \"9577\"^^xsd:integer ;\n",
    "    p:hasAverage \"53.5\"^^xsd:float ;\n",
    "    p:hasCentury \"25\"^^xsd:integer ;\n",
    "    p:battingPosition \"Middle order\"^^xsd:string ;\n",
    "    p:hasCountry \"South Africa\"^^xsd:string ;\n",
    "    rdfs:label \"Mr. 360\" .\n",
    "\n",
    "s:Kallis a c:Cricketer ;\n",
    "    p:hasName \"Jacques Kallis\"^^xsd:string ;\n",
    "    p:hasRuns \"11579\"^^xsd:integer ;\n",
    "    p:hasAverage \"44.36\"^^xsd:float ;\n",
    "    p:hasCentury \"17\"^^xsd:integer ;\n",
    "    p:battingPosition \"Middle order\"^^xsd:string ;\n",
    "    p:hasCountry \"South Africa\"^^xsd:string ;\n",
    "    rdfs:label \"Broad-shouldered colossus of South Africa\" .\n",
    "\n",
    "s:Lara a c:Cricketer ;\n",
    "    p:hasName \"Brian Lara\"^^xsd:string ;\n",
    "    p:hasRuns \"10405\"^^xsd:integer ;\n",
    "    p:hasAverage \"40.48\"^^xsd:float ;\n",
    "    p:hasCentury \"19\"^^xsd:integer ;\n",
    "    p:battingPosition \"Top order\"^^xsd:string ;\n",
    "    p:hasCountry \"West Indies\"^^xsd:string ;\n",
    "    rdfs:label \"Princes of Cricket\" .\n"
   ]
  },
  {
   "cell_type": "markdown",
   "metadata": {
    "deletable": false,
    "editable": false,
    "nbgrader": {
     "cell_type": "markdown",
     "checksum": "586950ea52adb89e28c1a4d5afc959c6",
     "grade": false,
     "grade_id": "cell-4037c84180e76d06",
     "locked": true,
     "schema_version": 3,
     "solution": false,
     "task": false
    }
   },
   "source": [
    "## Task: 4a) [1 point]\n",
    "Which is the leading run scorer (has the highest run) in the ODI Cricket? Use variables **?batsman** for the batsman's name and **?runs** for the total runs."
   ]
  },
  {
   "cell_type": "code",
   "execution_count": null,
   "metadata": {
    "deletable": false,
    "nbgrader": {
     "cell_type": "code",
     "checksum": "65aeb2546410a1f311230fb297a93338",
     "grade": false,
     "grade_id": "cell-8cc7bad5c9bc77e1",
     "locked": false,
     "schema_version": 3,
     "solution": true,
     "task": false
    }
   },
   "outputs": [],
   "source": [
    "%%rdf sparql -l odi_cricketers_90s -s 4a\n",
    "# YOUR CODE HERE\n",
    "raise NotImplementedError()"
   ]
  },
  {
   "cell_type": "code",
   "execution_count": null,
   "metadata": {
    "deletable": false,
    "editable": false,
    "nbgrader": {
     "cell_type": "code",
     "checksum": "eacc51f6c689e85ac68f3ccb04da2c99",
     "grade": true,
     "grade_id": "cell-2e432217fc90eb1e",
     "locked": true,
     "points": 1,
     "schema_version": 3,
     "solution": false,
     "task": false
    }
   },
   "outputs": [],
   "source": [
    "# This test will check if the leading run scorer is reported w.r.t highest number of runs cored in ODI Cricket. [1 point]"
   ]
  },
  {
   "cell_type": "markdown",
   "metadata": {
    "deletable": false,
    "editable": false,
    "nbgrader": {
     "cell_type": "markdown",
     "checksum": "c24718b60e3e5bd73ae3e404e41b1f6a",
     "grade": false,
     "grade_id": "cell-6177fb584ba3d9d2",
     "locked": true,
     "schema_version": 3,
     "solution": false,
     "task": false
    }
   },
   "source": [
    "## Task: 4b) [1 point]\n",
    "Find the average runs scored by these batters. Use variables **?avgRuns** to show the rounded (**ROUND**) result. **Hint:** There are ten players. Calculate the sum of all runs and divide by 10. The result of this fraction should be stored in **?avgRuns**."
   ]
  },
  {
   "cell_type": "code",
   "execution_count": null,
   "metadata": {
    "deletable": false,
    "nbgrader": {
     "cell_type": "code",
     "checksum": "0c24deb487fe2bc0089b1826425ea9c7",
     "grade": false,
     "grade_id": "cell-4d0163531c1eac7f",
     "locked": false,
     "schema_version": 3,
     "solution": true,
     "task": false
    }
   },
   "outputs": [],
   "source": [
    "%%rdf sparql -l odi_cricketers_90s -s 4b\n",
    "# YOUR CODE HERE\n",
    "raise NotImplementedError()"
   ]
  },
  {
   "cell_type": "code",
   "execution_count": null,
   "metadata": {
    "deletable": false,
    "editable": false,
    "nbgrader": {
     "cell_type": "code",
     "checksum": "6e058da8df1560317e30b980586df3de",
     "grade": true,
     "grade_id": "cell-0f24435ffbd5bb4a",
     "locked": true,
     "points": 1,
     "schema_version": 3,
     "solution": false,
     "task": false
    }
   },
   "outputs": [],
   "source": [
    "# This test will check if average runs scored by these batters is correctly rounded and reported. [1 point]"
   ]
  },
  {
   "cell_type": "markdown",
   "metadata": {
    "deletable": false,
    "editable": false,
    "nbgrader": {
     "cell_type": "markdown",
     "checksum": "3711ae7e195134a00b55e543019c369f",
     "grade": false,
     "grade_id": "cell-2b66800d97aeb111",
     "locked": true,
     "schema_version": 3,
     "solution": false,
     "task": false
    }
   },
   "source": [
    "## Task: 4c) [2 points]\n",
    "Rank the batsmen in ascending order of their ODI runs. Additionally, report individual's average and number of centuries. Use variables **?batsman**, **?runs**, **?centuries**, and **?average** for a batsman's name, total runs scored, number of centuries, and average, respectively. "
   ]
  },
  {
   "cell_type": "code",
   "execution_count": null,
   "metadata": {
    "deletable": false,
    "nbgrader": {
     "cell_type": "code",
     "checksum": "3f8a3f3d3fcf87f8e3abe1677c412d7d",
     "grade": false,
     "grade_id": "cell-fd3f1ce4a90627c1",
     "locked": false,
     "schema_version": 3,
     "solution": true,
     "task": false
    }
   },
   "outputs": [],
   "source": [
    "%%rdf sparql -l odi_cricketers_90s -s 4c\n",
    "# YOUR CODE HERE\n",
    "raise NotImplementedError()"
   ]
  },
  {
   "cell_type": "code",
   "execution_count": null,
   "metadata": {
    "deletable": false,
    "editable": false,
    "nbgrader": {
     "cell_type": "code",
     "checksum": "988b1f0600ba940a1447fe524785a524",
     "grade": true,
     "grade_id": "cell-5f1f09c6b2c0bb88",
     "locked": true,
     "points": 2,
     "schema_version": 3,
     "solution": false,
     "task": false
    }
   },
   "outputs": [],
   "source": [
    "# This test will check if the batsmen are sorted in ascending order of their ODI runs. [2 points]"
   ]
  },
  {
   "cell_type": "markdown",
   "metadata": {
    "deletable": false,
    "editable": false,
    "nbgrader": {
     "cell_type": "markdown",
     "checksum": "a7a5c424aa5821770651c0c0156d6356",
     "grade": false,
     "grade_id": "cell-4290f536260a77d9",
     "locked": true,
     "schema_version": 3,
     "solution": false,
     "task": false
    }
   },
   "source": [
    "## Task: 4d) [2 points]\n",
    "Who are the top-3/best middle-order batsmen in ODI Cricket, whose average is above 40? Use variables **?name**, **?position**, and **?average** for batsman's name, batting position, and their average, respectively. Also, sort them in according order of their average (DESC). "
   ]
  },
  {
   "cell_type": "code",
   "execution_count": null,
   "metadata": {
    "deletable": false,
    "nbgrader": {
     "cell_type": "code",
     "checksum": "5aa16632cb6b8fb8dbf109a65e1da6e0",
     "grade": false,
     "grade_id": "cell-138d1e5ad3a68982",
     "locked": false,
     "schema_version": 3,
     "solution": true,
     "task": false
    }
   },
   "outputs": [],
   "source": [
    "%%rdf sparql -l odi_cricketers_90s -s 4d\n",
    "# YOUR CODE HERE\n",
    "raise NotImplementedError()"
   ]
  },
  {
   "cell_type": "code",
   "execution_count": null,
   "metadata": {
    "deletable": false,
    "editable": false,
    "nbgrader": {
     "cell_type": "code",
     "checksum": "83a8160788efc6b45c8569e4a65927f5",
     "grade": true,
     "grade_id": "cell-96a501c42ee475b2",
     "locked": true,
     "points": 2,
     "schema_version": 3,
     "solution": false,
     "task": false
    }
   },
   "outputs": [],
   "source": [
    "# This test will retrieve top-3 middle-order batsmen in ODI Cricket, whose average is above 40. [2 points]"
   ]
  },
  {
   "cell_type": "markdown",
   "metadata": {
    "deletable": false,
    "editable": false,
    "nbgrader": {
     "cell_type": "markdown",
     "checksum": "507cbaebda753fd5ea92e4a368a81066",
     "grade": false,
     "grade_id": "cell-742698119114bab4",
     "locked": true,
     "schema_version": 3,
     "solution": false,
     "task": false
    }
   },
   "source": [
    "## Task: 4e) [2 points]\n",
    "As seen, some batsmen are also internationally well-known with given names/title by Cricket fans, e.g., Sanath Jayasuriya is known as \"Matara Hurricane\". But which batsmen did **NOT** get a such a popular name/title. Use variables **?name** for their real names. "
   ]
  },
  {
   "cell_type": "code",
   "execution_count": null,
   "metadata": {
    "deletable": false,
    "nbgrader": {
     "cell_type": "code",
     "checksum": "70cbc469a657964cb673dbf18cf737c1",
     "grade": false,
     "grade_id": "cell-df72486555a24bb8",
     "locked": false,
     "schema_version": 3,
     "solution": true,
     "task": false
    }
   },
   "outputs": [],
   "source": [
    "%%rdf sparql -l odi_cricketers_90s -s 4e\n",
    "# YOUR CODE HERE\n",
    "raise NotImplementedError()"
   ]
  },
  {
   "cell_type": "code",
   "execution_count": null,
   "metadata": {
    "deletable": false,
    "editable": false,
    "nbgrader": {
     "cell_type": "code",
     "checksum": "4f39700703a97ce5ea99770b88b509d0",
     "grade": true,
     "grade_id": "cell-ee9dfe598286f09e",
     "locked": true,
     "points": 2,
     "schema_version": 3,
     "solution": false,
     "task": false
    }
   },
   "outputs": [],
   "source": [
    "# This test will check if there is a batsman without a nickname. [2 points]"
   ]
  },
  {
   "cell_type": "markdown",
   "metadata": {
    "deletable": false,
    "editable": false,
    "nbgrader": {
     "cell_type": "markdown",
     "checksum": "b12c684ddf16e611c45ef6d3f58eb148",
     "grade": false,
     "grade_id": "cell-4d2c4100fbad60a0",
     "locked": true,
     "schema_version": 3,
     "solution": false,
     "task": false
    }
   },
   "source": [
    "## Task: 4f) [2 points]\n",
    "What is the run difference between top-2 batsmen? **Hints**: based on question 4)c, you can apply manual binding using keyword **BIND**. Use variables **?diffRuns** for the difference. "
   ]
  },
  {
   "cell_type": "code",
   "execution_count": null,
   "metadata": {
    "deletable": false,
    "nbgrader": {
     "cell_type": "code",
     "checksum": "5399afbacdb1d7f50fd70a67b632e9f0",
     "grade": false,
     "grade_id": "cell-809df68aa2549967",
     "locked": false,
     "schema_version": 3,
     "solution": true,
     "task": false
    }
   },
   "outputs": [],
   "source": [
    "%%rdf sparql -l odi_cricketers_90s -s 4f\n",
    "# YOUR CODE HERE\n",
    "raise NotImplementedError()"
   ]
  },
  {
   "cell_type": "code",
   "execution_count": null,
   "metadata": {
    "deletable": false,
    "editable": false,
    "nbgrader": {
     "cell_type": "code",
     "checksum": "9dacb375f77506028954f27b1e28d4ac",
     "grade": true,
     "grade_id": "cell-29379fe6dc687dd3",
     "locked": true,
     "points": 2,
     "schema_version": 3,
     "solution": false,
     "task": false
    }
   },
   "outputs": [],
   "source": [
    "# This test will check if the difference correct. [2 points]"
   ]
  }
 ],
 "metadata": {
  "kernelspec": {
   "display_name": "Python 3",
   "language": "python",
   "name": "python3"
  },
  "language_info": {
   "codemirror_mode": {
    "name": "ipython",
    "version": 3
   },
   "file_extension": ".py",
   "mimetype": "text/x-python",
   "name": "python",
   "nbconvert_exporter": "python",
   "pygments_lexer": "ipython3",
   "version": "3.12.7"
  },
  "latex_envs": {
   "LaTeX_envs_menu_present": true,
   "autoclose": false,
   "autocomplete": true,
   "bibliofile": "biblio.bib",
   "cite_by": "apalike",
   "current_citInitial": 1,
   "eqLabelWithNumbers": true,
   "eqNumInitial": 1,
   "hotkeys": {
    "equation": "Ctrl-E",
    "itemize": "Ctrl-I"
   },
   "labels_anchors": false,
   "latex_user_defs": false,
   "report_style_numbering": false,
   "user_envs_cfg": false
  },
  "varInspector": {
   "cols": {
    "lenName": 16,
    "lenType": 16,
    "lenVar": 40
   },
   "kernels_config": {
    "python": {
     "delete_cmd_postfix": "",
     "delete_cmd_prefix": "del ",
     "library": "var_list.py",
     "varRefreshCmd": "print(var_dic_list())"
    },
    "r": {
     "delete_cmd_postfix": ") ",
     "delete_cmd_prefix": "rm(",
     "library": "var_list.r",
     "varRefreshCmd": "cat(var_dic_list()) "
    }
   },
   "types_to_exclude": [
    "module",
    "function",
    "builtin_function_or_method",
    "instance",
    "_Feature"
   ],
   "window_display": false
  }
 },
 "nbformat": 4,
 "nbformat_minor": 4
}
