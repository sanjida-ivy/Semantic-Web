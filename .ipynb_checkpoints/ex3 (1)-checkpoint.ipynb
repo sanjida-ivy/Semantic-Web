{
 "cells": [
  {
   "cell_type": "markdown",
   "metadata": {
    "deletable": false,
    "editable": false,
    "nbgrader": {
     "cell_type": "markdown",
     "checksum": "9813506b7cb1f3009822c520d0e18cca",
     "grade": false,
     "grade_id": "cell-a7d717de49d673b1",
     "locked": true,
     "schema_version": 3,
     "solution": false,
     "task": false
    }
   },
   "source": [
    "<table style=\"width:100%; background-color:#FFFFFF\" align=\"left\">\n",
    " <tr>\n",
    "   <td style=\"text-align:left; background-color:#FFFFFF\">\n",
    "       <p>Prof. Dr. Stefan Decker<br>\n",
    "        L. Neumann</p>\n",
    "        <p><strong>2024-11-15</strong></p>\n",
    "     </td>\n",
    "   <td style=\"text-align:right; background-color:#FFFFFF\">\n",
    "     <div>\n",
    "       <img src=\"https://git.rwth-aachen.de/i5/teaching/dbis-raw/-/raw/main/dbis-logo.png\" width=\"500\"/>\n",
    "     </div>\n",
    "    </td>\n",
    " </tr>\n",
    "</table>"
   ]
  },
  {
   "cell_type": "markdown",
   "metadata": {
    "deletable": false,
    "editable": false,
    "nbgrader": {
     "cell_type": "markdown",
     "checksum": "c323abd7cdda54b83977089e12bccf4c",
     "grade": false,
     "grade_id": "cell-298b2ff9b426cbe8",
     "locked": true,
     "schema_version": 3,
     "solution": false,
     "task": false
    }
   },
   "source": [
    "<center>\n",
    "    <h1> Semantic Web (Winter 2023/24) </h1>\n",
    "    <h1> Exercise 3</h1>\n",
    "</center>"
   ]
  },
  {
   "cell_type": "markdown",
   "metadata": {
    "deletable": false,
    "editable": false,
    "nbgrader": {
     "cell_type": "markdown",
     "checksum": "9e49bcd6bcc7120749a48ca6f2947272",
     "grade": false,
     "grade_id": "cell-2770877f27406216",
     "locked": true,
     "schema_version": 3,
     "solution": false,
     "task": false
    }
   },
   "source": [
    "<center>\n",
    "    <h4> Submission Deadline: 29th NOV 10:30am. </h4>   \n",
    "    <h4> Exercises submitted after the deadline will not be considered and lead to zero points. </h4>  \n",
    "    <h4> All other formats depite .ipynb will not be considered and lead to zero points.</h4>  \n",
    "</center>"
   ]
  },
  {
   "cell_type": "markdown",
   "metadata": {},
   "source": [
    "<h3> Name and Student ID:[Replace] </h3>"
   ]
  },
  {
   "cell_type": "markdown",
   "metadata": {
    "deletable": false,
    "editable": false,
    "nbgrader": {
     "cell_type": "markdown",
     "checksum": "2706c3d68c47cbf7fb17474fe25a28e8",
     "grade": false,
     "grade_id": "cell-a5fac466eec61ae5",
     "locked": true,
     "schema_version": 3,
     "solution": false,
     "task": false
    }
   },
   "source": [
    "<div class=\"alert alert-danger\">\n",
    "    <h3> Important: </h3> <br>\n",
    "    A small reminder that these assignments will be graded automatically. Please read the tasks carefully and be as pedantic as possible. Run your answers to check if your code parses correctly. Typing errors will lead to point loss. Do not change code that is already given as this may break the unit tests and lead to 0 points. Do not use comments in your code.\n",
    "    </div>"
   ]
  },
  {
   "cell_type": "code",
   "execution_count": null,
   "metadata": {},
   "outputs": [],
   "source": [
    "%%capture\n",
    "\n",
    "import sys\n",
    "!{sys.executable} -m pip install jupyter-rdfify -U\n",
    "\n",
    "!conda install --override-channels --yes --prefix {sys.prefix} -c conda-forge python-graphviz"
   ]
  },
  {
   "cell_type": "code",
   "execution_count": null,
   "metadata": {
    "deletable": false,
    "editable": false,
    "nbgrader": {
     "cell_type": "code",
     "checksum": "439c1f328cb12e9a07e1a0fff2ebef12",
     "grade": false,
     "grade_id": "cell-da81e829fa4f0add",
     "locked": true,
     "schema_version": 3,
     "solution": false,
     "task": false
    }
   },
   "outputs": [],
   "source": [
    "%reload_ext jupyter-rdfify"
   ]
  },
  {
   "cell_type": "code",
   "execution_count": null,
   "metadata": {
    "deletable": false,
    "editable": false,
    "nbgrader": {
     "cell_type": "code",
     "checksum": "4b305c59c46b4ac9ef0348647d25bd7c",
     "grade": false,
     "grade_id": "cell-1a741bc0fa2e5a84",
     "locked": true,
     "schema_version": 3,
     "solution": false,
     "task": false
    }
   },
   "outputs": [],
   "source": [
    "# This cell defines some helpers, imports and strings for tests. Run it!\n",
    "from rdflib import Variable, URIRef, Literal, XSD\n",
    "ex = \"http://example.org/{}\"\n",
    "lab = \"http://www.w3.org/2000/01/rdf-schema#label\"\n",
    "err = \"Your query gave no result.\"\n",
    "\n",
    "def project(bindings, variables):\n",
    "    result = list()\n",
    "    for binding in bindings:\n",
    "        result.append(binding.project(variables))\n",
    "    return result\n",
    "\n",
    "def bindingToString(binding):\n",
    "    res = \"\"\n",
    "    for var in binding:\n",
    "        res += f\"{var.n3()} -> {binding[var].n3()}\\n\"\n",
    "    return res\n",
    "\n",
    "def lenCheck(bindings, length, msg=None):\n",
    "    assert len(bindings) == length, \\\n",
    "        f\"Your query returned the wrong number of results. It returned {len(bindings)} but should have returned {length}.\\n\" \\\n",
    "        + (msg if msg is not None else \"\")\n",
    "    \n",
    "def exCheck(bindings, binding):\n",
    "    assert binding in bindings, \\\n",
    "        f\"Your result is missing the following binding:\\n{bindingToString(binding)}\"\n",
    "    \n",
    "def bindCheck(bindings, pos, binding):\n",
    "    assert(bindings[pos] == binding), \\\n",
    "        f\"\"\"The result of your query has the wrong binding in position {pos}.\n",
    "            Expected binding:\\n{bindingToString(binding)}\n",
    "            Your binding:\\n{bindingToString(bindings[pos])}\"\"\"\n",
    "    \n",
    "def uri(prefix, name):\n",
    "    return URIRef(prefix.format(name))"
   ]
  },
  {
   "cell_type": "markdown",
   "metadata": {
    "deletable": false,
    "editable": false,
    "nbgrader": {
     "cell_type": "markdown",
     "checksum": "0d9d8d55aa9dba5107515f6a79addb2f",
     "grade": false,
     "grade_id": "cell-2504817e24b211b9",
     "locked": true,
     "schema_version": 3,
     "solution": false,
     "task": false
    }
   },
   "source": [
    "# SPARQL\n",
    "SPARQL stands for **S**PARQL **P**rotocol **A**nd **R**DF **Q**uery **L**anguage and is a [W3C recommended](https://www.w3.org/TR/sparql11-overview/) language for querying and manipulating RDF graph content. As its syntax is similar Turtle, we will first look at an example:\n",
    "\n",
    "**PREFIX ex: http://example.org/#<br>   \n",
    "SELECT ?countryName ?capitalName  \n",
    "WHERE {  \n",
    "&nbsp;&nbsp;&nbsp;&nbsp;ex:Germany ex:name ?countryName .  \n",
    "&nbsp;&nbsp;&nbsp;&nbsp;ex:Germany ex:capital ?capital .  \n",
    "&nbsp;&nbsp;&nbsp;&nbsp;?capital ex:name ?capitalName  \n",
    "}**\n",
    "\n",
    "The following information was extracted from the [W3C SPARQL Query Language Specification](https://www.w3.org/TR/2013/REC-sparql11-query-20130321/). If you have any questions regarding SPARQL please first consult this document.\n",
    "\n",
    "## Prefixes\n",
    "As in Turtle, we can define *prefixes* to make our query more human-readable. In SPARQL, prefix declarations start with the keyword **PREFIX** and are then followed by the desired abbreviation and then the IRI to abbreviate. This syntax also works in turtle but note that there is *no period* at the end of the line (in contrary to the *@prefix* syntax which only works in Turtle). In the example above, we abbreviate the URI http://example.org/# to *ex:*.\n",
    "\n",
    "\n",
    "## Queries\n",
    "After all our prefix declarations, the query starts. First we need to specify a *query type*. SPARQL defines four query types which all match a given graph pattern against an RDF graph but differ in what they return:\n",
    "- **SELECT:** Queries return the variable bindings of user-specified variables which satisfy the given graph pattern.\n",
    "- **ASK:** Queries return a boolean result based on whether the given graph pattern could be matched against the RDF graph or not.\n",
    "- **CONSTRUCT:** Queries return a new graph which is constructed from a template and the variable bindings which satisfy the given graph pattern.\n",
    "- **DESCRIBE:** Queries return an RDF graph which describes the resource based on what the query service deems important (different query services can yield different results for the same graph).\n",
    "\n",
    "In our example above, we use a SELECT query. The graph pattern follows after the keyword **WHERE** and is surrounded by braces ({}).\n",
    "## Basic Graph Patterns\n",
    "We use so-called **Graph Patterns** to query an RDF graph. *Basic Graph Patterns* look very similar to Turtle as they use the same triple syntax. The only difference is that in Graph Patterns, we can also use variables at every position where an IRI can be used. Variables always start with a question mark and need an identifier. The graph pattern in our example (after the WHERE keyword) features three variables - namely ?countryName, ?capital and ?capitalName - in three triples. When matching a Graph Pattern against an RDF graph, the query service searches for variables bindings such that the Graph Pattern matches a part of the queried graph. When a variable occurs more than once in a pattern, both occurrences have to be bound to the same value in a match. Also note that the period at the end of a line represents a conjunction (AND), which is why we the last period of a Graph Pattern is optional. There are also more complex Graph Patterns called Group Graph Patterns, which we will cover later on.\n",
    "\n",
    "## Parameters\n",
    "The four query types take different parameters:  \n",
    "- **SELECT:** A set of variables delimited by spaces, on which the variable bindings should be projected. In our example we use the three variables ?capital, ?capitalName and ?countryName but we only want the last two to appear in our results, thus we specify ?capitalName and ?countryName after the SELECT keyword. If you want to project all variables, you can use an asterisk (\\*) at this position.\n",
    "- **ASK:** No parameters except for the graph pattern to match the RDF graph against.\n",
    "- **CONSTRUCT:** A Basic Graph Pattern as a template and a Graph Pattern for matching. The variable bindings resulting from matching the Graph Pattern against the RDF graph are then used to construct a new graph based on the template. When no template is given, the Graph Pattern used for matching is also used as the template but then only Basic Graph Patterns are allowed.\n",
    "- **DESCRIBE:** A set of variables and IRIs delimited by space which should be described by the resulting graph. One can also provide a Graph Pattern to identify resources or give constraints.\n",
    "\n",
    "## FROM Statement\n",
    "One can also use a FROM or a FROM NAMED statement to specify a dataset which should be queried. With this multiple graphs can be queried and/or merged. This won't be needed in this exercise but if you're interested you can [read about it](https://www.w3.org/TR/sparql11-query/#specifyingDataset).\n",
    "\n",
    "## Syntactic Sugar\n",
    "All the syntactic sugar from Turtle can also be used in SPARQL Graph Patterns!\n",
    "\n",
    "\n",
    "## Solution Modifiers\n",
    "SPARQL provides many ways to modify the result of a query. These are all applied after pattern matching and in the sequence that they are introduced here.\n",
    "\n",
    "### ORDER BY\n",
    "\n",
    "**SELECT ?employee WHERE {  \n",
    "&nbsp;&nbsp;&nbsp;&nbsp;?employee a c:Employee .  \n",
    "&nbsp;&nbsp;&nbsp;&nbsp;?employee p:income ?income  \n",
    "}<br>\n",
    "ORDER BY DESC(?income)**\n",
    "\n",
    "The **ORDER BY** modifier can be used to sort the bindings by a specific variable. The example above sorts all employees descending by income. To sort ascending instead, either use **ASC** instead of **DESC** or just omit DESC as ASC is the default. When using no ORDER BY, the results are in no specific sequence and may vary from service to service.\n",
    "\n",
    "### DISTINCT\n",
    "\n",
    "**SELECT DISTINCT ?parent WHERE {  \n",
    "&nbsp;&nbsp;&nbsp;&nbsp;?parent p:child ?child .  \n",
    "}**\n",
    "\n",
    "The **DISTINCT** modifier can be used to eliminate duplicate bindings. The example above shows all parents with at least one child but it shows all parents only once, even if they have multiple children. This could have been used in 2c). Note that DISTINCT only looks at projected variables.\n",
    "\n",
    "### OFFSET\n",
    "\n",
    "**SELECT ?employee WHERE {\n",
    "&nbsp;&nbsp;&nbsp;&nbsp;?employee a c:Employee .  \n",
    "}<br>\n",
    "OFFSET 3**\n",
    "\n",
    "The **OFFSET** modifier skips the first n>=0 results. The example above shows all employees but skips the first 3. OFFSET does nothing for n=0. OFFSET is often combined with ORDER BY and LIMIT to give predictable results (e.g. skip the 3 employees with the highest income).\n",
    "\n",
    "### LIMIT\n",
    "\n",
    "**SELECT ?employee WHERE {  \n",
    "&nbsp;&nbsp;&nbsp;&nbsp;?employee a c:Employee .  \n",
    "}<br>\n",
    "LIMIT 3**\n",
    "\n",
    "The **LIMIT** modifier specifies an upper bound n>=0 to the number of solutions returned. The example above shows only the first three employees. For n=0 no results will be returned. LIMIT is often combined with ORDER BY and LIMIT to give predictable results (e.g. only show the 3 employees with the highest income).\n",
    "\n"
   ]
  },
  {
   "cell_type": "markdown",
   "metadata": {
    "deletable": false,
    "editable": false,
    "nbgrader": {
     "cell_type": "markdown",
     "checksum": "c1a3e3f18d47db114aeb963afaf98c3e",
     "grade": false,
     "grade_id": "cell-1bc52a7e242b3470",
     "locked": true,
     "schema_version": 3,
     "solution": false,
     "task": false
    }
   },
   "source": [
    "# Holidays\n",
    "\n",
    "The christmas Hollidays are approaching! Therefore, in this first exercise you will work with data about different holidays. The data is loosely inspired by the one from wikidata."
   ]
  },
  {
   "cell_type": "code",
   "execution_count": null,
   "metadata": {
    "deletable": false,
    "editable": false,
    "nbgrader": {
     "cell_type": "code",
     "checksum": "bfd622a75401f7dcab982c8edb17cfe2",
     "grade": false,
     "grade_id": "cell-4038d2f88652feb7",
     "locked": true,
     "schema_version": 3,
     "solution": false,
     "task": false
    }
   },
   "outputs": [],
   "source": [
    "%%rdf turtle -l holidays\n",
    "@prefix ex: <http://example.org/>.\n",
    "@prefix rdf: <http://www.w3.org/1999/02/22-rdf-syntax-ns#>.\n",
    "@prefix rdfs: <http://www.w3.org/2000/01/rdf-schema#>.\n",
    "@prefix doty: <http://example.org/dayoftheyear/> .\n",
    "@prefix wd: <http://www.wikidata.org/entity/> .\n",
    "\n",
    "ex:Holiday a rdfs:Class .\n",
    "\n",
    "ex:Christmas a ex:Holiday .\n",
    "ex:Christmas a ex:ReligiousHoliday .\n",
    "ex:Christmas rdfs:label \"Weihnachten\"@de ;\n",
    "             rdfs:label \"Christmas\"@en ;\n",
    "             rdfs:label \"la Navidad\"@es .\n",
    "ex:Christmas ex:gregorianDate doty:2511 .\n",
    "ex:Christmas ex:officialHolidayIn ex:Germany, ex:Spain .\n",
    "\n",
    "ex:GermanUnityDay ex:gregorianDate doty:0310 ;\n",
    "        a ex:Holiday ;\n",
    "        a ex:NationalDay ;\n",
    "        rdfs:label \"Tag der Deutschen Einheit\"@de ;\n",
    "        rdfs:label \"German Unity Day\"@en ;\n",
    "        ex:officialHolidayIn ex:Germany .\n",
    "\n",
    "ex:NationalDayOfSpain a ex:Holiday ;\n",
    "        a ex:NationalDay ;\n",
    "        rdfs:label \"National Day of Spain\"@en ;\n",
    "        rdfs:label \"Fiesta Nacional de Espana\"@es ;\n",
    "        ex:gregorianDate doty:1210 ;\n",
    "        ex:officialHolidayIn ex:Spain .\n",
    "\n",
    "ex:JomKippur a ex:Holiday ;\n",
    "        a ex:ReligiousHoliday ;\n",
    "        rdfs:label \"Yom Kippur\"@he ;\n",
    "        rdfs:label \"Versöhnungsfest\"@de ;\n",
    "        ex:officialHolidayIn ex:Israel ;\n",
    "        ex:otherDate wd:Q2920950 .\n",
    "\n",
    "ex:EidalAdha a ex:Holiday ;\n",
    "        a ex:ReligiousHoliday ;\n",
    "        rdfs:label \"Feast of Sacrifice\"@en ;\n",
    "        ex:officialHolidayIn ex:UAE ;\n",
    "        ex:otherDate wd:Q4121217 .\n",
    "\n"
   ]
  },
  {
   "cell_type": "markdown",
   "metadata": {
    "deletable": false,
    "editable": false,
    "nbgrader": {
     "cell_type": "markdown",
     "checksum": "b354e8c89ba2a5e83f5a4ae716510f9a",
     "grade": false,
     "grade_id": "cell-0292854a13724aee",
     "locked": true,
     "schema_version": 3,
     "solution": false,
     "task": false
    }
   },
   "source": [
    "<div class=\"alert alert-warning\">\n",
    "    <h3> Important: </h3> <br>\n",
    "     The cell below will define some prefixes which can be used throughout the whole exercise notebook. You do not need to define them yourself and can just use them. You need to run the cell or you won't be able to use them.\n",
    "    </div>"
   ]
  },
  {
   "cell_type": "code",
   "execution_count": null,
   "metadata": {
    "deletable": false,
    "editable": false,
    "nbgrader": {
     "cell_type": "code",
     "checksum": "f9d7858d8638ffd8f2b0dc075532545e",
     "grade": false,
     "grade_id": "cell-427424a02451874b",
     "locked": true,
     "schema_version": 3,
     "solution": false,
     "task": false
    }
   },
   "outputs": [],
   "source": [
    "%%rdf sparql --prefix\n",
    "PREFIX rdfs: <http://www.w3.org/2000/01/rdf-schema#>\n",
    "PREFIX xsd: <http://www.w3.org/2001/XMLSchema#>\n",
    "PREFIX p: <http://example.org/properties#>\n",
    "PREFIX c: <http://example.org/classes#>\n",
    "PREFIX ex: <http://example.org/> \n",
    "PREFIX doty: <http://example.org/dayoftheyear/>\n",
    "PREFIX wd: <http://www.wikidata.org/entity/>"
   ]
  },
  {
   "cell_type": "markdown",
   "metadata": {
    "deletable": false,
    "editable": false,
    "nbgrader": {
     "cell_type": "markdown",
     "checksum": "26bf9423dd9085875b7f9486be9f9369",
     "grade": false,
     "grade_id": "cell-46db8475a92bead0",
     "locked": true,
     "schema_version": 3,
     "solution": false,
     "task": false
    }
   },
   "source": [
    "# Task 1 - Basic Queries [1.5 Points]"
   ]
  },
  {
   "cell_type": "markdown",
   "metadata": {
    "deletable": false,
    "editable": false,
    "nbgrader": {
     "cell_type": "markdown",
     "checksum": "73c16633506db7174b5c96978b695278",
     "grade": false,
     "grade_id": "cell-6024e4a47535f0c3",
     "locked": true,
     "schema_version": 3,
     "solution": false,
     "task": false
    }
   },
   "source": [
    "Formulate the following questions as SPARQL queries using simple SELECT queries, variables and Basic Graph Patterns. You can use as many variables as you need but <b>the answer to the question must be bound to the variable ?result.</b>"
   ]
  },
  {
   "cell_type": "markdown",
   "metadata": {
    "deletable": false,
    "editable": false,
    "nbgrader": {
     "cell_type": "markdown",
     "checksum": "b7043cd4a995686b7da26293f6c61248",
     "grade": false,
     "grade_id": "cell-d5b85f5f97dad9cb",
     "locked": true,
     "schema_version": 3,
     "solution": false,
     "task": false
    }
   },
   "source": [
    "<div class=\"alert alert-warning\">\n",
    "    \n",
    "\n",
    "For example, if the question is \"What is the name of Germany?\", the solution would be:\n",
    "    \n",
    "\n",
    "    SELECT ?result WHERE {\n",
    "    ex:Germany rdfs:label ?result\n",
    "    }\n",
    " \n",
    "    \n",
    "Please note the difference between a resource (an IRI) and the name of a resource (a human readable literal often assigned with the predicate rdfs:label). Read the question carefully and try to recognize whether we are asking for an entity (e.g. Who is xy?) or for the name of an entity (e.g. What is xy's name?).This task refers to this graph about a family called Simpsons. Assume a closed world (information that isn't explicitly stated is false).    </div>"
   ]
  },
  {
   "cell_type": "markdown",
   "metadata": {
    "deletable": false,
    "editable": false,
    "nbgrader": {
     "cell_type": "markdown",
     "checksum": "90f983d7b0572272c568694cb30d0646",
     "grade": false,
     "grade_id": "cell-7154983bc5fbba1b",
     "locked": true,
     "schema_version": 3,
     "solution": false,
     "task": false
    }
   },
   "source": [
    "## Example Query (Try it!)"
   ]
  },
  {
   "cell_type": "markdown",
   "metadata": {
    "deletable": false,
    "editable": false,
    "nbgrader": {
     "cell_type": "markdown",
     "checksum": "d0477dfb9f26c1f800930b4022de0d84",
     "grade": false,
     "grade_id": "cell-f7e0e38a5d6080f1",
     "locked": true,
     "schema_version": 3,
     "solution": false,
     "task": false
    }
   },
   "source": [
    "### On which day is Christmas?"
   ]
  },
  {
   "cell_type": "code",
   "execution_count": null,
   "metadata": {
    "deletable": false,
    "editable": false,
    "nbgrader": {
     "cell_type": "code",
     "checksum": "766a90e83ab88abfdb01fe8efac2f442",
     "grade": false,
     "grade_id": "cell-7d2d75bdb4ba0411",
     "locked": true,
     "schema_version": 3,
     "solution": false,
     "task": false
    }
   },
   "outputs": [],
   "source": [
    "%%rdf sparql -l holidays -s example\n",
    "\n",
    "SELECT ?result\n",
    "WHERE {\n",
    "    ex:Christmas ex:gregorianDate ?result .\n",
    "}"
   ]
  },
  {
   "cell_type": "markdown",
   "metadata": {
    "deletable": false,
    "editable": false,
    "nbgrader": {
     "cell_type": "markdown",
     "checksum": "bc7a7d9130dd5b092dac740a635da976",
     "grade": false,
     "grade_id": "cell-dce39a76c905b99b",
     "locked": true,
     "schema_version": 3,
     "solution": false,
     "task": false
    }
   },
   "source": [
    "# a) List all entities which are \"a national day\". [0.5 Points]"
   ]
  },
  {
   "cell_type": "code",
   "execution_count": null,
   "metadata": {
    "deletable": false,
    "nbgrader": {
     "cell_type": "code",
     "checksum": "fefa0ac805f6621570cc2511cb5693dc",
     "grade": false,
     "grade_id": "cell-6e4602d6d5e6d695",
     "locked": false,
     "schema_version": 3,
     "solution": true,
     "task": false
    }
   },
   "outputs": [],
   "source": [
    "%%rdf sparql -l holidays -s 1a\n",
    "# YOUR CODE HERE\n",
    "raise NotImplementedError()"
   ]
  },
  {
   "cell_type": "code",
   "execution_count": null,
   "metadata": {
    "deletable": false,
    "editable": false,
    "nbgrader": {
     "cell_type": "code",
     "checksum": "a7dfceabeb8e13fac381feb436d38ce8",
     "grade": true,
     "grade_id": "cell-0d67d44e74c459fb",
     "locked": true,
     "points": 0.5,
     "schema_version": 3,
     "solution": false,
     "task": false
    }
   },
   "outputs": [],
   "source": [
    "# This test checks whether your query gives the correct result. [0.5 points]"
   ]
  },
  {
   "cell_type": "markdown",
   "metadata": {
    "deletable": false,
    "editable": false,
    "nbgrader": {
     "cell_type": "markdown",
     "checksum": "2da2e7b39c1a3175865af9940afcd888",
     "grade": false,
     "grade_id": "cell-53e9d357eae7503e",
     "locked": true,
     "schema_version": 3,
     "solution": false,
     "task": false
    }
   },
   "source": [
    "# b) List the days which are official holidays in germany (ex:Germany). [0.5 Points]"
   ]
  },
  {
   "cell_type": "code",
   "execution_count": null,
   "metadata": {
    "deletable": false,
    "nbgrader": {
     "cell_type": "code",
     "checksum": "d519810c75f501e5939950a27594c0a0",
     "grade": false,
     "grade_id": "cell-45af1db68cdabb1f",
     "locked": false,
     "schema_version": 3,
     "solution": true,
     "task": false
    }
   },
   "outputs": [],
   "source": [
    " %%rdf sparql -l holidays -s 1b\n",
    "# YOUR CODE HERE\n",
    "raise NotImplementedError()"
   ]
  },
  {
   "cell_type": "code",
   "execution_count": null,
   "metadata": {
    "deletable": false,
    "editable": false,
    "nbgrader": {
     "cell_type": "code",
     "checksum": "3e950c74fdf95b92e61206487b263394",
     "grade": true,
     "grade_id": "cell-86bd551ba524a22a",
     "locked": true,
     "points": 0.5,
     "schema_version": 3,
     "solution": false,
     "task": false
    }
   },
   "outputs": [],
   "source": [
    "# This test will check whether your query returns the right results. [0.5 points]"
   ]
  },
  {
   "cell_type": "markdown",
   "metadata": {
    "deletable": false,
    "editable": false,
    "nbgrader": {
     "cell_type": "markdown",
     "checksum": "36c19b807ced3a04a6b9b51a0f89b732",
     "grade": false,
     "grade_id": "cell-05e1ae087c5ac53a",
     "locked": true,
     "schema_version": 3,
     "solution": false,
     "task": false
    }
   },
   "source": [
    "# c) List the dates of all Religious Holidays [0.5 Points]\n",
    "Hint: There are two ways of specifying dates in the Graph, you need to cover both."
   ]
  },
  {
   "cell_type": "code",
   "execution_count": null,
   "metadata": {
    "deletable": false,
    "nbgrader": {
     "cell_type": "code",
     "checksum": "01f8f29fffd3330d3c630bcb3f39cf70",
     "grade": false,
     "grade_id": "cell-5d8d10954a3b47e9",
     "locked": false,
     "schema_version": 3,
     "solution": true,
     "task": false
    }
   },
   "outputs": [],
   "source": [
    " %%rdf sparql -l holidays -s 1c\n",
    "# YOUR CODE HERE\n",
    "raise NotImplementedError()"
   ]
  },
  {
   "cell_type": "code",
   "execution_count": null,
   "metadata": {
    "deletable": false,
    "editable": false,
    "nbgrader": {
     "cell_type": "code",
     "checksum": "2e963672caa7ac2b61b5f944f8cce780",
     "grade": true,
     "grade_id": "cell-b4909d11b084a25f",
     "locked": true,
     "points": 0.5,
     "schema_version": 3,
     "solution": false,
     "task": false
    }
   },
   "outputs": [],
   "source": [
    "# This test will check whether your query returns the right results. [0.5 points]"
   ]
  },
  {
   "cell_type": "markdown",
   "metadata": {
    "deletable": false,
    "editable": false,
    "nbgrader": {
     "cell_type": "markdown",
     "checksum": "fdb6c24491cdd3f755e2da5e080ae432",
     "grade": false,
     "grade_id": "cell-603ffb2a0f52af58",
     "locked": true,
     "schema_version": 3,
     "solution": false,
     "task": false
    }
   },
   "source": [
    "# Task 2 - Constructing Queries [2 Points]"
   ]
  },
  {
   "cell_type": "markdown",
   "metadata": {
    "deletable": false,
    "editable": false,
    "nbgrader": {
     "cell_type": "markdown",
     "checksum": "edcd7ed2f084d82404b374e9fb259f9c",
     "grade": false,
     "grade_id": "cell-88b8dde474673b11",
     "locked": true,
     "schema_version": 3,
     "solution": false,
     "task": false
    }
   },
   "source": [
    "Formulate the following questions as SPARQL queries using simple SELECT queries, variables and Basic Graph Patterns. You can use as many variables as you need but <b>the answer to the question must be bound to the variable ?result.</b>\n",
    "Again, please note that the URI/IRI of a resource is not the same as the literal name of that resource."
   ]
  },
  {
   "cell_type": "code",
   "execution_count": null,
   "metadata": {
    "deletable": false,
    "editable": false,
    "nbgrader": {
     "cell_type": "code",
     "checksum": "707077a3fba17492d73a3a43c479cff5",
     "grade": false,
     "grade_id": "cell-9bfa89b552d97f20",
     "locked": true,
     "schema_version": 3,
     "solution": false,
     "task": false
    }
   },
   "outputs": [],
   "source": [
    "%%rdf turtle -l royals\n",
    "PREFIX ex: <http://example.org/> \n",
    "PREFIX xsd: <http://www.w3.org/2001/XMLSchema#> \n",
    "\n",
    "ex:Philip ex:Name \"Prince Philip\" .\n",
    "ex:ElizabethII ex:Name \"Queen Elizabeth II\" .\n",
    "ex:Camilla ex:Name \"Camilla Parker\" .\n",
    "ex:CharlesIII ex:Name \"King Charles III\" .\n",
    "ex:Diana ex:Name \"Princess Diana\" .\n",
    "ex:William ex:Name \"Prince William\" .\n",
    "ex:Catherine ex:Name \"Catherine Middleton\" .\n",
    "ex:Harry ex:Name \"Prince Harry\" .\n",
    "ex:Meghan ex:Name \"Meghan Markle\" .\n",
    "\n",
    "ex:Philip ex:Duke ex:Edinburgh .\n",
    "ex:Philip ex:AKA \"Duke of Edinburgh\" . \n",
    "ex:Philip ex:MarriedTo ex:ElizabethII .\n",
    "ex:Philip ex:HasChild ex:CharlesIII . \n",
    "\n",
    "ex:ElizabethII ex:Queen ex:UK .\n",
    "ex:ElizabethII ex:RuledFor \"70\"^^xsd:int .\n",
    "ex:ElizabethII ex:MarriedTo ex:Philip .\n",
    "ex:ElizabethII ex:HasChild ex:CharlesIII .\n",
    "\n",
    "ex:Camilla ex:Duchess ex:Cornwall .\n",
    "ex:Camilla ex:AKA \"Duchess of Cornwall\" . \n",
    "ex:Camilla ex:MarriedTo ex:CharlesIII .\n",
    "\n",
    "ex:CharlesIII ex:King ex:UK .\n",
    "ex:CharlesIII  ex:MarriedTo ex:Camilla  .\n",
    "ex:CharlesIII  ex:DivorcedWith ex:Diana .\n",
    "ex:CharlesIII  ex:ChildOf ex:ElizabethII . \n",
    "ex:CharlesIII  ex:ChildOf ex:Philip . \n",
    "ex:CharlesIII  ex:HasChild  ex:William . \n",
    "ex:CharlesIII  ex:HasChild ex:Harry . \n",
    "\n",
    "ex:Diana ex:Princess ex:Wales .\n",
    "ex:Diana ex:AKA \"Princess of Wales\" . \n",
    "ex:Diana ex:DivorcedWith ex:CharlesIII .\n",
    "ex:Diana ex:HasChild ex:William . \n",
    "ex:Diana ex:HasChild ex:Harry . \n",
    "\n",
    "ex:Catherine ex:Duchess ex:Cambridge .\n",
    "ex:Catherine ex:AKA \"Duchess of Cambridge\" . \n",
    "ex:Catherine ex:MarriedTo ex:William .\n",
    "\n",
    "ex:William ex:Duke ex:Cambridge .\n",
    "ex:William ex:AKA \"Duke of Cambridge\" . \n",
    "ex:William ex:MarriedTo ex:Catherine .\n",
    "ex:William ex:ChildOf ex:Diana . \n",
    "ex:William ex:ChildOf ex:CharlesIII . \n",
    "\n",
    "ex:Meghan ex:Duchess ex:Wales .\n",
    "ex:Meghan ex:AKA \"Duchess of Wales\" . \n",
    "ex:Meghan ex:MarriedTo ex:Harry .\n",
    "\n",
    "ex:Harry ex:Duke ex:Wales .\n",
    "ex:Harry ex:AKA \"Duke of Wales\" . \n",
    "ex:Harry ex:MarriedTo ex:Meghan .\n",
    "ex:Harry ex:ChildOf ex:Diana . \n",
    "ex:Harry ex:ChildOf ex:CharlesIII . "
   ]
  },
  {
   "cell_type": "markdown",
   "metadata": {
    "deletable": false,
    "editable": false,
    "nbgrader": {
     "cell_type": "markdown",
     "checksum": "a332937f53f37557afc33a24c34f1339",
     "grade": false,
     "grade_id": "cell-a150a4a3f6d5d274",
     "locked": true,
     "schema_version": 3,
     "solution": false,
     "task": false
    }
   },
   "source": [
    "### 2a) Who is called \"Camilla Parker\"? Hint: Basic Graph Patterns can also match literals for equality. We are looking for the entity, which has the (string) name \"Camilla Parker\". [0.5 Points]"
   ]
  },
  {
   "cell_type": "code",
   "execution_count": null,
   "metadata": {
    "deletable": false,
    "nbgrader": {
     "cell_type": "code",
     "checksum": "9049ec3663b98c5f943cb5d1bf5dfd14",
     "grade": false,
     "grade_id": "cell-6545d26d7ad27c8f",
     "locked": false,
     "schema_version": 3,
     "solution": true,
     "task": false
    }
   },
   "outputs": [],
   "source": [
    "%%rdf sparql -l royals -s 2a\n",
    "# YOUR CODE HERE\n",
    "raise NotImplementedError()"
   ]
  },
  {
   "cell_type": "code",
   "execution_count": null,
   "metadata": {
    "deletable": false,
    "editable": false,
    "nbgrader": {
     "cell_type": "code",
     "checksum": "2ff51fdd49f307378a727ca5c3644093",
     "grade": true,
     "grade_id": "cell-fdb43253eccabf8d",
     "locked": true,
     "points": 0.5,
     "schema_version": 3,
     "solution": false,
     "task": false
    }
   },
   "outputs": [],
   "source": [
    "# This test will check whether your query returns the right results. [0.5 points]"
   ]
  },
  {
   "cell_type": "markdown",
   "metadata": {
    "deletable": false,
    "editable": false,
    "nbgrader": {
     "cell_type": "markdown",
     "checksum": "e79516300be2365012bf966385b95504",
     "grade": false,
     "grade_id": "cell-785ca6f6539cae50",
     "locked": true,
     "schema_version": 3,
     "solution": false,
     "task": false
    }
   },
   "source": [
    "### 2b) What are the names (the string name!) of all grand-children of Elizabeth II? [0.5 Points]"
   ]
  },
  {
   "cell_type": "code",
   "execution_count": null,
   "metadata": {
    "deletable": false,
    "nbgrader": {
     "cell_type": "code",
     "checksum": "3f33d6654f1cbfe58a8e5ecbde902ab2",
     "grade": false,
     "grade_id": "cell-10f3223853a761d5",
     "locked": false,
     "schema_version": 3,
     "solution": true,
     "task": false
    }
   },
   "outputs": [],
   "source": [
    "%%rdf sparql -l royals -s 2b\n",
    "# YOUR CODE HERE\n",
    "raise NotImplementedError()"
   ]
  },
  {
   "cell_type": "code",
   "execution_count": null,
   "metadata": {
    "deletable": false,
    "editable": false,
    "nbgrader": {
     "cell_type": "code",
     "checksum": "931808238b733186688f6e369570fe9e",
     "grade": true,
     "grade_id": "cell-16f139d5a10809a4",
     "locked": true,
     "points": 0.5,
     "schema_version": 3,
     "solution": false,
     "task": false
    }
   },
   "outputs": [],
   "source": [
    " # This test will check whether your query returns the right results. [0.5 points]"
   ]
  },
  {
   "cell_type": "markdown",
   "metadata": {
    "deletable": false,
    "editable": false,
    "nbgrader": {
     "cell_type": "markdown",
     "checksum": "d72330478a1dd1f12de6838f39385b88",
     "grade": false,
     "grade_id": "cell-85fd08e58d4846d9",
     "locked": true,
     "schema_version": 3,
     "solution": false,
     "task": false
    }
   },
   "source": [
    "### 2c) What are the titles (AKA) of persons, who are married to a person, who has divorced parents? [1 Points]\n",
    "\n",
    "<div class=\"alert alert-warning\">\n",
    "    <h3> Important: </h3> <br>\n",
    "Do not use the DISTINCT keyword.\n",
    "    Note: This query will yield the same binding for ?result multiple times. Think about why that is. If you can't think of a reason try projecting the other variables as well. The query should return 4 results.\n",
    "    </div>"
   ]
  },
  {
   "cell_type": "code",
   "execution_count": null,
   "metadata": {
    "deletable": false,
    "nbgrader": {
     "cell_type": "code",
     "checksum": "d91e54e550b600fa80e029a615b8db7c",
     "grade": false,
     "grade_id": "cell-1794431b727ae4b4",
     "locked": false,
     "schema_version": 3,
     "solution": true,
     "task": false
    }
   },
   "outputs": [],
   "source": [
    "%%rdf sparql -l royals -s 2c\n",
    "# YOUR CODE HERE\n",
    "raise NotImplementedError()"
   ]
  },
  {
   "cell_type": "code",
   "execution_count": null,
   "metadata": {
    "deletable": false,
    "editable": false,
    "nbgrader": {
     "cell_type": "code",
     "checksum": "2956629caf5ff54ac5d1499856445a6e",
     "grade": true,
     "grade_id": "cell-92aba3c983b8ae89",
     "locked": true,
     "points": 1,
     "schema_version": 3,
     "solution": false,
     "task": false
    }
   },
   "outputs": [],
   "source": [
    "# This test will check whether your query returns the right results. [1 point]"
   ]
  },
  {
   "cell_type": "markdown",
   "metadata": {
    "deletable": false,
    "editable": false,
    "nbgrader": {
     "cell_type": "markdown",
     "checksum": "93caff7a11291bec453b685cd4b8f65d",
     "grade": false,
     "grade_id": "cell-ace86776736659a1",
     "locked": true,
     "schema_version": 3,
     "solution": false,
     "task": false
    }
   },
   "source": [
    "# Graph: Scientists\n",
    "The following graph contains information about some well-known scientists. **You must run the following cell, otherwise the graph won't be in scope for the tasks:**"
   ]
  },
  {
   "cell_type": "code",
   "execution_count": null,
   "metadata": {
    "deletable": false,
    "editable": false,
    "nbgrader": {
     "cell_type": "code",
     "checksum": "817dedccfe5563005282e853988d008c",
     "grade": false,
     "grade_id": "cell-9ae4115dd46f0813",
     "locked": true,
     "schema_version": 3,
     "solution": false,
     "task": false
    }
   },
   "outputs": [],
   "source": [
    "%%rdf turtle -l scientists\n",
    "PREFIX rdfs: <http://www.w3.org/2000/01/rdf-schema#>\n",
    "PREFIX xsd: <http://www.w3.org/2001/XMLSchema#>\n",
    "PREFIX s: <http://example.org/subjects#>\n",
    "PREFIX p: <http://example.org/properties#>\n",
    "PREFIX c: <http://example.org/classes#>\n",
    "\n",
    "s:Newton a c:Person, c:Physicist ;\n",
    "    p:born \"1643\"^^xsd:integer ;\n",
    "    p:wonNobelPrize \"1703\"^^xsd:integer ;\n",
    "    rdfs:label \"Isaac Newton\" .\n",
    "s:Bohr a c:Person, c:Physicist ;\n",
    "    p:born \"1885\"^^xsd:integer ;\n",
    "    p:wonNobelPrize \"1922\"^^xsd:integer ;\n",
    "    rdfs:label \"Niels Bohr\" .\n",
    "s:Galilei a c:Person, c:Physicist ;\n",
    "    p:born \"1564\"^^xsd:integer ;\n",
    "    p:wonNobelPrize \"1604\"^^xsd:integer ;\n",
    "    rdfs:label \"Galileo Galilei\" .\n",
    "s:Hawking a c:Person, c:Physicist ;\n",
    "    p:born \"1942\"^^xsd:integer ;\n",
    "    p:wonNobelPrize \"1982\"^^xsd:integer ;\n",
    "    rdfs:label \"Stephen Hawking\" .\n",
    "s:Darwin a c:Person, c:Biologist ;\n",
    "    p:born \"1809\"^^xsd:integer ;\n",
    "    p:wonNobelPrize \"1859\"^^xsd:integer ;\n",
    "    rdfs:label \"Charles Darwin\" ."
   ]
  },
  {
   "cell_type": "markdown",
   "metadata": {
    "deletable": false,
    "editable": false,
    "nbgrader": {
     "cell_type": "markdown",
     "checksum": "b55b2aef6d2fb65c268f9719ee858c19",
     "grade": false,
     "grade_id": "cell-f5c6f17d35a928d9",
     "locked": true,
     "schema_version": 3,
     "solution": false,
     "task": false
    }
   },
   "source": [
    "# Task 3: Modifying Solutions [2.5 points]"
   ]
  },
  {
   "cell_type": "markdown",
   "metadata": {
    "deletable": false,
    "editable": false,
    "nbgrader": {
     "cell_type": "markdown",
     "checksum": "69e3144d61917c4152ed32518e0d422d",
     "grade": false,
     "grade_id": "cell-0c65a089b228cf82",
     "locked": true,
     "schema_version": 3,
     "solution": false,
     "task": false
    }
   },
   "source": [
    "Formulate the following questions as SPARQL queries using simple SELECT queries, variables and Basic Graph Patterns.</b>\n",
    "Again, please note that the URI/IRI of a resource is not the same as the literal name of that resource."
   ]
  },
  {
   "cell_type": "markdown",
   "metadata": {
    "deletable": false,
    "editable": false,
    "nbgrader": {
     "cell_type": "markdown",
     "checksum": "39a9c8715770ec6926e1ab102df91369",
     "grade": false,
     "grade_id": "cell-2279d91b26e83eeb",
     "locked": true,
     "schema_version": 3,
     "solution": false,
     "task": false
    }
   },
   "source": [
    "### 3a) A list of the birth years in ascending order. Use variable **?year** for the year. Your query should give 5 entries. [0.5 points]"
   ]
  },
  {
   "cell_type": "code",
   "execution_count": null,
   "metadata": {
    "deletable": false,
    "nbgrader": {
     "cell_type": "code",
     "checksum": "d2447432fa9e6885ea3f95316548f23c",
     "grade": false,
     "grade_id": "cell-8619ded12dda1033",
     "locked": false,
     "schema_version": 3,
     "solution": true,
     "task": false
    }
   },
   "outputs": [],
   "source": [
    "%%rdf sparql -l scientists -s 3a\n",
    "# YOUR CODE HERE\n",
    "raise NotImplementedError()"
   ]
  },
  {
   "cell_type": "code",
   "execution_count": null,
   "metadata": {
    "deletable": false,
    "editable": false,
    "nbgrader": {
     "cell_type": "code",
     "checksum": "a7d811a2e20b9753875045f8945775c5",
     "grade": true,
     "grade_id": "cell-1343e6fceb869028",
     "locked": true,
     "points": 0.5,
     "schema_version": 3,
     "solution": false,
     "task": false
    }
   },
   "outputs": [],
   "source": [
    "# This test will check whether your query returns the right results. [0.5 points]"
   ]
  },
  {
   "cell_type": "markdown",
   "metadata": {
    "deletable": false,
    "editable": false,
    "nbgrader": {
     "cell_type": "markdown",
     "checksum": "66187f41fbac392e8bd6876c0fbe39b8",
     "grade": false,
     "grade_id": "cell-3ef9cd38b1e68b9f",
     "locked": true,
     "schema_version": 3,
     "solution": false,
     "task": false
    }
   },
   "source": [
    "### 3b) Write a query that retrieves a list of all labels of persons, orders them by their birth year in ascending order, limits the results to 3 persons, and skips the first 2 persons. Use variable **?year** for the year and **?name** for the name/label. Your query should give 3 entries.[1 point]"
   ]
  },
  {
   "cell_type": "code",
   "execution_count": null,
   "metadata": {
    "deletable": false,
    "nbgrader": {
     "cell_type": "code",
     "checksum": "16e35d9efc1a1d72588e3801cbe23839",
     "grade": false,
     "grade_id": "cell-a383f4c3e39d6ad9",
     "locked": false,
     "schema_version": 3,
     "solution": true,
     "task": false
    }
   },
   "outputs": [],
   "source": [
    "%%rdf sparql -l scientists -s 3b\n",
    "# YOUR CODE HERE\n",
    "raise NotImplementedError()"
   ]
  },
  {
   "cell_type": "code",
   "execution_count": null,
   "metadata": {
    "deletable": false,
    "editable": false,
    "nbgrader": {
     "cell_type": "code",
     "checksum": "545b9a60361ab1bcb83b0f5358fb47b8",
     "grade": true,
     "grade_id": "cell-7a435ca653d96c86",
     "locked": true,
     "points": 1,
     "schema_version": 3,
     "solution": false,
     "task": false
    }
   },
   "outputs": [],
   "source": [
    "# This test will check whether your query returns the right results. [1 point]"
   ]
  },
  {
   "cell_type": "markdown",
   "metadata": {
    "deletable": false,
    "editable": false,
    "nbgrader": {
     "cell_type": "markdown",
     "checksum": "90a59dd8df662939cc19d5bf707c889d",
     "grade": false,
     "grade_id": "cell-6aca307c2973e7e3",
     "locked": true,
     "schema_version": 3,
     "solution": false,
     "task": false
    }
   },
   "source": [
    "### 3c) Write a query that retrieves the youngest person (the label). Use variable **?year** for the year and **?name** for the label of that person. [1 point]"
   ]
  },
  {
   "cell_type": "code",
   "execution_count": null,
   "metadata": {
    "deletable": false,
    "nbgrader": {
     "cell_type": "code",
     "checksum": "f767ff734f202f3ed5c014ffe90b97ba",
     "grade": false,
     "grade_id": "cell-1bfb45be4ba881d6",
     "locked": false,
     "schema_version": 3,
     "solution": true,
     "task": false
    }
   },
   "outputs": [],
   "source": [
    " %%rdf sparql -l scientists -s 3c\n",
    "# YOUR CODE HERE\n",
    "raise NotImplementedError()"
   ]
  },
  {
   "cell_type": "code",
   "execution_count": null,
   "metadata": {
    "deletable": false,
    "editable": false,
    "nbgrader": {
     "cell_type": "code",
     "checksum": "7f5817e545e9e98bd645edf8702c07d8",
     "grade": true,
     "grade_id": "cell-faff85d2b10c9341",
     "locked": true,
     "points": 1,
     "schema_version": 3,
     "solution": false,
     "task": false
    }
   },
   "outputs": [],
   "source": [
    "# This test will check whether your query returns the right results. [1 point]"
   ]
  },
  {
   "cell_type": "markdown",
   "metadata": {
    "deletable": false,
    "editable": false,
    "nbgrader": {
     "cell_type": "markdown",
     "checksum": "01617087f44e6b5402e63a8a1d93fa6a",
     "grade": false,
     "grade_id": "cell-8f0fbe9b9ea37396",
     "locked": true,
     "schema_version": 3,
     "solution": false,
     "task": false
    }
   },
   "source": [
    "# Task 4: Filters, Functions, Modifiers, and Aggregates [10 Points]\n",
    "The following graph contains information about some famous onde day international (ODI) Cricketers of 90s. In the following tasks, we ask you to perform SPARQL query covering filter, modifiers, and aggregation operations. Before we formally define the task, we provide some quick overview of Filters, Functions, Modifiers and Aggregates. \n",
    "\n",
    "### Filters, Modifiers, and Aggregates\n",
    "With Group Graph Patterns and Solution Modifiers we can efficiently query RDF graphs but what if we actually want to do something with the data like calculating an average, filtering specific values or binding our own values? There are many ways to do this and we will introduce the most important ones.\n",
    "\n",
    "#### Filters\n",
    "One can filter values inside a Group Graph Pattern by using the **FILTER** function. Inside the parentheses of the filter function we have to provide a filter expression. A Filter expression uses operators like \\<, =, \\> \\<=, \\>= and != to compare variables and literals with specific data types. We can also use arithmetic operators like +, -, \\* and /. We can also combine multiple filter expressions with AND (&&), OR (||) and NOT (!). Filters are always applied to the whole Group Pattern in which they reside. There are also many functions which can be used in filter expressions like **contains** which checks if a string contains another string or **str** which converts a literal to its literal value (without data type) or **regex** which matches a string with a full regular expression. Example:\n",
    "\n",
    "SELECT \\* WHERE {  \n",
    "&nbsp;&nbsp;&nbsp;&nbsp;?employee a c:Employee ;  \n",
    "&nbsp;&nbsp;&nbsp;&nbsp;?employee rdfs:label ?name ;  \n",
    "&nbsp;&nbsp;&nbsp;&nbsp;&nbsp;&nbsp;&nbsp;&nbsp;p:income ?income .  \n",
    "&nbsp;&nbsp;&nbsp;&nbsp;FILTER (str(?name) != \"Angela\" && contains(?name, \"la\") && ?income > 450)  \n",
    "}\n",
    "\n",
    "Here we show all employees with their name and income who have an income larger than 450, aren't called \"Angela\" and whose name contains \"la\".\n",
    "\n",
    "#### Aggregates\n",
    "To calculate values over multiple results, we need to use aggregate functions. The most important aggregate functions are min, max, avg, sum and count. These can simply be used in the projection. Aggregate functions always work on groups of results and compute separately for each group. By default all results are one big group but you can use the **GROUP BY** modifier to specify a variable to group by. For example if you want to know for all employers what the average income of their employees is, you could do it like this:\n",
    "\n",
    "SELECT ?employer (sum(?income) AS ?incomeSum) WHERE {  \n",
    "&nbsp;&nbsp;&nbsp;&nbsp;?employer a c:Employer .  \n",
    "&nbsp;&nbsp;&nbsp;&nbsp;?employee a c:Employee ;  \n",
    "&nbsp;&nbsp;&nbsp;&nbsp;&nbsp;&nbsp;&nbsp;&nbsp;p:worksFor ?employer ;  \n",
    "&nbsp;&nbsp;&nbsp;&nbsp;&nbsp;&nbsp;&nbsp;&nbsp;p:income ?income .   \n",
    "}\n",
    "GROUP BY ?employer\n",
    "\n",
    "Please note that it is obligatory to bind the result with the **AS** keyword and surround the expression with parentheses. You can also use other functions and arithmetic operators on the left side of the AS, for example to remove a 10% tax you could do **(sum(?income)*0.9 AS ?incomeSum)** instead.\n",
    "\n",
    "#### Manual Binding\n",
    "One can also bind their own values to variables using the BIND keyword. If you want to get the difference in population of Germany and Sweden:\n",
    "\n",
    "SELECT ?diff WHERE {  \n",
    "&nbsp;&nbsp;&nbsp;&nbsp;s:Germany p:population ?x .  \n",
    "&nbsp;&nbsp;&nbsp;&nbsp;s:Sweden p:population ?y .  \n",
    "&nbsp;&nbsp;&nbsp;&nbsp;BIND (abs(?x - ?y) AS ?diff)  \n",
    "}\n",
    "\n",
    "Again, you can use all kinds of expressions on the left side of the AS keyword. "
   ]
  },
  {
   "cell_type": "markdown",
   "metadata": {
    "deletable": false,
    "editable": false,
    "nbgrader": {
     "cell_type": "markdown",
     "checksum": "711f013cab0f170a5298cf71ba53b8f9",
     "grade": false,
     "grade_id": "cell-2d0767426eefa17c",
     "locked": true,
     "schema_version": 3,
     "solution": false,
     "task": false
    }
   },
   "source": [
    "## **Now run the following cell, otherwise the graph won't be in scope for the tasks!**"
   ]
  },
  {
   "cell_type": "code",
   "execution_count": null,
   "metadata": {
    "deletable": false,
    "editable": false,
    "nbgrader": {
     "cell_type": "code",
     "checksum": "935b4f1e16fe2175224410f1b30ed53e",
     "grade": false,
     "grade_id": "cell-7010153f8093b994",
     "locked": true,
     "schema_version": 3,
     "solution": false,
     "task": false
    }
   },
   "outputs": [],
   "source": [
    "%%rdf turtle -l nfl\n",
    "PREFIX rdfs: <http://www.w3.org/2000/01/rdf-schema#>\n",
    "PREFIX xsd: <http://www.w3.org/2001/XMLSchema#>\n",
    "PREFIX s: <http://example.org/football_players#>\n",
    "PREFIX p: <http://example.org/properties#>\n",
    "PREFIX c: <http://example.org/classes#>\n",
    "\n",
    "\n",
    "s:Brady a c:FootballPlayer ;\n",
    "    p:hasName \"Tom Brady\"^^xsd:string ;\n",
    "    p:hasTouchdowns \"581\"^^xsd:integer ;\n",
    "    p:hasPassingYards \"79,204\"^^xsd:string ;\n",
    "    p:hasCompletionPercentage \"64.0\"^^xsd:float ;\n",
    "    p:hasSuperBowlWins \"7\"^^xsd:integer ;\n",
    "    p:position \"Quarterback\"^^xsd:string ;\n",
    "    p:hasTeam \"Tampa Bay Buccaneers\"^^xsd:string ;\n",
    "    rdfs:label \"The G.O.A.T.\" .\n",
    "\n",
    "\n",
    "s:Rice a c:FootballPlayer ;\n",
    "    p:hasName \"Jerry Rice\"^^xsd:string ;\n",
    "    p:hasReceivingYards \"22,895\"^^xsd:string ;\n",
    "    p:hasReceivingTouchdowns \"197\"^^xsd:integer ;\n",
    "    p:hasSuperBowlWins \"3\"^^xsd:integer ;\n",
    "    p:position \"Wide Receiver\"^^xsd:string ;\n",
    "    p:hasTeam \"San Francisco 49ers\"^^xsd:string ;\n",
    "    rdfs:label \"The GOAT Wide Receiver\" .\n",
    "\n",
    "\n",
    "s:Sanders a c:FootballPlayer ;\n",
    "    p:hasName \"Barry Sanders\"^^xsd:string ;\n",
    "    p:hasRushingYards \"15,269\"^^xsd:string ;\n",
    "    p:hasRushingTouchdowns \"99\"^^xsd:integer ;\n",
    "    p:position \"Running Back\"^^xsd:string ;\n",
    "    p:hasTeam \"Detroit Lions\"^^xsd:string ;\n",
    "    rdfs:label \"Lion King\" .\n",
    "\n",
    "\n",
    "s:Watt a c:FootballPlayer ;\n",
    "    p:hasName \"J.J. Watt\"^^xsd:string ;\n",
    "    p:hasSacks \"101.0\"^^xsd:float ;\n",
    "    p:hasTackles \"650\"^^xsd:int ;\n",
    "    p:position \"Defensive End\"^^xsd:string ;\n",
    "    p:hasTeam \"Arizona Cardinals\"^^xsd:string ;\n",
    "    rdfs:label \"Sack Master\" .\n",
    "\n",
    "\n",
    "s:Brown a c:FootballPlayer ;\n",
    "    p:hasName \"Antonio Brown\"^^xsd:string ;\n",
    "    p:hasReceivingYards \"12,371\"^^xsd:string ;\n",
    "    p:hasReceivingTouchdowns \"83\"^^xsd:integer ;\n",
    "    p:position \"Wide Receiver\"^^xsd:string ;\n",
    "    p:hasTeam \"Tampa Bay Buccaneers\"^^xsd:string ;\n",
    "    rdfs:label \"Mr. Reliable\" .\n",
    "\n",
    "\n",
    "s:Jackson a c:FootballPlayer ;\n",
    "    p:hasName \"DeSean Jackson\"^^xsd:string ;\n",
    "    p:hasReceivingYards \"10,656\"^^xsd:string ;\n",
    "    p:hasReceivingTouchdowns \"56\"^^xsd:integer ;\n",
    "    p:position \"Wide Receiver\"^^xsd:string ;\n",
    "    p:hasTeam \"Las Vegas Raiders\"^^xsd:string ;\n",
    "    rdfs:label \"Speedster\" .\n",
    "\n",
    "\n",
    "s:Wagner a c:FootballPlayer ;\n",
    "    p:hasName \"Bobby Wagner\"^^xsd:string ;\n",
    "    p:hasTackles \"1383\"^^xsd:int ;\n",
    "    p:hasSacks \"21.5\"^^xsd:float ;\n",
    "    p:position \"Linebacker\"^^xsd:string ;\n",
    "    p:hasTeam \"Seattle Seahawks\"^^xsd:string ;\n",
    "    rdfs:label \"Tackling Machine\" .\n",
    "\n",
    "\n",
    "s:Mahomes a c:FootballPlayer ;\n",
    "    p:hasName \"Patrick Mahomes\"^^xsd:string ;\n",
    "    p:hasPassingYards \"14,152\"^^xsd:string ;\n",
    "    p:hasTouchdowns \"114\"^^xsd:integer ;\n",
    "    p:position \"Quarterback\"^^xsd:string ;\n",
    "    p:hasTeam \"Kansas City Chiefs\"^^xsd:string ;\n",
    "    rdfs:label \"The Phenom\" .\n",
    "\n",
    "\n",
    "s:Donald a c:FootballPlayer ;\n",
    "    p:hasName \"Aaron Donald\"^^xsd:string ;\n",
    "    p:hasSacks \"93.5\"^^xsd:float ;\n",
    "    p:hasTackles \"383\"^^xsd:int ;\n",
    "    p:position \"Defensive Tackle\"^^xsd:string ;\n",
    "    p:hasTeam \"Los Angeles Rams\"^^xsd:string ;\n",
    "    rdfs:label \"Sack Master\" .\n",
    "\n",
    "\n",
    "s:Brees a c:FootballPlayer ;\n",
    "    p:hasName \"Drew Brees\"^^xsd:string ;\n",
    "    p:hasPassingYards \"80,358\"^^xsd:string ;\n",
    "    p:hasTouchdowns \"571\"^^xsd:integer ;\n",
    "    p:position \"Quarterback\"^^xsd:string ;\n",
    "    p:hasTeam \"New Orleans Saints\"^^xsd:string .\n"
   ]
  },
  {
   "cell_type": "markdown",
   "metadata": {
    "deletable": false,
    "editable": false,
    "nbgrader": {
     "cell_type": "markdown",
     "checksum": "51b2a8d86bd0bbc87b0a30c41db6b5a8",
     "grade": false,
     "grade_id": "cell-4037c84180e76d06",
     "locked": true,
     "schema_version": 3,
     "solution": false,
     "task": false
    }
   },
   "source": [
    "## Task: 4a) [2 point]\n",
    "Who has the most SuperBowlWins? Use variables **?name** for the player's name (the literal) and **?superBowlWins** for the total wins."
   ]
  },
  {
   "cell_type": "code",
   "execution_count": null,
   "metadata": {
    "deletable": false,
    "nbgrader": {
     "cell_type": "code",
     "checksum": "b50df7862b071a7e9068edce7e27545f",
     "grade": false,
     "grade_id": "cell-8cc7bad5c9bc77e1",
     "locked": false,
     "schema_version": 3,
     "solution": true,
     "task": false
    }
   },
   "outputs": [],
   "source": [
    "%%rdf sparql -l nfl -s 4a\n",
    "# YOUR CODE HERE\n",
    "raise NotImplementedError()"
   ]
  },
  {
   "cell_type": "code",
   "execution_count": null,
   "metadata": {
    "deletable": false,
    "editable": false,
    "nbgrader": {
     "cell_type": "code",
     "checksum": "f74a6edf5230745244107fbc7be015cb",
     "grade": true,
     "grade_id": "cell-2e432217fc90eb1e",
     "locked": true,
     "points": 2,
     "schema_version": 3,
     "solution": false,
     "task": false
    }
   },
   "outputs": [],
   "source": [
    "# This test will check if the leading quarterback reported w.r.t highest number of superbowl wins. [2 point]"
   ]
  },
  {
   "cell_type": "markdown",
   "metadata": {
    "deletable": false,
    "editable": false,
    "nbgrader": {
     "cell_type": "markdown",
     "checksum": "1275b62a594c01879e2675b908bf3dc4",
     "grade": false,
     "grade_id": "cell-6177fb584ba3d9d2",
     "locked": true,
     "schema_version": 3,
     "solution": false,
     "task": false
    }
   },
   "source": [
    "## Task: 4b) [2 point]\n",
    "Find the average touchdowns scored by the quaterbacks. Use variable **?averageTouchdowns** to show the result. **Hint:** Sum up all touchdowns and build the average. The result should be stored in **?averageTouchdowns**. The average should be 422."
   ]
  },
  {
   "cell_type": "code",
   "execution_count": null,
   "metadata": {
    "deletable": false,
    "nbgrader": {
     "cell_type": "code",
     "checksum": "d4448bcbf741f0f6e99a6f354e02e1ab",
     "grade": false,
     "grade_id": "cell-4d0163531c1eac7f",
     "locked": false,
     "schema_version": 3,
     "solution": true,
     "task": false
    }
   },
   "outputs": [],
   "source": [
    "%%rdf sparql -l nfl -s 4b\n",
    "# YOUR CODE HERE\n",
    "raise NotImplementedError()"
   ]
  },
  {
   "cell_type": "code",
   "execution_count": null,
   "metadata": {
    "deletable": false,
    "editable": false,
    "nbgrader": {
     "cell_type": "code",
     "checksum": "b2f8cab6b4ffb014e42b297e3557786d",
     "grade": true,
     "grade_id": "cell-0f24435ffbd5bb4a",
     "locked": true,
     "points": 2,
     "schema_version": 3,
     "solution": false,
     "task": false
    }
   },
   "outputs": [],
   "source": [
    "# This test will check if the average touchdowns scored by these players is correctly reported. [2 point]"
   ]
  },
  {
   "cell_type": "markdown",
   "metadata": {
    "deletable": false,
    "editable": false,
    "nbgrader": {
     "cell_type": "markdown",
     "checksum": "70e624519c3bca4026c033f0395af39e",
     "grade": false,
     "grade_id": "cell-4290f536260a77d9",
     "locked": true,
     "schema_version": 3,
     "solution": false,
     "task": false
    }
   },
   "source": [
    "## Task: 4c) [2 points]\n",
    "Who are the players with more than 400 tackles? Use variables **?name**, **?position**, **?team**, and **?tackles** for player's name (literal), position, and their team, and their tackle count respectively. Also, sort them in according order of their tackle count (DESC). Your result set should include two players."
   ]
  },
  {
   "cell_type": "code",
   "execution_count": null,
   "metadata": {
    "deletable": false,
    "nbgrader": {
     "cell_type": "code",
     "checksum": "d95ffbb91b3e874381da1629bcb0547e",
     "grade": false,
     "grade_id": "cell-138d1e5ad3a68982",
     "locked": false,
     "schema_version": 3,
     "solution": true,
     "task": false
    }
   },
   "outputs": [],
   "source": [
    "%%rdf sparql -l nfl -s 4c\n",
    "# YOUR CODE HERE\n",
    "raise NotImplementedError()"
   ]
  },
  {
   "cell_type": "code",
   "execution_count": null,
   "metadata": {
    "deletable": false,
    "editable": false,
    "nbgrader": {
     "cell_type": "code",
     "checksum": "915e534ed3c1249ee87450a15780e539",
     "grade": true,
     "grade_id": "cell-96a501c42ee475b2",
     "locked": true,
     "points": 2,
     "schema_version": 3,
     "solution": false,
     "task": false
    }
   },
   "outputs": [],
   "source": [
    "# This test will retrieve players, whose tackle count is above 400. [2 points]"
   ]
  },
  {
   "cell_type": "markdown",
   "metadata": {
    "deletable": false,
    "editable": false,
    "nbgrader": {
     "cell_type": "markdown",
     "checksum": "a8e14e9a4e27fad9de5adb5b2e74abd8",
     "grade": false,
     "grade_id": "cell-742698119114bab4",
     "locked": true,
     "schema_version": 3,
     "solution": false,
     "task": false
    }
   },
   "source": [
    "## Task: 4d) [2 points]\n",
    "As seen, some players are also internationally well-known with given nicknames/label, e.g., Brady is known as \"The G.O.A.T\". But which player did **NOT** get a such a nickname/label. Use variable **?name** for the real name (the string). **HINT:** Use a combination of OPTIONAL, FILTER, and bound."
   ]
  },
  {
   "cell_type": "code",
   "execution_count": null,
   "metadata": {
    "deletable": false,
    "nbgrader": {
     "cell_type": "code",
     "checksum": "9bb318bda274a7225fba231b8b13ebdf",
     "grade": false,
     "grade_id": "cell-df72486555a24bb8",
     "locked": false,
     "schema_version": 3,
     "solution": true,
     "task": false
    }
   },
   "outputs": [],
   "source": [
    "%%rdf sparql -l nfl -s 4d\n",
    "# YOUR CODE HERE\n",
    "raise NotImplementedError()"
   ]
  },
  {
   "cell_type": "code",
   "execution_count": null,
   "metadata": {
    "deletable": false,
    "editable": false,
    "nbgrader": {
     "cell_type": "code",
     "checksum": "4f39700703a97ce5ea99770b88b509d0",
     "grade": true,
     "grade_id": "cell-ee9dfe598286f09e",
     "locked": true,
     "points": 2,
     "schema_version": 3,
     "solution": false,
     "task": false
    }
   },
   "outputs": [],
   "source": [
    "# This test will check if there is a batsman without a nickname. [2 points]"
   ]
  },
  {
   "cell_type": "markdown",
   "metadata": {
    "deletable": false,
    "editable": false,
    "nbgrader": {
     "cell_type": "markdown",
     "checksum": "6a0ffcbdabf52f76190599fe74528536",
     "grade": false,
     "grade_id": "cell-4d2c4100fbad60a0",
     "locked": true,
     "schema_version": 3,
     "solution": false,
     "task": false
    }
   },
   "source": [
    "## Task: 4e) [2 points]\n",
    "What is the ReceivingTouchdowns difference between top-2 players with receiving touchdowns (overall there are three players with the receiving touchdowns property)? **Hints**: You can apply manual binding using keyword **BIND**. Use variables **?diffRuns** for the difference. The result should be 114."
   ]
  },
  {
   "cell_type": "code",
   "execution_count": null,
   "metadata": {
    "deletable": false,
    "nbgrader": {
     "cell_type": "code",
     "checksum": "d0d0ab34bbedf8dde01912dd1af821ec",
     "grade": false,
     "grade_id": "cell-809df68aa2549967",
     "locked": false,
     "schema_version": 3,
     "solution": true,
     "task": false
    }
   },
   "outputs": [],
   "source": [
    "%%rdf sparql -l nfl -s 4e\n",
    "# YOUR CODE HERE\n",
    "raise NotImplementedError()"
   ]
  },
  {
   "cell_type": "code",
   "execution_count": null,
   "metadata": {
    "deletable": false,
    "editable": false,
    "nbgrader": {
     "cell_type": "code",
     "checksum": "9dacb375f77506028954f27b1e28d4ac",
     "grade": true,
     "grade_id": "cell-29379fe6dc687dd3",
     "locked": true,
     "points": 2,
     "schema_version": 3,
     "solution": false,
     "task": false
    }
   },
   "outputs": [],
   "source": [
    "# This test will check if the difference correct. [2 points]"
   ]
  }
 ],
 "metadata": {
  "kernelspec": {
   "display_name": "Python 3 (ipykernel)",
   "language": "python",
   "name": "python3"
  },
  "language_info": {
   "codemirror_mode": {
    "name": "ipython",
    "version": 3
   },
   "file_extension": ".py",
   "mimetype": "text/x-python",
   "name": "python",
   "nbconvert_exporter": "python",
   "pygments_lexer": "ipython3",
   "version": "3.10.12"
  },
  "latex_envs": {
   "LaTeX_envs_menu_present": true,
   "autoclose": false,
   "autocomplete": true,
   "bibliofile": "biblio.bib",
   "cite_by": "apalike",
   "current_citInitial": 1,
   "eqLabelWithNumbers": true,
   "eqNumInitial": 1,
   "hotkeys": {
    "equation": "Ctrl-E",
    "itemize": "Ctrl-I"
   },
   "labels_anchors": false,
   "latex_user_defs": false,
   "report_style_numbering": false,
   "user_envs_cfg": false
  },
  "varInspector": {
   "cols": {
    "lenName": 16,
    "lenType": 16,
    "lenVar": 40
   },
   "kernels_config": {
    "python": {
     "delete_cmd_postfix": "",
     "delete_cmd_prefix": "del ",
     "library": "var_list.py",
     "varRefreshCmd": "print(var_dic_list())"
    },
    "r": {
     "delete_cmd_postfix": ") ",
     "delete_cmd_prefix": "rm(",
     "library": "var_list.r",
     "varRefreshCmd": "cat(var_dic_list()) "
    }
   },
   "types_to_exclude": [
    "module",
    "function",
    "builtin_function_or_method",
    "instance",
    "_Feature"
   ],
   "window_display": false
  }
 },
 "nbformat": 4,
 "nbformat_minor": 4
}
