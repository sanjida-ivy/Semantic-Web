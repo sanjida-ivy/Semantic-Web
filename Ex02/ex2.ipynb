{
 "cells": [
  {
   "cell_type": "code",
   "execution_count": null,
   "metadata": {},
   "outputs": [],
   "source": []
  },
  {
   "cell_type": "markdown",
   "metadata": {
    "deletable": false,
    "editable": false,
    "nbgrader": {
     "cell_type": "markdown",
     "checksum": "6341de18abb8638818e7bfffeb94f8b5",
     "grade": false,
     "grade_id": "cell-c92660222cf5e644",
     "locked": true,
     "schema_version": 3,
     "solution": false,
     "task": false
    }
   },
   "source": [
    "## Some useful theoretical concepts\n",
    "\n",
    "### Turtle\n",
    "*Turtle* stands for **Terse RDF Triple Language** and a [W3C recommended](https://www.w3.org/TR/turtle/) syntax. It is a file format for serializing RDF graphs. To serialize an RDF triple of the form *(Subject, Predicate, Object)* in Turtle, you just write them in that sequence, followed by a period. \n",
    "\n",
    "**Subject Predicate Object .**\n",
    "Please note the period after a triple. In turtle serialization, URIs are encased in angled brackets (&lt; &gt;). For example, the RDF triple *(http://example.org/#Germany, http://example.org/#capital, http://example.org/#Berlin)*  can be serialized as follows:\n",
    "\n",
    "**&lt;http://example.org/#Germany&gt; &lt;http://example.org/#capital&gt; &lt;http://example.org/#Berlin&gt; .**\n",
    "\n",
    "**Because of its very simple syntax, Turtle is intuitive and human-readable.**\n",
    "\n",
    "#### Syntactic sugar:\n",
    "Because subjects or subject-predicate-combinations often repeat in the same graph, Turtle introduces some syntactic sugar.\n",
    "To repeat a subject, one can use a semicolon instead of a period after a triple. To express that Germany has the capital Berlin and the state Bavaria, one would write the following:\n",
    "\n",
    "**&lt;http://example.org/#Germany&gt; &lt;http://example.org/#capital&gt; &lt;http://example.org/#Berlin&gt; ;  \n",
    "&nbsp;&nbsp;&nbsp;&nbsp;&lt;http://example.org/#state&gt; &lt;http://example.org/#Bavaria&gt; .**\n",
    "\n",
    "To repeat a subject-predicate-combination, one can use a comma instead of a period after the triple. To express that Germany has the state Berlin and the state Bavaria, one would write the following:\n",
    "\n",
    "**&lt;http://example.org/#Germany&gt; &lt;http://example.org/#state&gt; &lt;http://example.org/#Berlin&gt; ,  \n",
    "&nbsp;&nbsp;&nbsp;&nbsp;&lt;http://example.org/#Bavaria&gt; .**\n",
    "\n",
    "Both of these can be chained to repeat the same subject/subject-predicate-combination over and over.\n",
    "\n",
    "**You are allowed and even encouraged to use syntactic sugar throughout all our assignments.**\n",
    "\n",
    "\n",
    "### CURIEs\n",
    "Because we only used full URIs in 1a), the graph looks cluttered and both the graph and the turtle source are hard to read. But many URIs have the same prefix (http://example.org/sights for example) and turtle allows us to define abbreviations for these prefixes. These abbreviated URIs are called *Compact URIs* or *CURIES*. In Turtle, such a prefix is defined using the **@prefix** keyword, followed by the abbreviation, then the URI prefix in angled brackets (&lt; &gt;) and finally a period. For example, if we want to abbreviate *http://example.org/#* with *ex:*, then we need to prepend the following line to the turtle document:\n",
    "\n",
    "**@prefix ex: &lt;http://example.org/#&gt; .**\n",
    "\n",
    "Now we can abbreviate the RDF triple:\n",
    "\n",
    "**&lt;http://example.org/#Germany&gt; &lt;http://example.org/#capital&gt; &lt;http://example.org/#Berlin&gt; .**\n",
    "\n",
    "to:\n",
    "\n",
    "**ex:Germany ex:capital ex:Berlin .**\n",
    "\n",
    "Note, that we omit the angled brackets when using CURIEs.\n",
    "\n",
    "### Literals\n",
    "\n",
    "For basic values such as numbers and strings, it is impractical to use URIs. Instead of URIs we use literals. Literals have a data type, which is string by default. Literals can only be used in the object position of triples and are encased in double quotes (\" \"). An example for a triple with a string literal is:\n",
    "\n",
    "**ex:Germany ex:name \"Deutschland\" .**\n",
    "\n",
    "To specify a *data type*, it is appended to the literal with *two carets* (^^). A data type can be an arbitrary URI, but there are some predefined data types which should suffice in most cases. These predefined data types use the prefix *http://www.w3.org/2001/XMLSchema#*, which is usually abbreviated with *xsd:*. An example for an integer literal:\n",
    "\n",
    "**ex:Germany ex:population \"83042235\"^^xsd:int .**\n",
    "\n",
    "There are also string literals with a specified language. This is useful for names that differ in different languages. To specify a language, we append a two character language tag with an at symbol (@) behind the literal. The literal is then automatically interpreted as a language tagged string (this data type is never specified explicitly). To express that ex:Germany has a different name in English and in German, one would add two triples:\n",
    "\n",
    "**ex:Germany ex:name \"Deutschland\"@de .**  \n",
    "**ex:Germany ex:name \"Germany\"@en .**  \n",
    "\n",
    "Please note that the URI ex:Germany is **not** the same as the literal \"Germany\" and in some cases you can't deduce the name of an entity from the URI (for example www.wikidata.org uses numerical IDs, e.g https://www.wikidata.org/entity/Q1017).\n",
    "\n",
    "\n",
    "### Blank Nodes\n",
    "\n",
    "Sometimes resources do not or should not have an identifier but still stand in relation to other resources. These anonymous resources are represented by blank nodes in RDF graphs. In Turtle, blank nodes are are represented with an underscore followed by a colon and an identifier (\\_:identifier). The purpose of the identifier is to be able to locally reference the anonymous resource multiple times. Even if two blank nodes in different graphs use the same identifier, they usually reference a different resource. For example, when you want to express that you know someone who is a professor but doesn't have an identifier and there is someone else you don't know who is also a professor, you do it like this:\n",
    "\n",
    "**ex:me ex:knows \\_:1 .  \n",
    "\\_:1 rdf:type ex:professor .  \n",
    "\\_:2 rdf:type ex:professor .**\n",
    "\n",
    "You know \\_:1 but don't know \\_:2 but they are both professors.\n",
    "\n",
    "Additionally, blank nodes are often used to represent n-ary relations. For example, a grading that needs to have a grade and a grader can be expressed like this:\n",
    "\n",
    "**ex:student ex:grading \\_:1 .  \n",
    "\\_:1 ex:grade \"1.0\" .  \n",
    "\\_:1 ex:grader ex:professor .**\n",
    "\n",
    "**Syntactic sugar:**  \n",
    "To make this more readable, you can instead use square brackets (\\[ \\]) and every predicate-object-combination in between the square brackets will reference the same blank node. The grade example would then look like this:\n",
    "\n",
    "**ex:student ex:grading \\[  \n",
    "&nbsp;&nbsp;&nbsp;&nbsp;ex:grade \"1.0\" ;  \n",
    "&nbsp;&nbsp;&nbsp;&nbsp;ex:grader ex:professor  \n",
    "\\] .**\n",
    "\n",
    "Note that we must use semicolons and commas in between the brackets (see syntactic sugar at top of assignment) and there is still a period after the brackets.\n",
    "\n",
    "Also Note that the blank node identifier is exchangable as long as we use the same one when referencing the same node. That is why the bracket notation does not need an identifier."
   ]
  },
  {
   "cell_type": "markdown",
   "metadata": {
    "deletable": false,
    "editable": false,
    "nbgrader": {
     "cell_type": "markdown",
     "checksum": "32b51e948bdec552c2fe483cfbfc8eaf",
     "grade": false,
     "grade_id": "cell-9d61014bd63fea7c",
     "locked": true,
     "schema_version": 3,
     "solution": false,
     "task": false
    }
   },
   "source": [
    "<div class=\"alert alert-danger\">\n",
    "    <h3> Important: </h3> <br>\n",
    "    A small reminder that these assignments will be graded automatically. Please read the tasks carefully and be as pedantic as possible. Run your answers to check if your code parses correctly. Typing errors will lead to point loss. Do not change code that is already given as this may break the unit tests and lead to 0 points. Do not use comments in your code.\n",
    "    </div>"
   ]
  },
  {
   "cell_type": "code",
   "execution_count": null,
   "metadata": {
    "deletable": false,
    "editable": false,
    "nbgrader": {
     "cell_type": "code",
     "checksum": "f3e9a681069fb3c5aec04d6cd365deaa",
     "grade": false,
     "grade_id": "cell-29b666d70cf8f32b",
     "locked": true,
     "schema_version": 3,
     "solution": false,
     "task": false
    }
   },
   "outputs": [],
   "source": [
    "%%capture\n",
    "\n",
    "# The line above suppresses output. If there are errors, remove it.\n",
    "# Execute this cell once to install and update all needed packages. Could take a while, please wait until this process is finished before continuing.\n",
    "# When the cell is finished, the [*] to the left of the cell turns into a number, e.g. [1].\n",
    "import sys\n",
    "!{sys.executable} -m pip install git+https://git.rwth-aachen.de/i5/teaching/jupyter-rdfify -U\n",
    "# The line below installs the python graphviz interface together with the grahpviz binaries.\n",
    "# If you do not use anaconda, you need to install graphviz by hand and add it to your path as well as install the graphviz\n",
    "# interface with pip (pip install graphviz)\n",
    "!conda install --override-channels --yes --prefix {sys.prefix} -c conda-forge python-graphviz"
   ]
  },
  {
   "cell_type": "code",
   "execution_count": null,
   "metadata": {
    "deletable": false,
    "editable": false,
    "nbgrader": {
     "cell_type": "code",
     "checksum": "2f09ec6cdd24e078b67547fb249b7fbb",
     "grade": false,
     "grade_id": "cell-9fe8fedbf0be5303",
     "locked": true,
     "schema_version": 3,
     "solution": false,
     "task": false
    }
   },
   "outputs": [],
   "source": [
    "%reload_ext jupyter-rdfify"
   ]
  },
  {
   "cell_type": "code",
   "execution_count": null,
   "metadata": {
    "deletable": false,
    "editable": false,
    "nbgrader": {
     "cell_type": "code",
     "checksum": "b821bf2ee37d1ca0fddf6fbd93482e7b",
     "grade": false,
     "grade_id": "cell-bf282f59ed94077c",
     "locked": true,
     "schema_version": 3,
     "solution": false,
     "task": false
    }
   },
   "outputs": [],
   "source": [
    "# This cell defines some helpers, imports and strings for tests. Run it!\n",
    "from rdflib import Variable, URIRef, Literal, XSD\n",
    "s = \"http://example.org/subjects#{}\"\n",
    "p = \"http://example.org/properties#{}\"\n",
    "c = \"http://example.org/classes#{}\"\n",
    "lab = \"http://www.w3.org/2000/01/rdf-schema#label\"\n",
    "err = \"Your query gave no result.\"\n",
    "\n",
    "def project(bindings, variables):\n",
    "    result = list()\n",
    "    for binding in bindings:\n",
    "        result.append(binding.project(variables))\n",
    "    return result\n",
    "\n",
    "def bindingToString(binding):\n",
    "    res = \"\"\n",
    "    for var in binding:\n",
    "        res += f\"{var.n3()} -> {binding[var].n3()}\\n\"\n",
    "    return res\n",
    "\n",
    "def lenCheck(bindings, length, msg=None):\n",
    "    assert len(bindings) == length, \\\n",
    "        f\"Your query returned the wrong number of results. It returned {len(bindings)} but should have returned {length}.\\n\" \\\n",
    "        + (msg if msg is not None else \"\")\n",
    "    \n",
    "def exCheck(bindings, binding):\n",
    "    assert binding in bindings, \\\n",
    "        f\"Your result is missing the following binding:\\n{bindingToString(binding)}\"\n",
    "    \n",
    "def bindCheck(bindings, pos, binding):\n",
    "    assert(bindings[pos] == binding), \\\n",
    "        f\"\"\"The result of your query has the wrong binding in position {pos}.\n",
    "            Expected binding:\\n{bindingToString(binding)}\n",
    "            Your binding:\\n{bindingToString(bindings[pos])}\"\"\"\n",
    "    \n",
    "def uri(prefix, name):\n",
    "    return URIRef(prefix.format(name))"
   ]
  },
  {
   "cell_type": "markdown",
   "metadata": {
    "deletable": false,
    "editable": false,
    "nbgrader": {
     "cell_type": "markdown",
     "checksum": "308bf49c1b0b7677b1f29e51a78a4e35",
     "grade": false,
     "grade_id": "cell-fdab9b2c8cff6b35",
     "locked": true,
     "schema_version": 3,
     "solution": false,
     "task": false
    }
   },
   "source": [
    "# Task 1: RDF Graph of Relations and Professions [24 Points]"
   ]
  },
  {
   "cell_type": "markdown",
   "metadata": {
    "deletable": false,
    "editable": false,
    "nbgrader": {
     "cell_type": "markdown",
     "checksum": "6b6cf761a3b337a44c0c204e92ac2bab",
     "grade": false,
     "grade_id": "cell-49030e310ec61f8f",
     "locked": true,
     "schema_version": 3,
     "solution": false,
     "task": false
    }
   },
   "source": [
    "## Create an RDF graph that represents familial relationships and professions of individuals, in Turtle format (Do not forget the language tags): \n",
    "\n",
    "\n",
    "### Given the following 48 statements:\n",
    "\n",
    "\n",
    "\"Theodor Johnson, associated with the URI http://example.org/Theodor, is called Theodor Johnson of type String.\"\n",
    "\n",
    "\"Jane Smith, associated with the URI http://example.org/Jane, is called Jane Smith of type String.\"\n",
    "\n",
    "\"Max Kissinger, associated with the URI http://example.org/Max, is called Max Kissinger of type String.\"\n",
    "\n",
    "\"Patricia McJames, associated with the URI http://example.org/Patricia, is called Patricia McJames of type String.\"\n",
    "\n",
    "\"Emily Wilson, associated with the URI http://example.org/Emily, is called Emily Wilson of type String.\"\n",
    "\n",
    "\"David White, associated with the URI http://example.org/David, is called David White of type String.\"\n",
    "\n",
    "\"Alex Turner, associated with the URI http://example.org/Alex, is called Alex Turner of type String.\"\n",
    "\n",
    "\"Sophia Lee, associated with the URI http://example.org/Sophia, is called Sophia Lee of type String.\"\n",
    "\n",
    "\"William Adams, associated with the URI http://example.org/William, is called William Adams of type String.\"\n",
    "\n",
    "\"Emma Brown, associated with the URI http://example.org/Emma, is called Emma Brown of type String.\"\n",
    "\n",
    "\"Theodor Johnson, associated with the URI http://example.org/Theodor, is a Doctor in English.\"\n",
    "\n",
    "\"Jane Smith, associated with the URI http://example.org/Jane, is an Engineer in English.\"\n",
    "\n",
    "\"Max Kissinger, associated with the URI http://example.org/Max, is a Teacher in English.\"\n",
    "\n",
    "\"Patricia McJames, associated with the URI http://example.org/Patricia, is a Nurse in English.\"\n",
    "\n",
    "\"Emily Wilson, associated with the URI http://example.org/Emily, is an Artist in English.\"\n",
    "\n",
    "\"David White, associated with the URI http://example.org/David, is a Lawyer in English.\"\n",
    "\n",
    "\"Alex Turner, associated with the URI http://example.org/Alex, is a Chef in English.\"\n",
    "\n",
    "\"Sophia Lee, associated with the URI http://example.org/Sophia, is an Architect in English.\"\n",
    "\n",
    "\"William Adams, associated with the URI http://example.org/William, is an Engineer in English.\"\n",
    "\n",
    "\"Emma Brown, associated with the URI http://example.org/Emma, is a Teacher in English.\"\n",
    "\n",
    "\"Theodor Johnson, associated with the URI http://example.org/Theodor, is married to Jane Smith (URI http://example.org/Jane ).\"\n",
    "\n",
    "\"Jane Smith, associated with the URI http://example.org/Jane, is married to Theodor Johnson (URI http://example.org/Theodor ).\"\n",
    "\n",
    "\"Theodor Johnson, associated with the URI http://example.org/Theodor, is a parent of Max Kissinger (URI http://example.org/Max ).\"\n",
    "\n",
    "\"Jane Smith, associated with the URI http://example.org/Jane, is a parent of Max Kissinger (URI http://example.org/Max ).\"\n",
    "\n",
    "\"Theodor Johnson, associated with the URI http://example.org/Theodor, is a grandparent of Emily Wilson (URI http://example.org/Emily ).\"\n",
    "\n",
    "\"Jane Smith, associated with the URI http://example.org/Jane, is a grandparent of Emily Wilson (URI http://example.org/Emily ).\"\n",
    "\n",
    "\"Max Kissinger, associated with the URI http://example.org/Max, is married to Patricia McJames (URI http://example.org/Patricia ).\"\n",
    "\n",
    "\"Patricia McJames, associated with the URI http://example.org/Patricia, is married to Max Kissinger (URI http://example.org/Max ).\"\n",
    "\n",
    "\"Max Kissinger, associated with the URI http://example.org/Max, is a parent of David White (URI http://example.org/David ).\"\n",
    "\n",
    "\"Patricia McJames, associated with the URI http://example.org/Patricia, is a parent of David White (URI http://example.org/David ).\"\n",
    "\n",
    "\"Patricia McJames, associated with the URI http://example.org/Patricia, is a grandparent of Alex Turner (URI http://example.org/Alex ).\"\n",
    "\n",
    "\"Max Kissinger, associated with the URI http://example.org/Max, is a grandparent of Alex Turner (URI http://example.org/Alex ).\"\n",
    "\n",
    "#### For the following statements, you do not need language tags or the String type:\n",
    "\n",
    "\"Theodor Johnson, associated with the URI http://example.org/Theodor, is a native of New York.\"\n",
    "\n",
    "\"Jane Smith, associated with the URI http://example.org/Jane, is a native of Paris.\"\n",
    "\n",
    "\"Max Kissinger, associated with the URI http://example.org/Max, enjoys playing the guitar as a hobby.\"\n",
    "\n",
    "\"Patricia McJames, associated with the URI http://example.org/Patricia, is an avid gardener.\"\n",
    "\n",
    "\"Emily Wilson, associated with the URI http://example.org/Emily, has a talent for painting.\"\n",
    "\n",
    "\"David White, associated with the URI http://example.org/David, is a volunteer at a local animal shelter.\"\n",
    "\n",
    "\"Alex Turner, associated with the URI http://example.org/Alex, is a certified scuba diver.\"\n",
    "\n",
    "\"Sophia Lee, associated with the URI http://example.org/Sophia, is a passionate environmentalist.\"\n",
    "\n",
    "\"William Adams, associated with the URI http://example.org/William, is interested in technology.\"\n",
    "\n",
    "\"Emma Brown, associated with the URI http://example.org/Emma, enjoys cooking and experimenting with new recipes as a hobby.\"\n",
    "\n",
    "\"Theodor Johnson, associated with the URI http://example.org/Theodor, has traveled to over 20 countries.\"\n",
    "\n",
    "\"Jane Smith, associated with the URI http://example.org/Jane, is a published author of a best-selling novel.\"\n",
    "\n",
    "\"Max Kissinger, associated with the URI http://example.org/Max, is an advocate for children's education.\"\n",
    "\n",
    "\"Patricia McJames, associated with the URI http://example.org/Patricia, is a certified yoga instructor.\"\n",
    "\n",
    "\"Emily Wilson, associated with the URI http://example.org/Emily, is a competitive chess player.\"\n",
    "\n",
    "\"David White, associated with the URI http://example.org/David, is an active member of the local theater group.\"\n",
    "\n",
    "\n",
    "## Use the following URIs (These are all URIs/Literals you need!):  \n",
    "\n",
    "\n",
    "**Important notes**: \n",
    "- 1. Do not use or define **prefixes** \n",
    "- 2. Unless explicitly specified, make sure the RDF graph does not contain additional information.\n",
    "- 3. Overall there should be **48 Triples**.\n",
    "- 4. Each item below appears at least once.\n",
    "- 5. Check for Typos!\n",
    "\n",
    "<hr>\n",
    "\n",
    "- <http://www.w3.org/2001/XMLSchema#string>\n",
    "\n",
    "<hr>\n",
    "\n",
    "- <http://example.org/Theodor>\n",
    "- <http://example.org/Jane>\n",
    "- <http://example.org/Max>\n",
    "- <http://example.org/Patricia>\n",
    "- <http://example.org/Emily>\n",
    "- <http://example.org/David>\n",
    "- <http://example.org/Alex>\n",
    "- <http://example.org/Sophia>\n",
    "- <http://example.org/William>\n",
    "- <http://example.org/Emma>\n",
    "\n",
    "<hr>\n",
    "\n",
    "- <http://example.org/Name>\n",
    "- <http://example.org/Profession>\n",
    "- <http://example.org/SpouseOf>\n",
    "- <http://example.org/ParentOf>\n",
    "- <http://example.org/GrandparentOf>\n",
    "- <http://example.org/NativeOf>\n",
    "- <http://example.org/Hobby>\n",
    "- <http://example.org/Talent>\n",
    "- <http://example.org/Volunteer>\n",
    "- <http://example.org/Certification>\n",
    "- <http://example.org/Passion>\n",
    "- <http://example.org/Interest>\n",
    "- <http://example.org/TraveledTo>\n",
    "- <http://example.org/AuthorOf>\n",
    "- <http://example.org/AdvocateFor>\n",
    "- <http://example.org/CompetitivePlayer>\n",
    "- <http://example.org/TheaterInvolvement>\n",
    "\n",
    "<hr>\n",
    "\n",
    "- \"Theodor Johnson\"\n",
    "- \"Jane Smith\"\n",
    "- \"Max Kissinger\"\n",
    "- \"Patricia McJames\"\n",
    "- \"Emily Wilson\"\n",
    "- \"David White\"\n",
    "- \"Alex Turner\"\n",
    "- \"Sophia Lee\"\n",
    "- \"William Adams\"\n",
    "- \"Emma Brown\"\n",
    "- \"Doctor\"\n",
    "- \"Engineer\"\n",
    "- \"Teacher\"\n",
    "- \"Nurse\"\n",
    "- \"Artist\"\n",
    "- \"Lawyer\"\n",
    "- \"Chef\"\n",
    "- \"Architect\"\n",
    "- \"New York\"\n",
    "- \"Paris\"\n",
    "- \"Playing the guitar\"\n",
    "- \"Avid gardener\"\n",
    "- \"Painting\"\n",
    "- \"Local animal shelter\"\n",
    "- \"Certified scuba diver\"\n",
    "- \"Environmentalism\"\n",
    "- \"Technology\"\n",
    "- \"Cooking and experimenting with new recipes\"\n",
    "- \"Over 20 countries\"\n",
    "- \"Best-selling novel\"\n",
    "- \"Children's education\"\n",
    "- \"Certified yoga instructor\"\n",
    "- \"Chess\"\n",
    "- \"Local theater group\"\n",
    "\n",
    "<hr>"
   ]
  },
  {
   "cell_type": "code",
   "execution_count": null,
   "metadata": {
    "deletable": false,
    "nbgrader": {
     "cell_type": "code",
     "checksum": "9751249c5d9adba6e4a36b0cb5639596",
     "grade": false,
     "grade_id": "cell-22941a8278e76eb5",
     "locked": false,
     "schema_version": 3,
     "solution": true,
     "task": false
    }
   },
   "outputs": [],
   "source": [
    "%%rdf turtle -l sw \n",
    "# YOUR CODE HERE\n",
    "raise NotImplementedError()"
   ]
  },
  {
   "cell_type": "code",
   "execution_count": null,
   "metadata": {
    "deletable": false,
    "editable": false,
    "nbgrader": {
     "cell_type": "code",
     "checksum": "6df6365ff0488ff749adf9e6c585744d",
     "grade": true,
     "grade_id": "cell-f77f06eb0c44ae7f",
     "locked": true,
     "points": 24,
     "schema_version": 3,
     "solution": false,
     "task": false
    }
   },
   "outputs": [],
   "source": [
    "# This test will check whether your graph is minimally complete and correct and does not contain additional triples. [24 points]"
   ]
  },
  {
   "cell_type": "markdown",
   "metadata": {
    "deletable": false,
    "editable": false,
    "nbgrader": {
     "cell_type": "markdown",
     "checksum": "b42bc0866f8e8af00f1523f301fec906",
     "grade": false,
     "grade_id": "cell-b4d4157db875677d",
     "locked": true,
     "schema_version": 3,
     "solution": false,
     "task": false
    }
   },
   "source": [
    "# Task 2: Using prefixes [6 Points]\n",
    "This task is about representing the same RDF graph using prefixes, followed by checking for: i) mandatory prefixes, ii) correctness. "
   ]
  },
  {
   "cell_type": "markdown",
   "metadata": {
    "deletable": false,
    "editable": false,
    "nbgrader": {
     "cell_type": "markdown",
     "checksum": "11a0278b46e87d85a9d4f1e039517b5c",
     "grade": false,
     "grade_id": "cell-38875858cc548c94",
     "locked": true,
     "schema_version": 3,
     "solution": false,
     "task": false
    }
   },
   "source": [
    "## Create the **SAME (!)** RDF graph as in 1a) but using compacted URIs (aka. CURIEs) by introducing following abbreviations:  \n",
    "- Abbreviate http://example.org/ to **ex:**  \n",
    "- Abbreviate http://www.w3.org/2001/XMLSchema# to **xsd:** \n",
    "\n",
    "**Important notes**: \n",
    "- Use the defined prefixes whenever applicable\n",
    "- You are allowed and even encouraged to define/use as many prefixes as you want in this and subsequent tasks/assignments.\n",
    "\n",
    "**Tip**: Just copy and paste your solution from 1a) in the cell below. After that, replace the URIs with the CURIEs mentioned above."
   ]
  },
  {
   "cell_type": "code",
   "execution_count": null,
   "metadata": {
    "deletable": false,
    "nbgrader": {
     "cell_type": "code",
     "checksum": "07bccd6559f585e7647e5e349f836607",
     "grade": false,
     "grade_id": "cell-6be81edaa3494967",
     "locked": false,
     "schema_version": 3,
     "solution": true,
     "task": false
    }
   },
   "outputs": [],
   "source": [
    "%%rdf turtle -l sw_abbr\n",
    "\n",
    "# YOUR CODE HERE\n",
    "raise NotImplementedError()"
   ]
  },
  {
   "cell_type": "code",
   "execution_count": null,
   "metadata": {
    "deletable": false,
    "editable": false,
    "nbgrader": {
     "cell_type": "code",
     "checksum": "6d505c3f70b9a000e95c8c184d13ef20",
     "grade": true,
     "grade_id": "cell-7f4106c82420099f",
     "locked": true,
     "points": 2,
     "schema_version": 3,
     "solution": false,
     "task": false
    }
   },
   "outputs": [],
   "source": [
    "### This test will check whether the same graph using CURIEs contains same number of triples. [2 point]"
   ]
  },
  {
   "cell_type": "code",
   "execution_count": null,
   "metadata": {
    "deletable": false,
    "editable": false,
    "nbgrader": {
     "cell_type": "code",
     "checksum": "dac786c9c84b3c8249d66a94656bf35d",
     "grade": true,
     "grade_id": "cell-68c2fd0def8195b7",
     "locked": true,
     "points": 2,
     "schema_version": 3,
     "solution": false,
     "task": false
    }
   },
   "outputs": [],
   "source": [
    "# This test will check whether you defined all mandatory prefixes (1) [2 point]"
   ]
  },
  {
   "cell_type": "code",
   "execution_count": null,
   "metadata": {
    "deletable": false,
    "editable": false,
    "nbgrader": {
     "cell_type": "code",
     "checksum": "bce6447094f7fbc12acaa90d4819519b",
     "grade": true,
     "grade_id": "cell-ecf3579c4e17b651",
     "locked": true,
     "points": 2,
     "schema_version": 3,
     "solution": false,
     "task": false
    }
   },
   "outputs": [],
   "source": [
    "# This test will check whether you defined all mandatory prefixes (2) [2 point]"
   ]
  },
  {
   "cell_type": "markdown",
   "metadata": {
    "deletable": false,
    "editable": false,
    "nbgrader": {
     "cell_type": "markdown",
     "checksum": "83c99b604972447be9d08c1ac1067563",
     "grade": false,
     "grade_id": "cell-548c736b85e7bb26",
     "locked": true,
     "schema_version": 3,
     "solution": false,
     "task": false
    }
   },
   "source": [
    "# Task 3 - Blank Nodes [4 Points]"
   ]
  },
  {
   "cell_type": "markdown",
   "metadata": {
    "deletable": false,
    "editable": false,
    "nbgrader": {
     "cell_type": "markdown",
     "checksum": "8f74bc3605a3dc4158393514ed1e5692",
     "grade": false,
     "grade_id": "cell-b6268b05b941f672",
     "locked": true,
     "schema_version": 3,
     "solution": false,
     "task": false
    }
   },
   "source": [
    "## Consider the following information:  "
   ]
  },
  {
   "cell_type": "markdown",
   "metadata": {
    "deletable": false,
    "editable": false,
    "nbgrader": {
     "cell_type": "markdown",
     "checksum": "9e2f8d27881f2d6f2ad40febae42e9bd",
     "grade": false,
     "grade_id": "cell-a82d6f9fd84542cf",
     "locked": true,
     "schema_version": 3,
     "solution": false,
     "task": false
    }
   },
   "source": [
    "There is a visitor, who has no identifier. She visits a museum with the label \"Bundeskunsthalle\". Another visitor, who has also no identifier, also visits that museum. The second visitor has an interest in a painting, which has no identifier. The painting is located on the second floor (i.e. floor Number \"2\"), in room number \"5\"."
   ]
  },
  {
   "cell_type": "markdown",
   "metadata": {
    "deletable": false,
    "editable": false,
    "nbgrader": {
     "cell_type": "markdown",
     "checksum": "727d99f25164c8ce82941a2f11900232",
     "grade": false,
     "grade_id": "cell-c2bdc8729c2254c1",
     "locked": true,
     "schema_version": 3,
     "solution": false,
     "task": false
    }
   },
   "source": [
    "Use Turtle to model these information. Note that you need three **Blank Nodes** and one **n-ary relation modeled with a Blank Node**. You have to use the following **vocabulary** and **prefixes** (case sensitivity!):"
   ]
  },
  {
   "cell_type": "markdown",
   "metadata": {
    "deletable": false,
    "editable": false,
    "nbgrader": {
     "cell_type": "markdown",
     "checksum": "bd3578a2fd05874a318d29fb5b8e82ed",
     "grade": false,
     "grade_id": "cell-9226c123cab5494d",
     "locked": true,
     "schema_version": 3,
     "solution": false,
     "task": false
    }
   },
   "source": [
    "* **Type**: rdf:type\n",
    "* **Label**: rdfs:label\n",
    "* **Museum**: cl:Museum\n",
    "* **Bundeskunsthalle**: ex:bundeskunsthalle\n",
    "* **Painting**: cl:Painting\n",
    "* **Visitor**: cl:Visitor\n",
    "* **visits**: prop:visits\n",
    "* **has an interest in**: prop:interestIn\n",
    "* **located in**: prop:hasLocation\n",
    "* **floorNumber**: prop:floor\n",
    "* **roomNumber**: prop:room"
   ]
  },
  {
   "cell_type": "code",
   "execution_count": null,
   "metadata": {
    "deletable": false,
    "nbgrader": {
     "cell_type": "code",
     "checksum": "acf240d4093d8224f7f470b766eb845b",
     "grade": false,
     "grade_id": "cell-296868a84ac5b736",
     "locked": false,
     "schema_version": 3,
     "solution": true,
     "task": false
    }
   },
   "outputs": [],
   "source": [
    "%%rdf turtle -l museum\n",
    "\n",
    "@prefix rdf: <http://www.w3.org/1999/02/22-rdf-syntax-ns#> .\n",
    "@prefix rdfs: <http://www.w3.org/2000/01/rdf-schema#> .\n",
    "@prefix cl: <http://example.org/classes#> .\n",
    "@prefix prop: <http://example.org/properties#> .\n",
    "@prefix ex: <http://example.org/instances#> .\n",
    "\n",
    "# YOUR CODE HERE\n",
    "raise NotImplementedError()"
   ]
  },
  {
   "cell_type": "code",
   "execution_count": null,
   "metadata": {
    "deletable": false,
    "editable": false,
    "nbgrader": {
     "cell_type": "code",
     "checksum": "2795cb579bac7a705c38a0eb60992c13",
     "grade": true,
     "grade_id": "cell-eebe34773c89819d",
     "locked": true,
     "points": 2,
     "schema_version": 3,
     "solution": false,
     "task": false
    }
   },
   "outputs": [],
   "source": [
    "# This Test checks whether you have used Blank Nodes and modelled the Visitor correctly. [2 point]"
   ]
  },
  {
   "cell_type": "code",
   "execution_count": null,
   "metadata": {
    "deletable": false,
    "editable": false,
    "nbgrader": {
     "cell_type": "code",
     "checksum": "93c4e4df332aa850dbf123f8616a702a",
     "grade": true,
     "grade_id": "cell-8d891d1e69ddd829",
     "locked": true,
     "points": 1,
     "schema_version": 3,
     "solution": false,
     "task": false
    }
   },
   "outputs": [],
   "source": [
    "# This test checks whether you have modelled the museum correctly. [1 point]"
   ]
  },
  {
   "cell_type": "code",
   "execution_count": null,
   "metadata": {
    "deletable": false,
    "editable": false,
    "nbgrader": {
     "cell_type": "code",
     "checksum": "2948c88a8b65cbf4b6204d4d03aecd47",
     "grade": true,
     "grade_id": "cell-3e702b4d00d4f873",
     "locked": true,
     "points": 1,
     "schema_version": 3,
     "solution": false,
     "task": false
    }
   },
   "outputs": [],
   "source": [
    "# This test checks whether you have modelled the location relation correctly. [1 point]"
   ]
  },
  {
   "cell_type": "code",
   "execution_count": null,
   "metadata": {},
   "outputs": [],
   "source": []
  }
 ],
 "metadata": {
  "kernelspec": {
   "display_name": "Python 3 (ipykernel)",
   "language": "python",
   "name": "python3"
  },
  "language_info": {
   "codemirror_mode": {
    "name": "ipython",
    "version": 3
   },
   "file_extension": ".py",
   "mimetype": "text/x-python",
   "name": "python",
   "nbconvert_exporter": "python",
   "pygments_lexer": "ipython3",
   "version": "3.10.12"
  },
  "latex_envs": {
   "LaTeX_envs_menu_present": true,
   "autoclose": false,
   "autocomplete": true,
   "bibliofile": "biblio.bib",
   "cite_by": "apalike",
   "current_citInitial": 1,
   "eqLabelWithNumbers": true,
   "eqNumInitial": 1,
   "hotkeys": {
    "equation": "Ctrl-E",
    "itemize": "Ctrl-I"
   },
   "labels_anchors": false,
   "latex_user_defs": false,
   "report_style_numbering": false,
   "user_envs_cfg": false
  },
  "varInspector": {
   "cols": {
    "lenName": 16,
    "lenType": 16,
    "lenVar": 40
   },
   "kernels_config": {
    "python": {
     "delete_cmd_postfix": "",
     "delete_cmd_prefix": "del ",
     "library": "var_list.py",
     "varRefreshCmd": "print(var_dic_list())"
    },
    "r": {
     "delete_cmd_postfix": ") ",
     "delete_cmd_prefix": "rm(",
     "library": "var_list.r",
     "varRefreshCmd": "cat(var_dic_list()) "
    }
   },
   "types_to_exclude": [
    "module",
    "function",
    "builtin_function_or_method",
    "instance",
    "_Feature"
   ],
   "window_display": false
  }
 },
 "nbformat": 4,
 "nbformat_minor": 4
}
